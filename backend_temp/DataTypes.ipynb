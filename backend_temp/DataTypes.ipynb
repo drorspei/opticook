{
 "cells": [
  {
   "cell_type": "code",
   "execution_count": 1,
   "id": "02e21b1e",
   "metadata": {},
   "outputs": [],
   "source": [
    "from typing import List, Dict\n",
    "\n",
    "class BasicTask:\n",
    "    def __init__(self, name: str, time_estimate: float):\n",
    "        self.name = name\n",
    "        self.time_estimate = time_estimate\n",
    "\n",
    "    def __repr__(self):\n",
    "        return f\"BasicTask(name={self.name!r}, time_estimate={self.time_estimate!r})\"\n",
    "\n",
    "class Chef:\n",
    "    def __init__(self, name: str, personal_time_estimates: Dict[str, float]):\n",
    "        self.name = name\n",
    "        self.personal_time_estimates = personal_time_estimates\n",
    "\n",
    "    def __repr__(self):\n",
    "        return f\"Chef(name={self.name!r}, personal_time_estimates={self.personal_time_estimates!r})\"\n",
    "\n",
    "class Instruction:\n",
    "    def __init__(self, chef: 'Chef', description: str, time: float):\n",
    "        self.chef = chef\n",
    "        self.description = description\n",
    "        self.time = time\n",
    "\n",
    "    def __repr__(self):\n",
    "        return f\"Instruction(chef={self.chef!r}, description={self.description!r}, time={self.time!r})\"\n",
    "\n",
    "class Session:\n",
    "    def __init__(self,\n",
    "                 past_instructions: List['Instruction'] = None,\n",
    "                 current_instructions: List['Instruction'] = None,\n",
    "                 future_instructions: List['Instruction'] = None):\n",
    "        self.past_instructions = past_instructions if past_instructions is not None else []\n",
    "        self.current_instructions = current_instructions if current_instructions is not None else []\n",
    "        self.future_instructions = future_instructions if future_instructions is not None else []\n",
    "\n",
    "    def __repr__(self):\n",
    "        return (f\"Session(past_instructions={self.past_instructions!r}, \"\n",
    "                f\"current_instructions={self.current_instructions!r}, \"\n",
    "                f\"future_instructions={self.future_instructions!r})\")"
   ]
  },
  {
   "cell_type": "code",
   "execution_count": 2,
   "id": "a6e5fd87",
   "metadata": {},
   "outputs": [
    {
     "name": "stdout",
     "output_type": "stream",
     "text": [
      "Session(past_instructions=[], current_instructions=[Instruction(chef=Chef(name='Alice', personal_time_estimates={'Chop onions': 60, 'Boil water': 120}), description='Chop onions', time=60)], future_instructions=[Instruction(chef=Chef(name='Bob', personal_time_estimates={'Chop onions': 90, 'Boil water': 100}), description='Boil water', time=100)])\n"
     ]
    }
   ],
   "source": [
    "alice = Chef(\"Alice\", {\"Chop onions\": 60, \"Boil water\": 120})\n",
    "bob = Chef(\"Bob\", {\"Chop onions\": 90, \"Boil water\": 100})\n",
    "\n",
    "inst1 = Instruction(alice, \"Chop onions\", 60)\n",
    "inst2 = Instruction(bob, \"Boil water\", 100)\n",
    "\n",
    "session = Session(\n",
    "    past_instructions=[],\n",
    "    current_instructions=[inst1],\n",
    "    future_instructions=[inst2]\n",
    ")\n",
    "\n",
    "print(session)"
   ]
  },
  {
   "cell_type": "code",
   "execution_count": null,
   "id": "45e5fdce",
   "metadata": {},
   "outputs": [],
   "source": []
  }
 ],
 "metadata": {
  "kernelspec": {
   "display_name": "Python 3 (ipykernel)",
   "language": "python",
   "name": "python3"
  },
  "language_info": {
   "codemirror_mode": {
    "name": "ipython",
    "version": 3
   },
   "file_extension": ".py",
   "mimetype": "text/x-python",
   "name": "python",
   "nbconvert_exporter": "python",
   "pygments_lexer": "ipython3",
   "version": "3.11.5"
  }
 },
 "nbformat": 4,
 "nbformat_minor": 5
}
