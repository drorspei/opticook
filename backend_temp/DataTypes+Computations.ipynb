{
 "cells": [
  {
   "cell_type": "code",
   "execution_count": 2,
   "id": "02e21b1e",
   "metadata": {},
   "outputs": [],
   "source": [
    "#### DATA TYPES ####"
   ]
  },
  {
   "cell_type": "code",
   "execution_count": null,
   "id": "2a5226fa-e794-4ea1-a72e-b79ad0470cc6",
   "metadata": {},
   "outputs": [],
   "source": []
  },
  {
   "cell_type": "code",
   "execution_count": 66,
   "id": "6c47572e-c471-4161-be88-544a9860fb07",
   "metadata": {},
   "outputs": [],
   "source": [
    "# @dataclasses.dataclass(stuff)\n",
    "class foo:\n",
    "    # bar: List[int] = []\n",
    "    baz: int = []\n",
    "\n",
    "# a = foo() # bar = []\n",
    "# a.bar.append(1) # bar [1]\n",
    "# b = foo() # bar [1]\n",
    "# print(b.bar)"
   ]
  },
  {
   "cell_type": "code",
   "execution_count": 68,
   "id": "924d57d7-4983-4e9f-b71c-22a1ae6352f0",
   "metadata": {},
   "outputs": [
    {
     "data": {
      "text/plain": [
       "{'baz': int}"
      ]
     },
     "execution_count": 68,
     "metadata": {},
     "output_type": "execute_result"
    }
   ],
   "source": [
    "foo.__annotations__"
   ]
  },
  {
   "cell_type": "code",
   "execution_count": 70,
   "id": "0cae6416-8167-4a2b-8c89-a79c0e694f7a",
   "metadata": {},
   "outputs": [
    {
     "data": {
      "text/plain": [
       "3"
      ]
     },
     "execution_count": 70,
     "metadata": {},
     "output_type": "execute_result"
    }
   ],
   "source": [
    "foo.baz"
   ]
  },
  {
   "cell_type": "code",
   "execution_count": null,
   "id": "f861732e-05ce-46c6-b52c-5064e9a0f61d",
   "metadata": {},
   "outputs": [],
   "source": [
    "globals()"
   ]
  },
  {
   "cell_type": "code",
   "execution_count": 93,
   "id": "905e41ae-12c6-405f-abb2-ff82d3c7279d",
   "metadata": {},
   "outputs": [
    {
     "data": {
      "text/plain": [
       "False"
      ]
     },
     "execution_count": 93,
     "metadata": {},
     "output_type": "execute_result"
    }
   ],
   "source": [
    "locals() is globals()"
   ]
  },
  {
   "cell_type": "code",
   "execution_count": 94,
   "id": "e2cdbe99-3381-4780-9695-728de2da1f3c",
   "metadata": {},
   "outputs": [
    {
     "data": {
      "text/plain": [
       "ipython_autoimport._AutoImporterMap"
      ]
     },
     "execution_count": 94,
     "metadata": {},
     "output_type": "execute_result"
    }
   ],
   "source": [
    "type(locals())"
   ]
  },
  {
   "cell_type": "code",
   "execution_count": 95,
   "id": "cb9fc814-fb45-4cda-a2a8-e504c4d31a0d",
   "metadata": {},
   "outputs": [
    {
     "data": {
      "text/plain": [
       "dict"
      ]
     },
     "execution_count": 95,
     "metadata": {},
     "output_type": "execute_result"
    }
   ],
   "source": [
    "type(globals())"
   ]
  },
  {
   "cell_type": "code",
   "execution_count": 89,
   "id": "e35f2e1a-aadc-46f2-8c8f-ec55a6d41929",
   "metadata": {},
   "outputs": [],
   "source": [
    "def new(a: 1=[]):\n",
    "    a.append(1)\n",
    "    print(a)"
   ]
  },
  {
   "cell_type": "code",
   "execution_count": 90,
   "id": "40a30bd4-a388-4648-a1f3-8e07ab27c68f",
   "metadata": {},
   "outputs": [
    {
     "data": {
      "text/plain": [
       "{'a': 1}"
      ]
     },
     "execution_count": 90,
     "metadata": {},
     "output_type": "execute_result"
    }
   ],
   "source": [
    "new.__annotations__"
   ]
  },
  {
   "cell_type": "code",
   "execution_count": 79,
   "id": "5d6e76ee-ad7e-4e9a-8e0c-e1d126ee5784",
   "metadata": {},
   "outputs": [],
   "source": [
    "name: str"
   ]
  },
  {
   "cell_type": "code",
   "execution_count": 80,
   "id": "ce09be37-dab6-4086-8ba8-4d079228c72d",
   "metadata": {},
   "outputs": [
    {
     "data": {
      "text/plain": [
       "{'name': str, 'foo': int}"
      ]
     },
     "execution_count": 80,
     "metadata": {},
     "output_type": "execute_result"
    }
   ],
   "source": [
    "__builtins__.__annotations__"
   ]
  },
  {
   "cell_type": "code",
   "execution_count": 78,
   "id": "1b123e7f-22cd-463c-a0f6-76b53c58cdb2",
   "metadata": {},
   "outputs": [
    {
     "ename": "KeyError",
     "evalue": "'__annotations__'",
     "output_type": "error",
     "traceback": [
      "\u001b[31m---------------------------------------------------------------------------\u001b[39m",
      "\u001b[31mKeyError\u001b[39m                                  Traceback (most recent call last)",
      "\u001b[36mCell\u001b[39m\u001b[36m \u001b[39m\u001b[32mIn[78]\u001b[39m\u001b[32m, line 1\u001b[39m\n\u001b[32m----> \u001b[39m\u001b[32m1\u001b[39m \u001b[38;5;28;43mglobals\u001b[39;49m\u001b[43m(\u001b[49m\u001b[43m)\u001b[49m\u001b[43m[\u001b[49m\u001b[33;43m'\u001b[39;49m\u001b[33;43m__annotations__\u001b[39;49m\u001b[33;43m'\u001b[39;49m\u001b[43m]\u001b[49m\n",
      "\u001b[31mKeyError\u001b[39m: '__annotations__'"
     ]
    }
   ],
   "source": [
    "globals()['__annotations__']"
   ]
  },
  {
   "cell_type": "code",
   "execution_count": 72,
   "id": "fa9320dd-ef0e-44cc-98f2-456537657caa",
   "metadata": {},
   "outputs": [
    {
     "name": "stdout",
     "output_type": "stream",
     "text": [
      "[1]\n"
     ]
    }
   ],
   "source": [
    "new() # prints [1]"
   ]
  },
  {
   "cell_type": "code",
   "execution_count": 73,
   "id": "471895af-6a83-4be0-9776-c8ae29b93099",
   "metadata": {},
   "outputs": [
    {
     "name": "stdout",
     "output_type": "stream",
     "text": [
      "[1, 1]\n"
     ]
    }
   ],
   "source": [
    "new() # prints [1, 1]"
   ]
  },
  {
   "cell_type": "code",
   "execution_count": null,
   "id": "2b2e616e-7b5f-42ca-9a94-d958db4b21b4",
   "metadata": {},
   "outputs": [],
   "source": [
    "def make_new_class(cls):\n",
    "    class new:\n",
    "        def __init__(attr=cls.attr for attr in cls.__annotations__)\n",
    "    return new"
   ]
  },
  {
   "cell_type": "code",
   "execution_count": null,
   "id": "19d668a1-bdf5-4fb7-a6b0-a3f675e22b2b",
   "metadata": {},
   "outputs": [],
   "source": [
    "foo()"
   ]
  },
  {
   "cell_type": "code",
   "execution_count": 109,
   "id": "925aeca6-9f71-45ac-8dc8-70f7f2be8b7a",
   "metadata": {},
   "outputs": [
    {
     "data": {
      "text/plain": [
       "'None'"
      ]
     },
     "execution_count": 109,
     "metadata": {},
     "output_type": "execute_result"
    }
   ],
   "source": [
    "None.__repr__()"
   ]
  },
  {
   "cell_type": "code",
   "execution_count": 110,
   "id": "36f93802",
   "metadata": {},
   "outputs": [
    {
     "data": {
      "text/plain": [
       "\"\\n1. alice sees put eggs to boil\\n2. alice presses done!\\n3. alice sees chop carrots, and a 5 minute timer for eggs\\n4. alice presses done! (it took her 3 minutes, as expected, she's on time, she's the best.)\\n5. put carrots in oven, close door, doesn't have to be on.\\n6. alice sees just timers\\n7. alice hears egg timer goes off and sees take out eggs\\n8. alice dismisses timer and goes to sleep. fuck this recipe.\\n\""
      ]
     },
     "execution_count": 110,
     "metadata": {},
     "output_type": "execute_result"
    }
   ],
   "source": [
    "from typing import List, Dict, Optional, Tuple\n",
    "\n",
    "@dataclasses.dataclass\n",
    "class CookingInstruction:\n",
    "    index: int\n",
    "    task: str\n",
    "    duration: int\n",
    "    attention: bool\n",
    "    dependencies: Tuple[int] = ()\n",
    "\n",
    "@dataclasses.dataclass\n",
    "class ChefTask:\n",
    "    task_index: int\n",
    "    when_started: Optional[int]=None\n",
    "    when_dismissed: Optional[int]=None\n",
    "\n",
    "@dataclasses.dataclass\n",
    "class Session:\n",
    "    tasks: Tuple[CookingInstruction]\n",
    "    chef_tasks: Dict[str, Tuple[ChefTask, ...]]\n",
    "\n",
    "\"\"\"\n",
    "1. alice sees put eggs to boil\n",
    "2. alice presses done!\n",
    "3. alice sees chop carrots, and a 5 minute timer for eggs\n",
    "4. alice presses done! (it took her 3 minutes, as expected, she's on time, she's the best.)\n",
    "5. put carrots in oven, close door, doesn't have to be on.\n",
    "6. alice sees just timers\n",
    "7. alice hears egg timer goes off and sees take out eggs\n",
    "8. alice dismisses timer and goes to sleep. fuck this recipe.\n",
    "\"\"\""
   ]
  },
  {
   "cell_type": "code",
   "execution_count": null,
   "id": "5cb42d5f-dbc7-420c-8f5b-c55ca2ff8832",
   "metadata": {},
   "outputs": [],
   "source": []
  },
  {
   "cell_type": "code",
   "execution_count": 21,
   "id": "215cac3a-21c4-494f-9b03-d1902d6a1510",
   "metadata": {},
   "outputs": [],
   "source": [
    "def next_unstarted_instruction(session, chef) -> ??:\n",
    "    \"\"\"Return the index in the chef's tasks of the first unstarted instruction if exists, otherwise None\"\"\"\n",
    "    # single line!\n",
    "    raise NotImplementedError\n",
    "\n",
    "def advance_instruction_for_chef(session, chef, now):\n",
    "    i = next_unstarted_instruction(session, chef)\n",
    "    if i is None:\n",
    "        return session\n",
    "        \n",
    "    chef_tasks = {session.chef_tasks[chef2] for chef2 in sessions.chef_tasks if chef2 != chef}\n",
    "    chef_tasks[chef] = (\n",
    "        session.chefs[chef][0], session.chefs[chef][1][:i]\n",
    "        # fix this - what should be here??\n",
    "        + [ChefTask(\n",
    "                session.chefs[chef][1][i], now\n",
    "        )]\n",
    "        # also this is wrong:\n",
    "        + session.chefs[chef][1][i + 1:]\n",
    "    )\n",
    "    return Session(session.tasks, chef_tasks)\n",
    "\n",
    "def new_chef_joined(session, chef, now):\n",
    "    raise NotImplementedError\n",
    "\n",
    "def chef_leave(session, chef):\n",
    "    raise NotImplementedError\n",
    "\n",
    "def dismiss_timer(session, chef, now):\n",
    "    raise NotImplementedError\n",
    "\n",
    "def active_timers(session, chef) -> Tuple[ChefTask]:\n",
    "    raise NotImplementedError\n",
    "\n",
    "# and more"
   ]
  },
  {
   "cell_type": "code",
   "execution_count": 2,
   "id": "45e5fdce",
   "metadata": {},
   "outputs": [],
   "source": [
    "# Chefs\n",
    "alice = Chef(\"Alice\")\n",
    "bob = Chef(\"Bob\")\n",
    "\n",
    "# Instructions \n",
    "i1 = CookingInstruction(0, \"Chop onions\", 60, True, [])\n",
    "i2 = CookingInstruction(1, \"Boil water\", 120, False, [0])\n",
    "i3 = CookingInstruction(2, \"Saute onions\", 90, True, [0,1])\n",
    "\n",
    "# Assignment: index -> list of chef names\n",
    "assignments = {\n",
    "    0: [\"Alice\"],\n",
    "    1: [\"Bob\"],\n",
    "    2: [\"Alice\", \"Bob\"]  # both chefs for this instruction\n",
    "}\n",
    "\n",
    "# Session\n",
    "session = Session(\n",
    "    past=[i1],\n",
    "    present=[i2],\n",
    "    future=[i3],\n",
    "    chefs=[alice, bob],\n",
    "    assignments=assignments\n",
    ")"
   ]
  },
  {
   "cell_type": "code",
   "execution_count": 3,
   "id": "5d7f4c6f",
   "metadata": {
    "scrolled": true
   },
   "outputs": [
    {
     "data": {
      "text/plain": [
       "Session(past=[CookingInstruction(index=0, task='Chop onions', duration=60, attention=True, dependencies=[])], present=[CookingInstruction(index=1, task='Boil water', duration=120, attention=False, dependencies=[0])], future=[CookingInstruction(index=2, task='Saute onions', duration=90, attention=True, dependencies=[0, 1])], chefs=[Chef(name='Alice'), Chef(name='Bob')], assignments={0: ['Alice'], 1: ['Bob'], 2: ['Alice', 'Bob']})"
      ]
     },
     "execution_count": 3,
     "metadata": {},
     "output_type": "execute_result"
    }
   ],
   "source": [
    "session"
   ]
  },
  {
   "cell_type": "code",
   "execution_count": 4,
   "id": "b22dca43",
   "metadata": {},
   "outputs": [],
   "source": [
    "#### COMPUTATIONS ####\n"
   ]
  },
  {
   "cell_type": "code",
   "execution_count": 9,
   "id": "14ce1781",
   "metadata": {},
   "outputs": [],
   "source": [
    "def advance_instruction_for_chef(session, chef_name: str):\n",
    "    \"\"\"\n",
    "    Returns a new session where the given chef's current instruction(s) is(are) marked as past,\n",
    "    and their next future instruction (if all dependencies are met) moves to present.\n",
    "    \"\"\"\n",
    "    # Move present instruction for chef to past\n",
    "    new_past = session.past[:]\n",
    "    new_present = []\n",
    "    done_indices = {instr.index for instr in new_past}\n",
    "    \n",
    "    moved_index = None\n",
    "    for instr in session.present:\n",
    "        chefs_for_instr = session.assignments.get(instr.index, [])\n",
    "        if chef_name in chefs_for_instr and moved_index is None:\n",
    "            new_past.append(instr)\n",
    "            moved_index = instr.index\n",
    "        else:\n",
    "            new_present.append(instr)\n",
    "    done_indices = done_indices | ({moved_index} if moved_index is not None else set())\n",
    "\n",
    "    # Move the next future instruction for chef (if dependencies are met) to present\n",
    "    new_future = session.future[:]\n",
    "    added_instr = None\n",
    "    for i, instr in enumerate(new_future):\n",
    "        if chef_name in session.assignments.get(instr.index, []):\n",
    "            # Check dependencies are all in done_indices\n",
    "            if all(dep in done_indices for dep in instr.dependencies):\n",
    "                added_instr = instr\n",
    "                del new_future[i]\n",
    "                break\n",
    "    if added_instr:\n",
    "        new_present.append(added_instr)\n",
    "    \n",
    "    return Session(new_past, new_present, new_future, session.chefs[:], dict(session.assignments))"
   ]
  },
  {
   "cell_type": "code",
   "execution_count": 10,
   "id": "4bfb74c8",
   "metadata": {},
   "outputs": [],
   "source": [
    "def advance_instruction_for_chef(session, chef_name: str):\n",
    "    \"\"\" \n",
    "    Returns a new session where the given chef's current instruction(s) is(are) marked as past,\n",
    "    and their next future instruction (if all dependencies are met) moves to present.\n",
    "    \"\"\"\n",
    "    # Move present instruction for chef to past\n",
    "    new_past = session.past[:]\n",
    "    new_present = []\n",
    "    done_indices = {instr.index for instr in new_past}\n",
    "    \n",
    "    # Move chef's instruction from present to past; keep others in present\n",
    "    moved_index = None\n",
    "    for instr in session.present:\n",
    "        chefs_for_instr = session.assignments.get(instr.index, [])\n",
    "        if chef_name in chefs_for_instr and moved_index is None:\n",
    "            new_past.append(instr)\n",
    "            moved_index = instr.index\n",
    "        else:\n",
    "            new_present.append(instr)\n",
    "    done_indices = done_indices | ({moved_index} if moved_index is not None else set())\n",
    "\n",
    "    # Move the next future instruction for chef (if dependencies are met) to present\n",
    "    new_future = session.future[:]\n",
    "    added_instr = None\n",
    "    for i, instr in enumerate(new_future):\n",
    "        if chef_name in session.assignments.get(instr.index, []):\n",
    "            # Check dependencies are all in done_indices\n",
    "            if all(dep in done_indices for dep in instr.dependencies):\n",
    "                added_instr = instr\n",
    "                del new_future[i]\n",
    "                break\n",
    "    if added_instr:\n",
    "        new_present.append(added_instr)\n",
    "    \n",
    "    return Session(new_past, new_present, new_future, session.chefs[:], dict(session.assignments))"
   ]
  },
  {
   "cell_type": "code",
   "execution_count": 11,
   "id": "dea247ed",
   "metadata": {},
   "outputs": [],
   "source": [
    "session1 = advance_instruction_for_chef(session,'Alice')"
   ]
  },
  {
   "cell_type": "code",
   "execution_count": 14,
   "id": "a2bcdcd2",
   "metadata": {},
   "outputs": [],
   "source": [
    "session2 = advance_instruction_for_chef(session1,'Bob')"
   ]
  },
  {
   "cell_type": "code",
   "execution_count": 15,
   "id": "494603da",
   "metadata": {
    "scrolled": true
   },
   "outputs": [
    {
     "name": "stdout",
     "output_type": "stream",
     "text": [
      "True\n",
      "False\n"
     ]
    }
   ],
   "source": [
    "for instr in session2.past:\n",
    "    print(instr.attention)"
   ]
  },
  {
   "cell_type": "code",
   "execution_count": 17,
   "id": "a7d3d565-501d-40a7-97bb-ac9c53277238",
   "metadata": {},
   "outputs": [
    {
     "data": {
      "text/plain": [
       "Session(past=[CookingInstruction(index=0, task='Chop onions', duration=60, attention=True, dependencies=[]), CookingInstruction(index=1, task='Boil water', duration=120, attention=False, dependencies=[0])], present=[CookingInstruction(index=2, task='Saute onions', duration=90, attention=True, dependencies=[0, 1])], future=[], chefs=[Chef(name='Alice'), Chef(name='Bob')], assignments={0: ['Alice'], 1: ['Bob'], 2: ['Alice', 'Bob']})"
      ]
     },
     "execution_count": 17,
     "metadata": {},
     "output_type": "execute_result"
    }
   ],
   "source": [
    "session2"
   ]
  },
  {
   "cell_type": "code",
   "execution_count": 18,
   "id": "8856985a",
   "metadata": {},
   "outputs": [],
   "source": [
    "def chef_joins(session, new_chef_name, compile_cooking_instructions):\n",
    "    \"\"\"\n",
    "    Returns a new session where new_chef_name joins.\n",
    "    Only the future instructions (and their assignments) are recompiled\n",
    "    using the new chef list and the existing future instructions.\n",
    " \n",
    "    NOTE: The function does not assign a present instruction to the new chef. For this, one should apply \n",
    "    the 'advance_instruction_for_chef' function with the new_chef.\n",
    "    \"\"\"\n",
    "    # Step 1: Build the new chef list (avoid duplicate chef)\n",
    "    chef_names = [c.name for c in session.chefs]\n",
    "    if new_chef_name in chef_names:\n",
    "        # Chef already present: return session unchanged\n",
    "        return Session(\n",
    "            past=session.past[:],\n",
    "            present=session.present[:],\n",
    "            future=session.future[:],\n",
    "            chefs=session.chefs[:],\n",
    "            assignments=dict(session.assignments)\n",
    "        )\n",
    "\n",
    "    new_chef = Chef(new_chef_name)\n",
    "    new_chefs = session.chefs[:] + [new_chef]\n",
    "\n",
    "    # Step 2: Compile new future instructions and assignments using the black box\n",
    "    # Signature: compile_cooking_instructions(future_instructions, chef_list) -> (instructions, assignments)\n",
    "    new_future, new_assignments = compile_cooking_instructions(session.future[:], new_chefs)\n",
    "\n",
    "    # Step 3: Combine old assignments (for past & present) with new future assignments\n",
    "    preserved_assignments = {idx: val for idx, val in session.assignments.items()\n",
    "                             if any(idx == instr.index for instr in session.past + session.present)}\n",
    "    merged_assignments = {**preserved_assignments, **new_assignments}\n",
    "\n",
    "    # Step 4: Return the new session\n",
    "    return Session(\n",
    "        past=session.past[:],\n",
    "        present=session.present[:],\n",
    "        future=new_future,\n",
    "        chefs=new_chefs,\n",
    "        assignments=merged_assignments\n",
    "    )\n",
    "    "
   ]
  },
  {
   "cell_type": "code",
   "execution_count": 19,
   "id": "e66e0a37",
   "metadata": {},
   "outputs": [],
   "source": [
    "### COMPILATION RELATED COMPUTATIONS ###"
   ]
  },
  {
   "cell_type": "code",
   "execution_count": 20,
   "id": "11d5b74d",
   "metadata": {},
   "outputs": [
    {
     "ename": "ModuleNotFoundError",
     "evalue": "No module named 'pycryptosat'",
     "output_type": "error",
     "traceback": [
      "\u001b[31m---------------------------------------------------------------------------\u001b[39m",
      "\u001b[31mModuleNotFoundError\u001b[39m                       Traceback (most recent call last)",
      "\u001b[36mCell\u001b[39m\u001b[36m \u001b[39m\u001b[32mIn[20]\u001b[39m\u001b[32m, line 7\u001b[39m\n\u001b[32m      3\u001b[39m \u001b[38;5;66;03m#!/usr/bin/env python\u001b[39;00m\n\u001b[32m      4\u001b[39m \u001b[38;5;66;03m# coding: utf-8\u001b[39;00m\n\u001b[32m      5\u001b[39m \u001b[38;5;66;03m# test2\u001b[39;00m\n\u001b[32m      6\u001b[39m \u001b[38;5;28;01mfrom\u001b[39;00m\u001b[38;5;250m \u001b[39m\u001b[34;01mcollections\u001b[39;00m\u001b[38;5;250m \u001b[39m\u001b[38;5;28;01mimport\u001b[39;00m namedtuple\n\u001b[32m----> \u001b[39m\u001b[32m7\u001b[39m \u001b[38;5;28;01mfrom\u001b[39;00m\u001b[38;5;250m \u001b[39m\u001b[34;01mpycryptosat\u001b[39;00m\u001b[38;5;250m \u001b[39m\u001b[38;5;28;01mimport\u001b[39;00m Solver\n\u001b[32m      8\u001b[39m \u001b[38;5;28;01mfrom\u001b[39;00m\u001b[38;5;250m \u001b[39m\u001b[34;01mitertools\u001b[39;00m\u001b[38;5;250m \u001b[39m\u001b[38;5;28;01mimport\u001b[39;00m product\n\u001b[32m     10\u001b[39m cooking_time_unit = \u001b[32m30\u001b[39m    \u001b[38;5;66;03m# in seconds\u001b[39;00m\n",
      "\u001b[31mModuleNotFoundError\u001b[39m: No module named 'pycryptosat'"
     ]
    }
   ],
   "source": [
    "import tqdm\n",
    "from subprocess import check_call\n",
    "#!/usr/bin/env python\n",
    "# coding: utf-8\n",
    "# test2\n",
    "from collections import namedtuple\n",
    "from pycryptosat import Solver\n",
    "from itertools import product\n",
    "\n",
    "cooking_time_unit = 30    # in seconds\n",
    "assert 60 % unit == 0\n",
    "\n",
    "Assignment = namedtuple(\"Assignment\", [\"attention\", \"time\"])"
   ]
  },
  {
   "cell_type": "code",
   "execution_count": 210,
   "id": "827feb6e",
   "metadata": {},
   "outputs": [],
   "source": [
    "def preprocess_for_sat(future_instructions, chefs):\n",
    "    \"\"\"\n",
    "    Returns (chef_names, vertices, edges, assignment_map) for SAT encoding.\n",
    "    Only includes edges between instructions in future_instructions.\n",
    "    \"\"\"\n",
    "    # 1. Chefs\n",
    "    chef_names = [chef.name for chef in chefs]\n",
    "\n",
    "    # 2. Vertices (indices of all future instructions)\n",
    "    vertices = [instr.index for instr in future_instructions]\n",
    "    vertex_set = set(vertices)  # for fast lookup\n",
    "\n",
    "    # 3. Edges: only include dependencies where both source and target are in future_instructions\n",
    "    edges = []\n",
    "    time_ub = 0\n",
    "    for instr in future_instructions:\n",
    "#        print(instr)\n",
    "        if instr.attention:\n",
    "            time_ub += instr.duration\n",
    "        \n",
    "        for dep in instr.dependencies:\n",
    "            if dep in vertex_set:\n",
    "                edges.append((dep, instr.index))\n",
    "\n",
    "    # 4. Assignment map: only for vertices in the future\n",
    "    assignment_map = {\n",
    "        instr.index: Assignment(instr.attention, instr.duration)\n",
    "        for instr in future_instructions\n",
    "    }\n",
    "\n",
    "    return chef_names, vertices, edges, assignment_map, time_ub"
   ]
  },
  {
   "cell_type": "code",
   "execution_count": 204,
   "id": "0a168a3b",
   "metadata": {},
   "outputs": [
    {
     "data": {
      "text/plain": [
       "[CookingInstruction(index=0, task='Chop onions', duration=60, attention=True, dependencies=[]),\n",
       " CookingInstruction(index=1, task='Boil water', duration=120, attention=False, dependencies=[0])]"
      ]
     },
     "execution_count": 204,
     "metadata": {},
     "output_type": "execute_result"
    }
   ],
   "source": [
    "session2.past"
   ]
  },
  {
   "cell_type": "code",
   "execution_count": 212,
   "id": "6320819f",
   "metadata": {},
   "outputs": [
    {
     "data": {
      "text/plain": [
       "[0, 1]"
      ]
     },
     "execution_count": 212,
     "metadata": {},
     "output_type": "execute_result"
    }
   ],
   "source": [
    "future_instructions = session2.past\n",
    "chefs =  session.chefs\n",
    "#print(chefs)\n",
    "proc, verts, edges, a, timeub = preprocess_for_sat(future_instructions,chefs)\n"
   ]
  },
  {
   "cell_type": "code",
   "execution_count": 148,
   "id": "667788c6",
   "metadata": {},
   "outputs": [],
   "source": [
    "# Trivial Resorce considerations (for now)\n",
    "def Resources(v):\n",
    "    return set([]) #return {\"oven\"} if \"bake\" in v else set([])\n"
   ]
  },
  {
   "cell_type": "code",
   "execution_count": 206,
   "id": "b09de454",
   "metadata": {},
   "outputs": [],
   "source": [
    "def recipe2sat(chefs, vertices, edges,a, time_ub, time_unit=cooking_time_unit):\n",
    "    \n",
    "    time_slots = range(int(time_ub)*60 // time_unit + 0)\n",
    "    print('timeslot[0] ==', time_slots[0])\n",
    "    \n",
    "    tuples = []\n",
    "    for p in chefs:\n",
    "        for v in vertices:\n",
    "            #for i in range(len(a[v])):\n",
    "                for t in time_slots:\n",
    "                    tuples.append((p, t, v))\n",
    "\n",
    "    tuple2idx = {tpl: idx for idx, tpl in enumerate(tuples, start=1)}\n",
    "    #idx2tuple = {idx: tpl for tpl, idx in tuple2idx.items()}\n",
    "\n",
    "    clauses = []\n",
    "\n",
    "    print(\"1/6 process does single high attention task\")\n",
    "    for v, u in tqdm.tqdm(list(product(vertices, vertices))):\n",
    "        #for i, j in product(range(len(a[v])), range(len(a[u]))):\n",
    "            #if (u != v or i != j) and a[v][i].Attention and a[u][j].Attention:\n",
    "            #print(u,v,a[v].attention,a[u].attention)\n",
    "            if (u != v) and a[v].attention and a[u].attention:\n",
    "                for t in time_slots:\n",
    "                    for s in range(t, min(t + a[v].time, time_slots[-1] + 1)):\n",
    "                        for p in Proc:\n",
    "                            clauses.append(\n",
    "                                [-tuple2idx[(p, t, v)], -tuple2idx[(p, s, u)]]\n",
    "                            )\n",
    "\n",
    "\n",
    "    print(\"2/6 resource can do one thing at a time\")\n",
    "    for (v, rv), (u, ru) in tqdm.tqdm(\n",
    "        list(product([(v, rv) for v in Vertices if (rv := Resources(v))], repeat=2))\n",
    "    ):\n",
    "        if v != u and ru & rv:\n",
    "            for p1, p2, t in product(\n",
    "                chefs, chefs, time_slots\n",
    "            ):\n",
    "                for s in range(t, min(t + a[v].time, time_slots[-1] + 1)):\n",
    "                    clauses.append([-tuple2idx[p1, t, v], -tuple2idx[p2, s, u]])\n",
    "                                              \n",
    "\n",
    "    print(\"3/6 every vertex is done at least once\")\n",
    "    for v in tqdm.tqdm(vertices):\n",
    "        #for i in range(len(a[v])):\n",
    "            cls = []\n",
    "            for p in chefs:\n",
    "                for t in time_slots:\n",
    "                    cls.append(tuple2idx[(p, t, v)])\n",
    "            clauses.append(cls)\n",
    "\n",
    "\n",
    "    print(\"4/6 every task is done at most once\")\n",
    "    for p, q in tqdm.tqdm(list(product(chefs, chefs))):\n",
    "        for t, s in product(time_slots, time_slots):\n",
    "            if p != q or t != s:\n",
    "                for v in vertices:\n",
    "                    #for i in range(len(a[v])):\n",
    "                        clauses.append([-tuple2idx[(p, t, v)], -tuple2idx[(q, s, v)]])\n",
    "\n",
    "    #print(\"5/6 the task are executed serially\")\n",
    "    #for v in tqdm.tqdm(Vertices):\n",
    "    #    for i in range(len(a[v]) - 1):\n",
    "    #        for p, q in product(Proc, Proc):\n",
    "    #            for t, s in product(Times, Times):\n",
    "    #                if s < t + a[v][i].time:\n",
    "    #                    clauses.append(\n",
    "    #                        [-tuple2idx[(p, t, v, i)], -tuple2idx[(q, s, v, i + 1)]]\n",
    "    #                    )\n",
    "\n",
    "\n",
    "    print(\"6/6 the task execution follows the graph structure\")\n",
    "    for v, u in tqdm.tqdm(edges):\n",
    "        for t, s in product(time_slots, time_slots):\n",
    "           # if s < t + a[v][len(a[v]) - 1].time:\n",
    "             if s < t + a[v].time:\n",
    "                for p, q in product(chefs, chefs):\n",
    "                    clauses.append(\n",
    "                        [-tuple2idx[(p, t, v)], -tuple2idx[(q, s, u)]]\n",
    "                    )\n",
    "    return clauses, tuples, tuple2idx\n"
   ]
  },
  {
   "cell_type": "code",
   "execution_count": 213,
   "id": "b8fbab97",
   "metadata": {
    "scrolled": true
   },
   "outputs": [
    {
     "name": "stdout",
     "output_type": "stream",
     "text": [
      "timeslot[0] == 0\n",
      "1/6 process does single high attention task\n"
     ]
    },
    {
     "name": "stderr",
     "output_type": "stream",
     "text": [
      "100%|██████████████████████████████████████████| 4/4 [00:00<00:00, 16178.61it/s]\n"
     ]
    },
    {
     "name": "stdout",
     "output_type": "stream",
     "text": [
      "2/6 resource can do one thing at a time\n"
     ]
    },
    {
     "name": "stderr",
     "output_type": "stream",
     "text": [
      "0it [00:00, ?it/s]\n"
     ]
    },
    {
     "name": "stdout",
     "output_type": "stream",
     "text": [
      "3/6 every vertex is done at least once\n"
     ]
    },
    {
     "name": "stderr",
     "output_type": "stream",
     "text": [
      "100%|██████████████████████████████████████████| 2/2 [00:00<00:00, 15391.94it/s]\n"
     ]
    },
    {
     "name": "stdout",
     "output_type": "stream",
     "text": [
      "4/6 every task is done at most once\n"
     ]
    },
    {
     "name": "stderr",
     "output_type": "stream",
     "text": [
      "100%|█████████████████████████████████████████████| 4/4 [00:00<00:00, 54.33it/s]\n"
     ]
    },
    {
     "name": "stdout",
     "output_type": "stream",
     "text": [
      "6/6 the task execution follows the graph structure\n"
     ]
    },
    {
     "name": "stderr",
     "output_type": "stream",
     "text": [
      "100%|█████████████████████████████████████████████| 1/1 [00:00<00:00, 98.76it/s]\n"
     ]
    }
   ],
   "source": [
    "cls,tups, tups2inx = recipe2sat(proc, verts, edges, a, timeub)"
   ]
  },
  {
   "cell_type": "code",
   "execution_count": 193,
   "id": "8d4a4b53",
   "metadata": {},
   "outputs": [],
   "source": [
    "\n",
    "def sat2IDX(clauses, tuple2idx):\n",
    "    '''Setup a SAT cryptosolver to solve the SAT cooking clauses, If a solution is found, returns the resulting cooking instructions as a list, if a solution is not found, return False'''\n",
    "    s = Solver()\n",
    "    for cls in tqdm.tqdm(clauses):\n",
    "        s.add_clause(cls)\n",
    "    sat, solution = s.solve()\n",
    "    \n",
    "    if sat:\n",
    "        idx2tuple = {idx: tpl for tpl, idx in tuple2idx.items()}\n",
    "        IDX = [idx2tuple[i] for i, s in enumerate(solution) if s]\n",
    "        return IDX\n",
    "        #print(            \"\\n\".join(f\"{p} {t / (60 // unit):.1f} '{v}'.{i}\" for p, t, v, i in sorted(IDX)))\n",
    "    else:\n",
    "        return False\n",
    "    \n",
    "    \n",
    "def binarysearch(f,lb,ub):\n",
    "    \"\"\"the function search for an minimal input x between lb and ub for which f returns the value True\"\"\"\n",
    "    while lb < ub:\n",
    "        mid = (lb + ub) // 2\n",
    "        if f(mid):\n",
    "            ub = mid\n",
    "        else: \n",
    "            lb = mid + 1\n",
    "    return lb\n",
    "\n",
    "\n",
    "def run_with_timeout(f, args, timeout, default=None):\n",
    "    ctx = multiprocessing.get_context('fork')\n",
    "    q = ctx.Queue()\n",
    "    def ff(f, args, q):\n",
    "        ret = f(*args)\n",
    "        q.put(ret)\n",
    "        \n",
    "    p = ctx.Process(target=ff, args=(f, args, q))\n",
    "    p.start()\n",
    "    try:\n",
    "        ret = q.get(timeout=timeout)\n",
    "    except queue.Empty:\n",
    "        p.kill()\n",
    "        return default\n",
    "    p.join()\n",
    "    return ret\n"
   ]
  },
  {
   "cell_type": "code",
   "execution_count": 194,
   "id": "d2143ea4",
   "metadata": {},
   "outputs": [
    {
     "name": "stderr",
     "output_type": "stream",
     "text": [
      "100%|██████████████████████████████| 165002/165002 [00:00<00:00, 2929564.29it/s]\n"
     ]
    },
    {
     "data": {
      "text/plain": [
       "[('Alice', 1, 0), ('Alice', 61, 1)]"
      ]
     },
     "execution_count": 194,
     "metadata": {},
     "output_type": "execute_result"
    }
   ],
   "source": [
    "sat2IDX(cls,tups2inx)"
   ]
  },
  {
   "cell_type": "code",
   "execution_count": null,
   "id": "1aa0d128",
   "metadata": {},
   "outputs": [],
   "source": [
    "def IDX2session(IDX):\n",
    "    "
   ]
  },
  {
   "cell_type": "code",
   "execution_count": 39,
   "id": "4184b5b1",
   "metadata": {},
   "outputs": [
    {
     "data": {
      "text/plain": [
       "['Alice', 'Bob']"
      ]
     },
     "execution_count": 39,
     "metadata": {},
     "output_type": "execute_result"
    }
   ],
   "source": [
    "##TODO (for compilation)\n",
    "#DONE 0 check the status of the recources parts of the SAT. Are we planning to use it at the moment?\n",
    "#DONE 1 check the SAT can have any number of processors (not just two)\n",
    "#DONE 2 add time UB estimates in the correct unit form to the preprocessing\n",
    "#3 See that the compilation of future instructure works (check for type compatibility)\n",
    "#4 Plan and write a short secion which addresses todo gaps such as working with recources, etc.\n"
   ]
  },
  {
   "cell_type": "code",
   "execution_count": 192,
   "id": "d2f52cde",
   "metadata": {},
   "outputs": [
    {
     "data": {
      "text/plain": [
       "[('Alice', 0, 0),\n",
       " ('Alice', 1, 0),\n",
       " ('Alice', 2, 0),\n",
       " ('Alice', 3, 0),\n",
       " ('Alice', 4, 0),\n",
       " ('Alice', 5, 0),\n",
       " ('Alice', 6, 0),\n",
       " ('Alice', 7, 0),\n",
       " ('Alice', 8, 0),\n",
       " ('Alice', 9, 0),\n",
       " ('Alice', 10, 0),\n",
       " ('Alice', 11, 0),\n",
       " ('Alice', 12, 0),\n",
       " ('Alice', 13, 0),\n",
       " ('Alice', 14, 0),\n",
       " ('Alice', 15, 0),\n",
       " ('Alice', 16, 0),\n",
       " ('Alice', 17, 0),\n",
       " ('Alice', 18, 0),\n",
       " ('Alice', 19, 0),\n",
       " ('Alice', 20, 0),\n",
       " ('Alice', 21, 0),\n",
       " ('Alice', 22, 0),\n",
       " ('Alice', 23, 0),\n",
       " ('Alice', 24, 0),\n",
       " ('Alice', 25, 0),\n",
       " ('Alice', 26, 0),\n",
       " ('Alice', 27, 0),\n",
       " ('Alice', 28, 0),\n",
       " ('Alice', 29, 0),\n",
       " ('Alice', 30, 0),\n",
       " ('Alice', 31, 0),\n",
       " ('Alice', 32, 0),\n",
       " ('Alice', 33, 0),\n",
       " ('Alice', 34, 0),\n",
       " ('Alice', 35, 0),\n",
       " ('Alice', 36, 0),\n",
       " ('Alice', 37, 0),\n",
       " ('Alice', 38, 0),\n",
       " ('Alice', 39, 0),\n",
       " ('Alice', 40, 0),\n",
       " ('Alice', 41, 0),\n",
       " ('Alice', 42, 0),\n",
       " ('Alice', 43, 0),\n",
       " ('Alice', 44, 0),\n",
       " ('Alice', 45, 0),\n",
       " ('Alice', 46, 0),\n",
       " ('Alice', 47, 0),\n",
       " ('Alice', 48, 0),\n",
       " ('Alice', 49, 0),\n",
       " ('Alice', 50, 0),\n",
       " ('Alice', 51, 0),\n",
       " ('Alice', 52, 0),\n",
       " ('Alice', 53, 0),\n",
       " ('Alice', 54, 0),\n",
       " ('Alice', 55, 0),\n",
       " ('Alice', 56, 0),\n",
       " ('Alice', 57, 0),\n",
       " ('Alice', 58, 0),\n",
       " ('Alice', 59, 0),\n",
       " ('Alice', 60, 0),\n",
       " ('Alice', 61, 0),\n",
       " ('Alice', 62, 0),\n",
       " ('Alice', 63, 0),\n",
       " ('Alice', 64, 0),\n",
       " ('Alice', 65, 0),\n",
       " ('Alice', 66, 0),\n",
       " ('Alice', 67, 0),\n",
       " ('Alice', 68, 0),\n",
       " ('Alice', 69, 0),\n",
       " ('Alice', 70, 0),\n",
       " ('Alice', 71, 0),\n",
       " ('Alice', 72, 0),\n",
       " ('Alice', 73, 0),\n",
       " ('Alice', 74, 0),\n",
       " ('Alice', 75, 0),\n",
       " ('Alice', 76, 0),\n",
       " ('Alice', 77, 0),\n",
       " ('Alice', 78, 0),\n",
       " ('Alice', 79, 0),\n",
       " ('Alice', 80, 0),\n",
       " ('Alice', 81, 0),\n",
       " ('Alice', 82, 0),\n",
       " ('Alice', 83, 0),\n",
       " ('Alice', 84, 0),\n",
       " ('Alice', 85, 0),\n",
       " ('Alice', 86, 0),\n",
       " ('Alice', 87, 0),\n",
       " ('Alice', 88, 0),\n",
       " ('Alice', 89, 0),\n",
       " ('Alice', 90, 0),\n",
       " ('Alice', 91, 0),\n",
       " ('Alice', 92, 0),\n",
       " ('Alice', 93, 0),\n",
       " ('Alice', 94, 0),\n",
       " ('Alice', 95, 0),\n",
       " ('Alice', 96, 0),\n",
       " ('Alice', 97, 0),\n",
       " ('Alice', 98, 0),\n",
       " ('Alice', 99, 0),\n",
       " ('Alice', 100, 0),\n",
       " ('Alice', 101, 0),\n",
       " ('Alice', 102, 0),\n",
       " ('Alice', 103, 0),\n",
       " ('Alice', 104, 0),\n",
       " ('Alice', 105, 0),\n",
       " ('Alice', 106, 0),\n",
       " ('Alice', 107, 0),\n",
       " ('Alice', 108, 0),\n",
       " ('Alice', 109, 0),\n",
       " ('Alice', 110, 0),\n",
       " ('Alice', 111, 0),\n",
       " ('Alice', 112, 0),\n",
       " ('Alice', 113, 0),\n",
       " ('Alice', 114, 0),\n",
       " ('Alice', 115, 0),\n",
       " ('Alice', 116, 0),\n",
       " ('Alice', 117, 0),\n",
       " ('Alice', 118, 0),\n",
       " ('Alice', 119, 0),\n",
       " ('Alice', 0, 1),\n",
       " ('Alice', 1, 1),\n",
       " ('Alice', 2, 1),\n",
       " ('Alice', 3, 1),\n",
       " ('Alice', 4, 1),\n",
       " ('Alice', 5, 1),\n",
       " ('Alice', 6, 1),\n",
       " ('Alice', 7, 1),\n",
       " ('Alice', 8, 1),\n",
       " ('Alice', 9, 1),\n",
       " ('Alice', 10, 1),\n",
       " ('Alice', 11, 1),\n",
       " ('Alice', 12, 1),\n",
       " ('Alice', 13, 1),\n",
       " ('Alice', 14, 1),\n",
       " ('Alice', 15, 1),\n",
       " ('Alice', 16, 1),\n",
       " ('Alice', 17, 1),\n",
       " ('Alice', 18, 1),\n",
       " ('Alice', 19, 1),\n",
       " ('Alice', 20, 1),\n",
       " ('Alice', 21, 1),\n",
       " ('Alice', 22, 1),\n",
       " ('Alice', 23, 1),\n",
       " ('Alice', 24, 1),\n",
       " ('Alice', 25, 1),\n",
       " ('Alice', 26, 1),\n",
       " ('Alice', 27, 1),\n",
       " ('Alice', 28, 1),\n",
       " ('Alice', 29, 1),\n",
       " ('Alice', 30, 1),\n",
       " ('Alice', 31, 1),\n",
       " ('Alice', 32, 1),\n",
       " ('Alice', 33, 1),\n",
       " ('Alice', 34, 1),\n",
       " ('Alice', 35, 1),\n",
       " ('Alice', 36, 1),\n",
       " ('Alice', 37, 1),\n",
       " ('Alice', 38, 1),\n",
       " ('Alice', 39, 1),\n",
       " ('Alice', 40, 1),\n",
       " ('Alice', 41, 1),\n",
       " ('Alice', 42, 1),\n",
       " ('Alice', 43, 1),\n",
       " ('Alice', 44, 1),\n",
       " ('Alice', 45, 1),\n",
       " ('Alice', 46, 1),\n",
       " ('Alice', 47, 1),\n",
       " ('Alice', 48, 1),\n",
       " ('Alice', 49, 1),\n",
       " ('Alice', 50, 1),\n",
       " ('Alice', 51, 1),\n",
       " ('Alice', 52, 1),\n",
       " ('Alice', 53, 1),\n",
       " ('Alice', 54, 1),\n",
       " ('Alice', 55, 1),\n",
       " ('Alice', 56, 1),\n",
       " ('Alice', 57, 1),\n",
       " ('Alice', 58, 1),\n",
       " ('Alice', 59, 1),\n",
       " ('Alice', 60, 1),\n",
       " ('Alice', 61, 1),\n",
       " ('Alice', 62, 1),\n",
       " ('Alice', 63, 1),\n",
       " ('Alice', 64, 1),\n",
       " ('Alice', 65, 1),\n",
       " ('Alice', 66, 1),\n",
       " ('Alice', 67, 1),\n",
       " ('Alice', 68, 1),\n",
       " ('Alice', 69, 1),\n",
       " ('Alice', 70, 1),\n",
       " ('Alice', 71, 1),\n",
       " ('Alice', 72, 1),\n",
       " ('Alice', 73, 1),\n",
       " ('Alice', 74, 1),\n",
       " ('Alice', 75, 1),\n",
       " ('Alice', 76, 1),\n",
       " ('Alice', 77, 1),\n",
       " ('Alice', 78, 1),\n",
       " ('Alice', 79, 1),\n",
       " ('Alice', 80, 1),\n",
       " ('Alice', 81, 1),\n",
       " ('Alice', 82, 1),\n",
       " ('Alice', 83, 1),\n",
       " ('Alice', 84, 1),\n",
       " ('Alice', 85, 1),\n",
       " ('Alice', 86, 1),\n",
       " ('Alice', 87, 1),\n",
       " ('Alice', 88, 1),\n",
       " ('Alice', 89, 1),\n",
       " ('Alice', 90, 1),\n",
       " ('Alice', 91, 1),\n",
       " ('Alice', 92, 1),\n",
       " ('Alice', 93, 1),\n",
       " ('Alice', 94, 1),\n",
       " ('Alice', 95, 1),\n",
       " ('Alice', 96, 1),\n",
       " ('Alice', 97, 1),\n",
       " ('Alice', 98, 1),\n",
       " ('Alice', 99, 1),\n",
       " ('Alice', 100, 1),\n",
       " ('Alice', 101, 1),\n",
       " ('Alice', 102, 1),\n",
       " ('Alice', 103, 1),\n",
       " ('Alice', 104, 1),\n",
       " ('Alice', 105, 1),\n",
       " ('Alice', 106, 1),\n",
       " ('Alice', 107, 1),\n",
       " ('Alice', 108, 1),\n",
       " ('Alice', 109, 1),\n",
       " ('Alice', 110, 1),\n",
       " ('Alice', 111, 1),\n",
       " ('Alice', 112, 1),\n",
       " ('Alice', 113, 1),\n",
       " ('Alice', 114, 1),\n",
       " ('Alice', 115, 1),\n",
       " ('Alice', 116, 1),\n",
       " ('Alice', 117, 1),\n",
       " ('Alice', 118, 1),\n",
       " ('Alice', 119, 1),\n",
       " ('Bob', 0, 0),\n",
       " ('Bob', 1, 0),\n",
       " ('Bob', 2, 0),\n",
       " ('Bob', 3, 0),\n",
       " ('Bob', 4, 0),\n",
       " ('Bob', 5, 0),\n",
       " ('Bob', 6, 0),\n",
       " ('Bob', 7, 0),\n",
       " ('Bob', 8, 0),\n",
       " ('Bob', 9, 0),\n",
       " ('Bob', 10, 0),\n",
       " ('Bob', 11, 0),\n",
       " ('Bob', 12, 0),\n",
       " ('Bob', 13, 0),\n",
       " ('Bob', 14, 0),\n",
       " ('Bob', 15, 0),\n",
       " ('Bob', 16, 0),\n",
       " ('Bob', 17, 0),\n",
       " ('Bob', 18, 0),\n",
       " ('Bob', 19, 0),\n",
       " ('Bob', 20, 0),\n",
       " ('Bob', 21, 0),\n",
       " ('Bob', 22, 0),\n",
       " ('Bob', 23, 0),\n",
       " ('Bob', 24, 0),\n",
       " ('Bob', 25, 0),\n",
       " ('Bob', 26, 0),\n",
       " ('Bob', 27, 0),\n",
       " ('Bob', 28, 0),\n",
       " ('Bob', 29, 0),\n",
       " ('Bob', 30, 0),\n",
       " ('Bob', 31, 0),\n",
       " ('Bob', 32, 0),\n",
       " ('Bob', 33, 0),\n",
       " ('Bob', 34, 0),\n",
       " ('Bob', 35, 0),\n",
       " ('Bob', 36, 0),\n",
       " ('Bob', 37, 0),\n",
       " ('Bob', 38, 0),\n",
       " ('Bob', 39, 0),\n",
       " ('Bob', 40, 0),\n",
       " ('Bob', 41, 0),\n",
       " ('Bob', 42, 0),\n",
       " ('Bob', 43, 0),\n",
       " ('Bob', 44, 0),\n",
       " ('Bob', 45, 0),\n",
       " ('Bob', 46, 0),\n",
       " ('Bob', 47, 0),\n",
       " ('Bob', 48, 0),\n",
       " ('Bob', 49, 0),\n",
       " ('Bob', 50, 0),\n",
       " ('Bob', 51, 0),\n",
       " ('Bob', 52, 0),\n",
       " ('Bob', 53, 0),\n",
       " ('Bob', 54, 0),\n",
       " ('Bob', 55, 0),\n",
       " ('Bob', 56, 0),\n",
       " ('Bob', 57, 0),\n",
       " ('Bob', 58, 0),\n",
       " ('Bob', 59, 0),\n",
       " ('Bob', 60, 0),\n",
       " ('Bob', 61, 0),\n",
       " ('Bob', 62, 0),\n",
       " ('Bob', 63, 0),\n",
       " ('Bob', 64, 0),\n",
       " ('Bob', 65, 0),\n",
       " ('Bob', 66, 0),\n",
       " ('Bob', 67, 0),\n",
       " ('Bob', 68, 0),\n",
       " ('Bob', 69, 0),\n",
       " ('Bob', 70, 0),\n",
       " ('Bob', 71, 0),\n",
       " ('Bob', 72, 0),\n",
       " ('Bob', 73, 0),\n",
       " ('Bob', 74, 0),\n",
       " ('Bob', 75, 0),\n",
       " ('Bob', 76, 0),\n",
       " ('Bob', 77, 0),\n",
       " ('Bob', 78, 0),\n",
       " ('Bob', 79, 0),\n",
       " ('Bob', 80, 0),\n",
       " ('Bob', 81, 0),\n",
       " ('Bob', 82, 0),\n",
       " ('Bob', 83, 0),\n",
       " ('Bob', 84, 0),\n",
       " ('Bob', 85, 0),\n",
       " ('Bob', 86, 0),\n",
       " ('Bob', 87, 0),\n",
       " ('Bob', 88, 0),\n",
       " ('Bob', 89, 0),\n",
       " ('Bob', 90, 0),\n",
       " ('Bob', 91, 0),\n",
       " ('Bob', 92, 0),\n",
       " ('Bob', 93, 0),\n",
       " ('Bob', 94, 0),\n",
       " ('Bob', 95, 0),\n",
       " ('Bob', 96, 0),\n",
       " ('Bob', 97, 0),\n",
       " ('Bob', 98, 0),\n",
       " ('Bob', 99, 0),\n",
       " ('Bob', 100, 0),\n",
       " ('Bob', 101, 0),\n",
       " ('Bob', 102, 0),\n",
       " ('Bob', 103, 0),\n",
       " ('Bob', 104, 0),\n",
       " ('Bob', 105, 0),\n",
       " ('Bob', 106, 0),\n",
       " ('Bob', 107, 0),\n",
       " ('Bob', 108, 0),\n",
       " ('Bob', 109, 0),\n",
       " ('Bob', 110, 0),\n",
       " ('Bob', 111, 0),\n",
       " ('Bob', 112, 0),\n",
       " ('Bob', 113, 0),\n",
       " ('Bob', 114, 0),\n",
       " ('Bob', 115, 0),\n",
       " ('Bob', 116, 0),\n",
       " ('Bob', 117, 0),\n",
       " ('Bob', 118, 0),\n",
       " ('Bob', 119, 0),\n",
       " ('Bob', 0, 1),\n",
       " ('Bob', 1, 1),\n",
       " ('Bob', 2, 1),\n",
       " ('Bob', 3, 1),\n",
       " ('Bob', 4, 1),\n",
       " ('Bob', 5, 1),\n",
       " ('Bob', 6, 1),\n",
       " ('Bob', 7, 1),\n",
       " ('Bob', 8, 1),\n",
       " ('Bob', 9, 1),\n",
       " ('Bob', 10, 1),\n",
       " ('Bob', 11, 1),\n",
       " ('Bob', 12, 1),\n",
       " ('Bob', 13, 1),\n",
       " ('Bob', 14, 1),\n",
       " ('Bob', 15, 1),\n",
       " ('Bob', 16, 1),\n",
       " ('Bob', 17, 1),\n",
       " ('Bob', 18, 1),\n",
       " ('Bob', 19, 1),\n",
       " ('Bob', 20, 1),\n",
       " ('Bob', 21, 1),\n",
       " ('Bob', 22, 1),\n",
       " ('Bob', 23, 1),\n",
       " ('Bob', 24, 1),\n",
       " ('Bob', 25, 1),\n",
       " ('Bob', 26, 1),\n",
       " ('Bob', 27, 1),\n",
       " ('Bob', 28, 1),\n",
       " ('Bob', 29, 1),\n",
       " ('Bob', 30, 1),\n",
       " ('Bob', 31, 1),\n",
       " ('Bob', 32, 1),\n",
       " ('Bob', 33, 1),\n",
       " ('Bob', 34, 1),\n",
       " ('Bob', 35, 1),\n",
       " ('Bob', 36, 1),\n",
       " ('Bob', 37, 1),\n",
       " ('Bob', 38, 1),\n",
       " ('Bob', 39, 1),\n",
       " ('Bob', 40, 1),\n",
       " ('Bob', 41, 1),\n",
       " ('Bob', 42, 1),\n",
       " ('Bob', 43, 1),\n",
       " ('Bob', 44, 1),\n",
       " ('Bob', 45, 1),\n",
       " ('Bob', 46, 1),\n",
       " ('Bob', 47, 1),\n",
       " ('Bob', 48, 1),\n",
       " ('Bob', 49, 1),\n",
       " ('Bob', 50, 1),\n",
       " ('Bob', 51, 1),\n",
       " ('Bob', 52, 1),\n",
       " ('Bob', 53, 1),\n",
       " ('Bob', 54, 1),\n",
       " ('Bob', 55, 1),\n",
       " ('Bob', 56, 1),\n",
       " ('Bob', 57, 1),\n",
       " ('Bob', 58, 1),\n",
       " ('Bob', 59, 1),\n",
       " ('Bob', 60, 1),\n",
       " ('Bob', 61, 1),\n",
       " ('Bob', 62, 1),\n",
       " ('Bob', 63, 1),\n",
       " ('Bob', 64, 1),\n",
       " ('Bob', 65, 1),\n",
       " ('Bob', 66, 1),\n",
       " ('Bob', 67, 1),\n",
       " ('Bob', 68, 1),\n",
       " ('Bob', 69, 1),\n",
       " ('Bob', 70, 1),\n",
       " ('Bob', 71, 1),\n",
       " ('Bob', 72, 1),\n",
       " ('Bob', 73, 1),\n",
       " ('Bob', 74, 1),\n",
       " ('Bob', 75, 1),\n",
       " ('Bob', 76, 1),\n",
       " ('Bob', 77, 1),\n",
       " ('Bob', 78, 1),\n",
       " ('Bob', 79, 1),\n",
       " ('Bob', 80, 1),\n",
       " ('Bob', 81, 1),\n",
       " ('Bob', 82, 1),\n",
       " ('Bob', 83, 1),\n",
       " ('Bob', 84, 1),\n",
       " ('Bob', 85, 1),\n",
       " ('Bob', 86, 1),\n",
       " ('Bob', 87, 1),\n",
       " ('Bob', 88, 1),\n",
       " ('Bob', 89, 1),\n",
       " ('Bob', 90, 1),\n",
       " ('Bob', 91, 1),\n",
       " ('Bob', 92, 1),\n",
       " ('Bob', 93, 1),\n",
       " ('Bob', 94, 1),\n",
       " ('Bob', 95, 1),\n",
       " ('Bob', 96, 1),\n",
       " ('Bob', 97, 1),\n",
       " ('Bob', 98, 1),\n",
       " ('Bob', 99, 1),\n",
       " ('Bob', 100, 1),\n",
       " ('Bob', 101, 1),\n",
       " ('Bob', 102, 1),\n",
       " ('Bob', 103, 1),\n",
       " ('Bob', 104, 1),\n",
       " ('Bob', 105, 1),\n",
       " ('Bob', 106, 1),\n",
       " ('Bob', 107, 1),\n",
       " ('Bob', 108, 1),\n",
       " ('Bob', 109, 1),\n",
       " ('Bob', 110, 1),\n",
       " ('Bob', 111, 1),\n",
       " ('Bob', 112, 1),\n",
       " ('Bob', 113, 1),\n",
       " ('Bob', 114, 1),\n",
       " ('Bob', 115, 1),\n",
       " ('Bob', 116, 1),\n",
       " ('Bob', 117, 1),\n",
       " ('Bob', 118, 1),\n",
       " ('Bob', 119, 1)]"
      ]
     },
     "execution_count": 192,
     "metadata": {},
     "output_type": "execute_result"
    }
   ],
   "source": []
  },
  {
   "cell_type": "code",
   "execution_count": null,
   "id": "c5200888",
   "metadata": {},
   "outputs": [],
   "source": []
  }
 ],
 "metadata": {
  "kernelspec": {
   "display_name": "Python 3 (ipykernel)",
   "language": "python",
   "name": "python3"
  },
  "language_info": {
   "codemirror_mode": {
    "name": "ipython",
    "version": 3
   },
   "file_extension": ".py",
   "mimetype": "text/x-python",
   "name": "python",
   "nbconvert_exporter": "python",
   "pygments_lexer": "ipython3",
   "version": "3.12.8"
  }
 },
 "nbformat": 4,
 "nbformat_minor": 5
}
