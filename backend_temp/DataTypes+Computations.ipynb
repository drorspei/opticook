{
 "cells": [
  {
   "cell_type": "code",
   "execution_count": 1,
   "id": "02e21b1e",
   "metadata": {},
   "outputs": [],
   "source": [
    "#### DATA TYPES ####"
   ]
  },
  {
   "cell_type": "code",
   "execution_count": 1,
   "id": "36594d90-13b3-426c-b1ea-ba80c2d9db18",
   "metadata": {},
   "outputs": [],
   "source": [
    "from typing import List, Dict, Optional, Tuple\n",
    "from dataclasses import dataclass\n",
    "\n",
    "@dataclass\n",
    "class CookingInstruction:\n",
    "    index: int\n",
    "    task: str\n",
    "    duration: int\n",
    "    attention: bool\n",
    "    dependencies: Tuple[int] = ()\n",
    "\n",
    "@dataclass\n",
    "class ChefTask:\n",
    "    instruction_index: int\n",
    "    when_started: Optional[int]=None\n",
    "    when_dismissed: Optional[int]=None\n",
    "\n",
    "@dataclass\n",
    "class Session:\n",
    "    recipe: Tuple[CookingInstruction, ...]\n",
    "    chef_tasks: Dict[str, Tuple[ChefTask, ...]]\n",
    "\n",
    "############################"
   ]
  },
  {
   "cell_type": "code",
   "execution_count": 2,
   "id": "c33f6eda-d3b5-41b5-9c94-26cc2a106506",
   "metadata": {},
   "outputs": [
    {
     "data": {
      "text/plain": [
       "'\\n1. alice goes to main page\\n2. alice enters url\\n3. alice enters names of chefs for this screen \"alice\", \"bob\"\\n4. screen shows two parts: alice sees wash hands, bob sees wash hands, and \"done!\" buttons\\n5. they both press \"done!\" buttons\\n5. screen shows two parts: alice sees \"put eggs to boil\", bob sees to not do anything, the algorithm thinks he is useless\\n2. alice presses \"done!\"\\n3. alice sees \"chop carrots\", and a 5 minute timer for eggs\\n4. alice presses done! (it took her 3 minutes, as expected, she\\'s on time, she\\'s the best.)\\n5. put carrots in oven, close door, doesn\\'t have to be on.\\n6. alice sees just timers\\n7. alice hears egg timer goes off and sees take out eggs\\n8. alice dismisses timer and goes to sleep. fuck this recipe.\\n'"
      ]
     },
     "execution_count": 2,
     "metadata": {},
     "output_type": "execute_result"
    }
   ],
   "source": [
    "state = {}  # global state\n",
    "\n",
    "def main_page():\n",
    "    return \"enter url!\"\n",
    "\n",
    "def process_url(url: str):\n",
    "    state[\"url\"] = url\n",
    "    return \"enter names!\"\n",
    "\n",
    "# simulation of the story\n",
    "main_page()\n",
    "process_url(\"actual url\")\n",
    "\n",
    "def parse_cooking_instructions(str) -> List[CookingInstructions]:\n",
    "    pass\n",
    "\n",
    "\"\"\"\n",
    "private stuff:\n",
    "1. alice find recipe\n",
    "2. alice enters url\n",
    "3. llm is called, it saves recipe, we upload it.\n",
    "---------\n",
    "public stuff:\n",
    "1. alice goes to main page and sees a large text box\n",
    "2. alice enters a recipe (i.e. list of CookingInstructions) and presses \"enter recipe\"\n",
    "3. alice enters names of chefs for this device \"alice\", \"bob\"\n",
    "4. screen shows two parts: alice sees wash hands, bob sees wash hands, and \"done!\" buttons\n",
    "5. they both press \"done!\" buttons\n",
    "5. screen shows two parts: alice sees \"put eggs to boil\", bob sees to not do anything, the algorithm thinks he is useless\n",
    "2. alice presses \"done!\"\n",
    "3. alice sees \"chop carrots\", and a 5 minute timer for eggs\n",
    "4. alice presses done! (it took her 3 minutes, as expected, she's on time, she's the best.)\n",
    "5. put carrots in oven, close door, doesn't have to be on.\n",
    "6. alice sees just timers\n",
    "7. alice hears egg timer goes off and sees take out eggs\n",
    "8. alice dismisses timer and goes to sleep. fuck this recipe.\n",
    "\"\"\""
   ]
  },
  {
   "cell_type": "code",
   "execution_count": 3,
   "id": "342821cf-9de7-433d-a381-0b41b0ae9458",
   "metadata": {},
   "outputs": [],
   "source": [
    "## SAT stuff ##\n",
    "\n",
    "import tqdm\n",
    "from subprocess import check_call\n",
    "#!/usr/bin/env python\n",
    "# coding: utf-8\n",
    "# test2\n",
    "from collections import namedtuple\n",
    "from pycryptosat import Solver\n",
    "from itertools import product\n",
    "\n",
    "cooking_time_unit = 30    # in seconds\n",
    "assert 60 % cooking_time_unit == 0\n",
    "\n",
    "Assignment = namedtuple(\"Assignment\", [\"attention\", \"time\"])\n",
    "\n",
    "\n",
    "# Trivial Resorce considerations (for now)\n",
    "def Resources(v):\n",
    "    return set([]) #return {\"oven\"} if \"bake\" in v else set([])\n",
    "\n",
    "\n",
    "def recipe2sat(chefs, vertices, edges,a, time_ub, time_unit=cooking_time_unit):\n",
    "    time_slots = range(int(time_ub)*60 // time_unit + 0)\n",
    "    print('timeslot[0] ==', time_slots[0])\n",
    "    \n",
    "    tuples = []\n",
    "    for p in chefs:\n",
    "        for v in vertices:\n",
    "            #for i in range(len(a[v])):\n",
    "                for t in time_slots:\n",
    "                    tuples.append((p, t, v))\n",
    "\n",
    "    tuple2idx = {tpl: idx for idx, tpl in enumerate(tuples, start=1)}\n",
    "    #idx2tuple = {idx: tpl for tpl, idx in tuple2idx.items()}\n",
    "\n",
    "    clauses = []\n",
    "\n",
    "    print(\"1/6 process does single high attention task\")\n",
    "    for v, u in tqdm.tqdm(list(product(vertices, vertices))):\n",
    "        #for i, j in product(range(len(a[v])), range(len(a[u]))):\n",
    "            #if (u != v or i != j) and a[v][i].Attention and a[u][j].Attention:\n",
    "            #print(u,v,a[v].attention,a[u].attention)\n",
    "            if (u != v) and a[v].attention and a[u].attention:\n",
    "                for t in time_slots:\n",
    "                    for s in range(t, min(t + a[v].time, time_slots[-1] + 1)):\n",
    "                        for p in chefs:\n",
    "                            clauses.append(\n",
    "                                [-tuple2idx[(p, t, v)], -tuple2idx[(p, s, u)]]\n",
    "                            )\n",
    "\n",
    "\n",
    "    print(\"2/6 resource can do one thing at a time\")\n",
    "    for (v, rv), (u, ru) in tqdm.tqdm(\n",
    "        list(product([(v, rv) for v in vertices if (rv := Resources(v))], repeat=2))\n",
    "    ):\n",
    "        if v != u and ru & rv:\n",
    "            for p1, p2, t in product(\n",
    "                chefs, chefs, time_slots\n",
    "            ):\n",
    "                for s in range(t, min(t + a[v].time, time_slots[-1] + 1)):\n",
    "                    clauses.append([-tuple2idx[p1, t, v], -tuple2idx[p2, s, u]])\n",
    "                                              \n",
    "\n",
    "    print(\"3/6 every vertex is done at least once\")\n",
    "    for v in tqdm.tqdm(vertices):\n",
    "        #for i in range(len(a[v])):\n",
    "            cls = []\n",
    "            for p in chefs:\n",
    "                for t in time_slots:\n",
    "                    cls.append(tuple2idx[(p, t, v)])\n",
    "            clauses.append(cls)\n",
    "\n",
    "\n",
    "    print(\"4/6 every task is done at most once\")\n",
    "    for p, q in tqdm.tqdm(list(product(chefs, chefs))):\n",
    "        for t, s in product(time_slots, time_slots):\n",
    "            if p != q or t != s:\n",
    "                for v in vertices:\n",
    "                    #for i in range(len(a[v])):\n",
    "                        clauses.append([-tuple2idx[(p, t, v)], -tuple2idx[(q, s, v)]])\n",
    "\n",
    "    #print(\"5/6 the task are executed serially\")\n",
    "    #for v in tqdm.tqdm(Vertices):\n",
    "    #    for i in range(len(a[v]) - 1):\n",
    "    #        for p, q in product(Proc, Proc):\n",
    "    #            for t, s in product(Times, Times):\n",
    "    #                if s < t + a[v][i].time:\n",
    "    #                    clauses.append(\n",
    "    #                        [-tuple2idx[(p, t, v, i)], -tuple2idx[(q, s, v, i + 1)]]\n",
    "    #                    )\n",
    "\n",
    "\n",
    "    print(\"6/6 the task execution follows the graph structure\")\n",
    "    for v, u in tqdm.tqdm(edges):\n",
    "        for t, s in product(time_slots, time_slots):\n",
    "           # if s < t + a[v][len(a[v]) - 1].time:\n",
    "             if s < t + a[v].time:\n",
    "                for p, q in product(chefs, chefs):\n",
    "                    clauses.append(\n",
    "                        [-tuple2idx[(p, t, v)], -tuple2idx[(q, s, u)]]\n",
    "                    )\n",
    "    return clauses, tuples, tuple2idx\n",
    "\n",
    "\n",
    "\n",
    "def satSolve(clauses, tuple2idx):\n",
    "    '''Setup a SAT cryptosolver to solve the SAT cooking clauses, If a solution is found, returns the resulting cooking instructions as a list, if a solution is not found, return False'''\n",
    "    s = Solver()\n",
    "    for cls in tqdm.tqdm(clauses):\n",
    "        s.add_clause(cls)\n",
    "    sat, solution = s.solve()\n",
    "    \n",
    "    if sat:\n",
    "        idx2tuple = {idx: tpl for tpl, idx in tuple2idx.items()}\n",
    "        chosen_triples = [idx2tuple[i] for i, s in enumerate(solution) if s]\n",
    "        return chosen_triples\n",
    "        #print(            \"\\n\".join(f\"{p} {t / (60 // unit):.1f} '{v}'.{i}\" for p, t, v, i in sorted(IDX)))\n",
    "    else:\n",
    "        return False\n",
    "    \n",
    "    \n",
    "def binarysearch(f,lb,ub):\n",
    "    \"\"\"the function search for an minimal input x between lb and ub for which f returns the value True\"\"\"\n",
    "    while lb < ub:\n",
    "        mid = (lb + ub) // 2\n",
    "        if f(mid):\n",
    "            ub = mid\n",
    "        else: \n",
    "            lb = mid + 1\n",
    "    return lb\n",
    "\n",
    "\n",
    "def run_with_timeout(f, args, timeout, default=None):\n",
    "    ctx = multiprocessing.get_context('fork')\n",
    "    q = ctx.Queue()\n",
    "    def ff(f, args, q):\n",
    "        ret = f(*args)\n",
    "        q.put(ret)\n",
    "        \n",
    "    p = ctx.Process(target=ff, args=(f, args, q))\n",
    "    p.start()\n",
    "    try:\n",
    "        ret = q.get(timeout=timeout)\n",
    "    except queue.Empty:\n",
    "        p.kill()\n",
    "        return default\n",
    "    p.join()\n",
    "    return ret\n",
    "\n"
   ]
  },
  {
   "cell_type": "code",
   "execution_count": 11,
   "id": "215cac3a-21c4-494f-9b03-d1902d6a1510",
   "metadata": {},
   "outputs": [],
   "source": [
    "def next_unstarted_task(session, chef):\n",
    "    \"\"\"Return the index in the chef's tasks of the first unstarted instruction if exists, otherwise None \n",
    "    *** Maybe better to return the length of the tuple otherwise. Useful for taking the tail of unstarted tasks ***\"\"\"\n",
    "    return ([i for i,task in enumerate(session.chef_tasks[chef]) if task.when_started == None]\n",
    "            +[len(session.chef_tasks[chef])])[0]\n",
    "    #return ([i for i,task in enumerate(session.chef_tasks[chef]) if task.when_started == None]+[None])[0]\n",
    "    \n",
    "\n",
    "def advance_task_for_chef(session, chef, now):\n",
    "    i = next_unstarted_task(session, chef)\n",
    "    if i == len(session.chef_tasks[chef]):\n",
    "    #if i is None:\n",
    "        return session\n",
    "        \n",
    "    chef_tasks = {chef2 : session.chef_tasks[chef2] for chef2 in session.chef_tasks if chef2 != chef}\n",
    "    chef_tasks[chef] = (\n",
    "        session.chef_tasks[chef][:i]\n",
    "        + ( ChefTask(\n",
    "                session.chef_tasks[chef][i].instruction_index, now),)\n",
    "        + session.chef_tasks[chef][i + 1:]\n",
    "    )\n",
    "    return Session(session.recipe, chef_tasks)\n",
    "\n",
    "\n",
    "def remaining_recipe_indices(session):\n",
    "    return tuple(task.instruction_index for task in sum(\n",
    "        [session.chef_tasks[chef][next_unstarted_task(session, chef):] for chef in session.chef_tasks],()\n",
    "    ))\n",
    "\n",
    "def recompile_remaining_session(session,remaining_indices):\n",
    "    chefs_list = list(session.chef_tasks.keys())\n",
    "    #remaining_indices = remaining_recipe_indices(session)\n",
    "    recipe = session.recipe\n",
    "    \n",
    "    # 1. Vertices (indices of all future instructions)\n",
    "    remaining_instructions = [instr for instr in recipe if instr.index in remaining_indices]\n",
    "    print(\"remaining_instructions are\", remaining_instructions)\n",
    "    vertices = [instr.index for instr in remaining_instructions]\n",
    "    vertex_set = set(vertices)  # for fast lookup\n",
    "\n",
    "    # 2. Edges: only include dependencies where both source and target are in future_instructions\n",
    "    edges = []\n",
    "    time_ub = 0\n",
    "    for instr in remaining_instructions:\n",
    "        if instr.attention:\n",
    "            time_ub += instr.duration\n",
    "        \n",
    "        for dep in instr.dependencies:\n",
    "            if dep in vertex_set:\n",
    "                edges.append((dep, instr.index))\n",
    "\n",
    "    # 3. Assignment map: only for vertices in the future\n",
    "    assignment_map = {\n",
    "        instr.index: Assignment(instr.attention, instr.duration)\n",
    "        for instr in remaining_instructions\n",
    "    }\n",
    "\n",
    "    \n",
    "    #4. Setup the SAT equations\n",
    "    clauses, tuples, tuple2idx = recipe2sat(chefs_list, vertices, edges, assignment_map, time_ub, time_unit=cooking_time_unit)\n",
    "    \n",
    "    \n",
    "    #5. Solve SAT\n",
    "    chosen_triples = satSolve(clauses, tuple2idx)  \n",
    "    chosen_triples.sort(key=lambda trip: trip[1])\n",
    "    # trip = (p,t,v) is a triple where trip[0] = p = chef's_name (aka processor), trip[1] = t = starting time_slot,\n",
    "    # trip[2] = v = instruction index\n",
    "    \n",
    "    return {\n",
    "        chef: tuple(ChefTask(trip[2])\n",
    "                    for trip in [trip for trip in chosen_triples if trip[0] == chef])\n",
    "        for chef in chefs_list\n",
    "    }\n",
    "\n",
    "\n",
    "def recompile_session(session,remaining_indices = None):\n",
    "    if remaining_indices == None:\n",
    "        remaining_indices = remaining_recipe_indices(session)\n",
    "        \n",
    "    future_chef_tasks = recompile_remaining_session(session,remaining_indices)\n",
    "    print(future_chef_tasks)\n",
    "    return Session(session.recipe, {\n",
    "        chef: session.chef_tasks[chef][:next_unstarted_task(session, chef)] + future_chef_tasks[chef] \n",
    "        for chef in session.chef_tasks\n",
    "    })\n",
    "\n",
    "\n",
    "\n",
    "def new_chef_joined(session, new_chef, now):\n",
    "    \n",
    "    if new_chef in session.chef_tasks:\n",
    "        return session\n",
    "    \n",
    "    tasks_plus = session.chef_tasks\n",
    "    tasks_plus[new_chef] = ()\n",
    "    \n",
    "    return advance_task_for_chef(recompile_session(Session(session.recipe, tasks_plus)), new_chef, now)\n",
    "\n",
    "def chef_leave(session, chef):\n",
    "    raise NotImplementedError\n",
    "\n",
    "def dismiss_timer(session, chef, now):\n",
    "    raise NotImplementedError\n",
    "\n",
    "def active_timers(session, chef) -> Tuple[ChefTask]:\n",
    "    raise NotImplementedError\n",
    "\n",
    "# and more"
   ]
  },
  {
   "cell_type": "code",
   "execution_count": 12,
   "id": "0b161fc4",
   "metadata": {},
   "outputs": [],
   "source": [
    "i1 = CookingInstruction(0, \"Chop onions\", 60, True, [])\n",
    "i2 = CookingInstruction(1, \"Boil water\", 120, False, [0])\n",
    "i3 = CookingInstruction(2, \"Saute onions\", 90, True, [0,1])    \n",
    "i4 = CookingInstruction(3, \"4 from scretch\", 40, True, []) \n",
    "i5 = CookingInstruction(4, \"5 from scretch\", 50, True, [])\n",
    "i6 = CookingInstruction(5, \"6 from scretch\", 60, True, [])\n",
    "\n",
    "recipe = (i1,i2,i3,i4,i5,i6)\n",
    "\n",
    "#ChefTasks\n",
    "A1 = ChefTask(0)\n",
    "A2 = ChefTask(1)\n",
    "A3 = ChefTask(3)\n",
    "A4 = ChefTask(4)\n",
    "A5 = ChefTask(6)\n",
    "\n",
    "B1 = ChefTask(2)\n",
    "B2 = ChefTask(5)\n",
    "\n",
    "#Session\n",
    "session = Session(recipe, {'Alice':(A1,A2,A3,A4,A5), 'Bob':(B1,B2)})\n",
    "\n"
   ]
  },
  {
   "cell_type": "code",
   "execution_count": 13,
   "id": "60592b63",
   "metadata": {},
   "outputs": [
    {
     "data": {
      "text/plain": [
       "(ChefTask(instruction_index=0, when_started=3333, when_dismissed=None),\n",
       " ChefTask(instruction_index=1, when_started=None, when_dismissed=None),\n",
       " ChefTask(instruction_index=3, when_started=None, when_dismissed=None),\n",
       " ChefTask(instruction_index=4, when_started=None, when_dismissed=None),\n",
       " ChefTask(instruction_index=6, when_started=None, when_dismissed=None))"
      ]
     },
     "execution_count": 13,
     "metadata": {},
     "output_type": "execute_result"
    }
   ],
   "source": [
    "session1 = advance_task_for_chef(session, 'Alice', 3333)\n",
    "session1.chef_tasks['Alice']\n"
   ]
  },
  {
   "cell_type": "code",
   "execution_count": 14,
   "id": "efd71e48",
   "metadata": {},
   "outputs": [
    {
     "data": {
      "text/plain": [
       "(ChefTask(instruction_index=0, when_started=3333, when_dismissed=None),\n",
       " ChefTask(instruction_index=1, when_started=7777, when_dismissed=None),\n",
       " ChefTask(instruction_index=3, when_started=None, when_dismissed=None),\n",
       " ChefTask(instruction_index=4, when_started=None, when_dismissed=None),\n",
       " ChefTask(instruction_index=6, when_started=None, when_dismissed=None))"
      ]
     },
     "execution_count": 14,
     "metadata": {},
     "output_type": "execute_result"
    }
   ],
   "source": [
    "session2 = advance_task_for_chef(session1, 'Alice', 7777)\n",
    "session2.chef_tasks['Alice']"
   ]
  },
  {
   "cell_type": "code",
   "execution_count": 15,
   "id": "d189fc95",
   "metadata": {},
   "outputs": [
    {
     "name": "stdout",
     "output_type": "stream",
     "text": [
      "(0, 1, 3, 4, 6, 2, 5)\n",
      "(2, 5, 1, 3, 4, 6)\n",
      "(2, 5, 3, 4, 6)\n"
     ]
    }
   ],
   "source": [
    "print(remaining_recipe_indices(session))\n",
    "print(remaining_recipe_indices(session1))\n",
    "print(remaining_recipe_indices(session2))"
   ]
  },
  {
   "cell_type": "code",
   "execution_count": 16,
   "id": "93b33338",
   "metadata": {},
   "outputs": [
    {
     "data": {
      "text/plain": [
       "(0, 1, 3, 4, 6, 2, 5)"
      ]
     },
     "execution_count": 16,
     "metadata": {},
     "output_type": "execute_result"
    }
   ],
   "source": [
    "remaining_recipe_indices(session)"
   ]
  },
  {
   "cell_type": "code",
   "execution_count": 17,
   "id": "914507e2",
   "metadata": {},
   "outputs": [
    {
     "name": "stdout",
     "output_type": "stream",
     "text": [
      "remaining_instructions are [CookingInstruction(index=0, task='Chop onions', duration=60, attention=True, dependencies=[]), CookingInstruction(index=1, task='Boil water', duration=120, attention=False, dependencies=[0]), CookingInstruction(index=2, task='Saute onions', duration=90, attention=True, dependencies=[0, 1]), CookingInstruction(index=3, task='4 from scretch', duration=40, attention=True, dependencies=[]), CookingInstruction(index=4, task='5 from scretch', duration=50, attention=True, dependencies=[]), CookingInstruction(index=5, task='6 from scretch', duration=60, attention=True, dependencies=[])]\n",
      "timeslot[0] == 0\n",
      "1/6 process does single high attention task\n"
     ]
    },
    {
     "name": "stderr",
     "output_type": "stream",
     "text": [
      "100%|███████████████████████████████████████████████████████████████████████████████████████████████████████████████████████████████████████████████████████████████████████████████████████████| 36/36 [00:00<00:00, 118.48it/s]\n"
     ]
    },
    {
     "name": "stdout",
     "output_type": "stream",
     "text": [
      "2/6 resource can do one thing at a time\n"
     ]
    },
    {
     "name": "stderr",
     "output_type": "stream",
     "text": [
      "0it [00:00, ?it/s]\n"
     ]
    },
    {
     "name": "stdout",
     "output_type": "stream",
     "text": [
      "3/6 every vertex is done at least once\n"
     ]
    },
    {
     "name": "stderr",
     "output_type": "stream",
     "text": [
      "100%|████████████████████████████████████████████████████████████████████████████████████████████████████████████████████████████████████████████████████████████████████████████████████████████| 6/6 [00:00<00:00, 9045.95it/s]\n"
     ]
    },
    {
     "name": "stdout",
     "output_type": "stream",
     "text": [
      "4/6 every task is done at most once\n"
     ]
    },
    {
     "name": "stderr",
     "output_type": "stream",
     "text": [
      "100%|██████████████████████████████████████████████████████████████████████████████████████████████████████████████████████████████████████████████████████████████████████████████████████████████| 4/4 [00:04<00:00,  1.03s/it]\n"
     ]
    },
    {
     "name": "stdout",
     "output_type": "stream",
     "text": [
      "6/6 the task execution follows the graph structure\n"
     ]
    },
    {
     "name": "stderr",
     "output_type": "stream",
     "text": [
      "100%|██████████████████████████████████████████████████████████████████████████████████████████████████████████████████████████████████████████████████████████████████████████████████████████████| 3/3 [00:02<00:00,  1.36it/s]\n",
      "100%|███████████████████████████████████████████████████████████████████████████████████████████████████████████████████████████████████████████████████████████████████████████| 12686086/12686086 [00:02<00:00, 4804329.68it/s]\n"
     ]
    },
    {
     "name": "stdout",
     "output_type": "stream",
     "text": [
      "{'Alice': (ChefTask(instruction_index=5, when_started=None, when_dismissed=None), ChefTask(instruction_index=4, when_started=None, when_dismissed=None), ChefTask(instruction_index=3, when_started=None, when_dismissed=None), ChefTask(instruction_index=0, when_started=None, when_dismissed=None), ChefTask(instruction_index=1, when_started=None, when_dismissed=None), ChefTask(instruction_index=2, when_started=None, when_dismissed=None)), 'Bob': ()}\n"
     ]
    },
    {
     "data": {
      "text/plain": [
       "Session(recipe=(CookingInstruction(index=0, task='Chop onions', duration=60, attention=True, dependencies=[]), CookingInstruction(index=1, task='Boil water', duration=120, attention=False, dependencies=[0]), CookingInstruction(index=2, task='Saute onions', duration=90, attention=True, dependencies=[0, 1]), CookingInstruction(index=3, task='4 from scretch', duration=40, attention=True, dependencies=[]), CookingInstruction(index=4, task='5 from scretch', duration=50, attention=True, dependencies=[]), CookingInstruction(index=5, task='6 from scretch', duration=60, attention=True, dependencies=[])), chef_tasks={'Alice': (ChefTask(instruction_index=5, when_started=None, when_dismissed=None), ChefTask(instruction_index=4, when_started=None, when_dismissed=None), ChefTask(instruction_index=3, when_started=None, when_dismissed=None), ChefTask(instruction_index=0, when_started=None, when_dismissed=None), ChefTask(instruction_index=1, when_started=None, when_dismissed=None), ChefTask(instruction_index=2, when_started=None, when_dismissed=None)), 'Bob': ()})"
      ]
     },
     "execution_count": 17,
     "metadata": {},
     "output_type": "execute_result"
    }
   ],
   "source": [
    "recompile_session(session)"
   ]
  },
  {
   "cell_type": "code",
   "execution_count": 18,
   "id": "c5cbb2ee",
   "metadata": {},
   "outputs": [
    {
     "name": "stdout",
     "output_type": "stream",
     "text": [
      "remaining_instructions are [CookingInstruction(index=0, task='Chop onions', duration=60, attention=True, dependencies=[]), CookingInstruction(index=1, task='Boil water', duration=120, attention=False, dependencies=[0]), CookingInstruction(index=2, task='Saute onions', duration=90, attention=True, dependencies=[0, 1]), CookingInstruction(index=3, task='4 from scretch', duration=40, attention=True, dependencies=[]), CookingInstruction(index=4, task='5 from scretch', duration=50, attention=True, dependencies=[]), CookingInstruction(index=5, task='6 from scretch', duration=60, attention=True, dependencies=[])]\n",
      "timeslot[0] == 0\n",
      "1/6 process does single high attention task\n"
     ]
    },
    {
     "name": "stderr",
     "output_type": "stream",
     "text": [
      "100%|████████████████████████████████████████████████████████████████████████████████████████████████████████████████████████████████████████████████████████████████████████████████████████████| 36/36 [00:00<00:00, 80.13it/s]\n"
     ]
    },
    {
     "name": "stdout",
     "output_type": "stream",
     "text": [
      "2/6 resource can do one thing at a time\n"
     ]
    },
    {
     "name": "stderr",
     "output_type": "stream",
     "text": [
      "0it [00:00, ?it/s]\n"
     ]
    },
    {
     "name": "stdout",
     "output_type": "stream",
     "text": [
      "3/6 every vertex is done at least once\n"
     ]
    },
    {
     "name": "stderr",
     "output_type": "stream",
     "text": [
      "100%|████████████████████████████████████████████████████████████████████████████████████████████████████████████████████████████████████████████████████████████████████████████████████████████| 6/6 [00:00<00:00, 4824.74it/s]\n"
     ]
    },
    {
     "name": "stdout",
     "output_type": "stream",
     "text": [
      "4/6 every task is done at most once\n"
     ]
    },
    {
     "name": "stderr",
     "output_type": "stream",
     "text": [
      "100%|██████████████████████████████████████████████████████████████████████████████████████████████████████████████████████████████████████████████████████████████████████████████████████████████| 9/9 [00:10<00:00,  1.15s/it]\n"
     ]
    },
    {
     "name": "stdout",
     "output_type": "stream",
     "text": [
      "6/6 the task execution follows the graph structure\n"
     ]
    },
    {
     "name": "stderr",
     "output_type": "stream",
     "text": [
      "100%|██████████████████████████████████████████████████████████████████████████████████████████████████████████████████████████████████████████████████████████████████████████████████████████████| 3/3 [00:03<00:00,  1.31s/it]\n",
      "100%|███████████████████████████████████████████████████████████████████████████████████████████████████████████████████████████████████████████████████████████████████████████| 27526386/27526386 [00:05<00:00, 4824172.51it/s]\n"
     ]
    },
    {
     "name": "stdout",
     "output_type": "stream",
     "text": [
      "{'Alice': (ChefTask(instruction_index=5, when_started=None, when_dismissed=None), ChefTask(instruction_index=4, when_started=None, when_dismissed=None), ChefTask(instruction_index=3, when_started=None, when_dismissed=None), ChefTask(instruction_index=0, when_started=None, when_dismissed=None), ChefTask(instruction_index=1, when_started=None, when_dismissed=None), ChefTask(instruction_index=2, when_started=None, when_dismissed=None)), 'Bob': (), 'Joe': ()}\n"
     ]
    }
   ],
   "source": [
    "session_Joe= new_chef_joined(session,'Joe',1414)"
   ]
  },
  {
   "cell_type": "code",
   "execution_count": 19,
   "id": "99a4b19f",
   "metadata": {},
   "outputs": [
    {
     "data": {
      "text/plain": [
       "Session(recipe=(CookingInstruction(index=0, task='Chop onions', duration=60, attention=True, dependencies=[]), CookingInstruction(index=1, task='Boil water', duration=120, attention=False, dependencies=[0]), CookingInstruction(index=2, task='Saute onions', duration=90, attention=True, dependencies=[0, 1]), CookingInstruction(index=3, task='4 from scretch', duration=40, attention=True, dependencies=[]), CookingInstruction(index=4, task='5 from scretch', duration=50, attention=True, dependencies=[]), CookingInstruction(index=5, task='6 from scretch', duration=60, attention=True, dependencies=[])), chef_tasks={'Alice': (ChefTask(instruction_index=5, when_started=None, when_dismissed=None), ChefTask(instruction_index=4, when_started=None, when_dismissed=None), ChefTask(instruction_index=3, when_started=None, when_dismissed=None), ChefTask(instruction_index=0, when_started=None, when_dismissed=None), ChefTask(instruction_index=1, when_started=None, when_dismissed=None), ChefTask(instruction_index=2, when_started=None, when_dismissed=None)), 'Bob': (), 'Joe': ()})"
      ]
     },
     "execution_count": 19,
     "metadata": {},
     "output_type": "execute_result"
    }
   ],
   "source": [
    "session_Joe"
   ]
  },
  {
   "cell_type": "code",
   "execution_count": null,
   "id": "1649cf42",
   "metadata": {},
   "outputs": [],
   "source": []
  },
  {
   "cell_type": "code",
   "execution_count": null,
   "id": "682d3889-8c0a-4283-bf6e-ae41aedeef5f",
   "metadata": {},
   "outputs": [],
   "source": []
  },
  {
   "cell_type": "code",
   "execution_count": null,
   "id": "f2fd186b-f8ad-42c2-9486-31f9da6367f7",
   "metadata": {},
   "outputs": [],
   "source": []
  },
  {
   "cell_type": "code",
   "execution_count": null,
   "id": "129b602f-05dc-466d-b6db-bd2ea0f97516",
   "metadata": {},
   "outputs": [],
   "source": []
  },
  {
   "cell_type": "code",
   "execution_count": null,
   "id": "2ada4d2e-79fb-4c44-98e7-b86dbbee4b60",
   "metadata": {},
   "outputs": [],
   "source": []
  }
 ],
 "metadata": {
  "kernelspec": {
   "display_name": "Python 3 (ipykernel)",
   "language": "python",
   "name": "python3"
  },
  "language_info": {
   "codemirror_mode": {
    "name": "ipython",
    "version": 3
   },
   "file_extension": ".py",
   "mimetype": "text/x-python",
   "name": "python",
   "nbconvert_exporter": "python",
   "pygments_lexer": "ipython3",
   "version": "3.12.8"
  }
 },
 "nbformat": 4,
 "nbformat_minor": 5
}
