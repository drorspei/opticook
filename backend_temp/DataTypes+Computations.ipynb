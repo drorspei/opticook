{
 "cells": [
  {
   "cell_type": "code",
   "execution_count": 1,
   "id": "02e21b1e",
   "metadata": {},
   "outputs": [],
   "source": [
    "#### DATA TYPES ####\n",
    "### TODO-1: change tuples to lists in basic data classes\n",
    "### TODO0: update the recomplie_remaining_tasks to do a binary search... \n",
    "### TODO1: in \"chef_leaves\", handle active (ongion) tasks of `chef`\n",
    "### TODO2: handle resource collisions (e.g, an oven)\n",
    "### TODO3: Add mltiple rooms \n"
   ]
  },
  {
   "cell_type": "code",
   "execution_count": 115,
   "id": "36594d90-13b3-426c-b1ea-ba80c2d9db18",
   "metadata": {},
   "outputs": [],
   "source": [
    "from typing import List, Dict, Optional, Tuple\n",
    "from dataclasses import dataclass\n",
    "from RecipeCompilation import *\n",
    "\n",
    "\n",
    "@dataclass\n",
    "class CookingInstruction:\n",
    "    index: int\n",
    "    task: str\n",
    "    duration: int\n",
    "    attention: bool\n",
    "    dependencies: Tuple[int] = ()\n",
    "\n",
    "@dataclass\n",
    "class ChefTask:\n",
    "    instruction_index: int\n",
    "    when_started: Optional[int]=None\n",
    "    when_dismissed: Optional[int]=None\n",
    "\n",
    "@dataclass\n",
    "class Session:\n",
    "    recipe: Tuple[CookingInstruction, ...]\n",
    "    chef_tasks: Dict[str, Tuple[ChefTask, ...]]\n",
    "\n",
    "############################"
   ]
  },
  {
   "cell_type": "code",
   "execution_count": 4,
   "id": "c33f6eda-d3b5-41b5-9c94-26cc2a106506",
   "metadata": {},
   "outputs": [
    {
     "data": {
      "text/plain": [
       "'\\nprivate stuff:\\n1. alice find recipe\\n2. alice enters url\\n3. llm is called, it saves recipe, we upload it.\\n---------\\npublic stuff:\\n1. alice goes to main page and sees a large text box\\n2. alice enters a recipe (i.e. list of CookingInstructions) and presses \"enter recipe\"\\n3. alice enters names of chefs for this device \"alice\", \"bob\"\\n4. screen shows two parts: alice sees wash hands, bob sees wash hands, and \"done!\" buttons\\n5. they both press \"done!\" buttons\\n5. screen shows two parts: alice sees \"put eggs to boil\", bob sees to not do anything, the algorithm thinks he is useless\\n2. alice presses \"done!\"\\n3. alice sees \"chop carrots\", and a 5 minute timer for eggs\\n4. alice presses done! (it took her 3 minutes, as expected, she\\'s on time, she\\'s the best.)\\n5. put carrots in oven, close door, doesn\\'t have to be on.\\n6. alice sees just timers\\n7. alice hears egg timer goes off and sees take out eggs\\n8. alice dismisses timer and goes to sleep. fuck this recipe.\\n'"
      ]
     },
     "execution_count": 4,
     "metadata": {},
     "output_type": "execute_result"
    }
   ],
   "source": [
    "state = {}  # global state\n",
    "\n",
    "def main_page():\n",
    "    return \"enter url!\"\n",
    "\n",
    "def process_url(url: str):\n",
    "    state[\"url\"] = url\n",
    "    return \"enter names!\"\n",
    "\n",
    "# simulation of the story\n",
    "main_page()\n",
    "process_url(\"actual url\")\n",
    "\n",
    "def parse_cooking_instructions(str) -> List[CookingInstruction]:\n",
    "    pass\n",
    "\n",
    "\"\"\"\n",
    "private stuff:\n",
    "1. alice find recipe\n",
    "2. alice enters url\n",
    "3. llm is called, it saves recipe, we upload it.\n",
    "---------\n",
    "public stuff:\n",
    "1. alice goes to main page and sees a large text box\n",
    "2. alice enters a recipe (i.e. list of CookingInstructions) and presses \"enter recipe\"\n",
    "3. alice enters names of chefs for this device \"alice\", \"bob\"\n",
    "4. screen shows two parts: alice sees wash hands, bob sees wash hands, and \"done!\" buttons\n",
    "5. they both press \"done!\" buttons\n",
    "5. screen shows two parts: alice sees \"put eggs to boil\", bob sees to not do anything, the algorithm thinks he is useless\n",
    "2. alice presses \"done!\"\n",
    "3. alice sees \"chop carrots\", and a 5 minute timer for eggs\n",
    "4. alice presses done! (it took her 3 minutes, as expected, she's on time, she's the best.)\n",
    "5. put carrots in oven, close door, doesn't have to be on.\n",
    "6. alice sees just timers\n",
    "7. alice hears egg timer goes off and sees take out eggs\n",
    "8. alice dismisses timer and goes to sleep. fuck this recipe.\n",
    "\"\"\""
   ]
  },
  {
   "cell_type": "code",
   "execution_count": 112,
   "id": "215cac3a-21c4-494f-9b03-d1902d6a1510",
   "metadata": {},
   "outputs": [],
   "source": [
    "### TODO1: in \"chef_leaves\", handle active (ongion) tasks of `chef`\n",
    "### TODO2: handle resource collisions (e.g, an oven)\n",
    "### TODO3: Add mltiple rooms \n",
    "\n",
    "\n",
    "\n",
    "def next_unstarted_task(session, chef):\n",
    "    \"\"\"Return the index in the chef's tasks of the first unstarted instruction if exists, otherwise None \n",
    "    *** Maybe better to return the length of the tuple otherwise. Useful for taking the tail of unstarted tasks ***\"\"\"\n",
    "    return ([i for i,task in enumerate(session.chef_tasks[chef]) if task.when_started == None]\n",
    "            +[len(session.chef_tasks[chef])])[0]\n",
    "    #return ([i for i,task in enumerate(session.chef_tasks[chef]) if task.when_started == None]+[None])[0]\n",
    "    \n",
    "\n",
    "def advance_task_for_chef(session, chef, now):\n",
    "    i = next_unstarted_task(session, chef)\n",
    "    if i == len(session.chef_tasks[chef]):\n",
    "    #if i is None:\n",
    "        return session\n",
    "        \n",
    "    chef_tasks = {chef2 : session.chef_tasks[chef2] for chef2 in session.chef_tasks if chef2 != chef}\n",
    "    chef_tasks[chef] = (\n",
    "        session.chef_tasks[chef][:i]\n",
    "        + ( ChefTask(\n",
    "                session.chef_tasks[chef][i].instruction_index, now),)\n",
    "        + session.chef_tasks[chef][i + 1:]\n",
    "    )\n",
    "    return Session(session.recipe, chef_tasks)\n",
    "\n",
    "\n",
    "def remaining_recipe_indices(session):\n",
    "    return tuple(task.instruction_index for task in sum(\n",
    "        [session.chef_tasks[chef][next_unstarted_task(session, chef):] for chef in session.chef_tasks],()\n",
    "    ))\n",
    "\n",
    "def recompile_remaining_session(session,remaining_indices):\n",
    "    chefs_list = list(session.chef_tasks.keys())\n",
    "    #remaining_indices = remaining_recipe_indices(session)\n",
    "    recipe = session.recipe\n",
    "    \n",
    "    # 1. Vertices (indices of all future instructions)\n",
    "    remaining_instructions = [instr for instr in recipe if instr.index in remaining_indices]\n",
    "    print(\"remaining_instructions are\", remaining_instructions)\n",
    "    vertices = [instr.index for instr in remaining_instructions]\n",
    "    vertex_set = set(vertices)  # for fast lookup\n",
    "\n",
    "    # 2. Edges: only include dependencies where both source and target are in future_instructions\n",
    "    edges = []\n",
    "    time_ub = 0\n",
    "    for instr in remaining_instructions:\n",
    "        if instr.attention:\n",
    "            time_ub += instr.duration\n",
    "        \n",
    "        for dep in instr.dependencies:\n",
    "            if dep in vertex_set:\n",
    "                edges.append((dep, instr.index))\n",
    "\n",
    "    # 3. Assignment map: only for vertices in the future\n",
    "    assignment_map = {\n",
    "        instr.index: Assignment(instr.attention, instr.duration)\n",
    "        for instr in remaining_instructions\n",
    "    }\n",
    "\n",
    "    \n",
    "    #4. Setup the SAT equations\n",
    "    clauses, tuples, tuple2idx = recipe2sat(chefs_list, vertices, edges, assignment_map, time_ub, time_unit=cooking_time_unit)\n",
    "    \n",
    "    \n",
    "    #5. Solve SAT\n",
    "    chosen_triples = satSolve(clauses, tuple2idx)  \n",
    "    chosen_triples.sort(key=lambda trip: trip[1])\n",
    "    # trip = (p,t,v) is a triple where trip[0] = p = chef's_name (aka processor), trip[1] = t = starting time_slot,\n",
    "    # trip[2] = v = instruction index\n",
    "    \n",
    "    return {\n",
    "        chef: tuple(ChefTask(trip[2])\n",
    "                    for trip in [trip for trip in chosen_triples if trip[0] == chef])\n",
    "        for chef in chefs_list\n",
    "    }\n",
    "\n",
    "\n",
    "def recompile_session(session,remaining_indices = None):\n",
    "    if remaining_indices == None:\n",
    "        remaining_indices = remaining_recipe_indices(session)\n",
    "        \n",
    "    future_chef_tasks = recompile_remaining_session(session,remaining_indices)\n",
    "    print(future_chef_tasks)\n",
    "    return Session(session.recipe, {\n",
    "        chef: session.chef_tasks[chef][:next_unstarted_task(session, chef)] + future_chef_tasks[chef] \n",
    "        for chef in session.chef_tasks\n",
    "    })\n",
    "\n",
    "\n",
    "\n",
    "def new_chef_joined(session, new_chef, now):\n",
    "    \n",
    "    if new_chef in session.chef_tasks:\n",
    "        return session\n",
    "    \n",
    "    tasks_plus = session.chef_tasks\n",
    "    tasks_plus[new_chef] = ()\n",
    "    \n",
    "    return advance_task_for_chef(recompile_session(Session(session.recipe, tasks_plus)), new_chef, now)\n",
    "\n",
    "def chef_leave(session: Session, chef: str) -> Session:\n",
    "    \"\"\"\n",
    "    given a `session` and `chef`, returns a new session whose chef_tasks assignments includes all the previous chefs except `chef`\n",
    "    \"\"\"\n",
    "    if not chef in session.chef_tasks:\n",
    "        return session\n",
    "    \n",
    "    tasks = {ch : tasks for ch,tasks in session.chef_tasks.items() if cf != chef}\n",
    "    if tasks:\n",
    "        tasks[next(iter(tasks))] += session.chef_tasks[chef]  # list(tasks)[0] = next(iter(tasks))\n",
    "    \n",
    "    session = Session(session.recipe, tasks)\n",
    "\n",
    "    return recompile_session(session) ### TODO: handle active (ongion) tasks of `chef`\n",
    "    \n",
    "\n",
    "def dismiss_timer(session:Session, inst_index:int, now:int) -> Session:\n",
    "    \"\"\"\"\n",
    "    Given a `session' and an index `inst_index` of an instruction, looks for a active (ongoing) \n",
    "    but unfinished task with index `inst_index`, returns a new session\n",
    "    where the given chef's task is marked as finished with time stamp `now`\n",
    "    \"\"\"\n",
    "    #values, keys, items\n",
    "    \n",
    "    tasks = [task for tasks in session.chef_tasks.values() for task in tasks if task.instruction_index==inst_index]\n",
    "    if tasks:\n",
    "        task = tasks[0]  #Assuming unique task per instruction\n",
    "        if task.when_started == None:\n",
    "            print(\"The instruction whose index is\", inst_index, \"hasn't started!\")\n",
    "            return session\n",
    "        elif task.when_dismissed != None:\n",
    "            print(\"The instruction whose index is\", inst_index, \"was already dismissed!\")\n",
    "            return session\n",
    "        \n",
    "        chef = [ch for ch in session.chef_tasks if task in session.chef_tasks[ch]][0]    #Assuming unique chef for each task\n",
    "        i= [idx for idx,tsk in enumerate(session.chef_tasks[chef]) if tsk == task][0]\n",
    "        chef_tasks = {chef2 : session.chef_tasks[chef2] for chef2 in session.chef_tasks if chef2 != chef}\n",
    "        chef_tasks[chef] = session.chef_tasks[chef][:i] + tuple([ChefTask(task.instruction_index,task.when_started,now)]) + session.chef_tasks[chef][i+1:]\n",
    "        return Session(session.recipe, chef_tasks)\n",
    "    \n",
    "    print(\"The instruction whose index is\", inst_index, \"does not appear in the chefs' tasks lists\")\n",
    "    return session\n",
    "    \n",
    "def reset_active_task(session:Session, inst_index:int) -> Session:\n",
    "    \"\"\"\"\n",
    "    Given a `session' and an index `inst_index` of an instruction, looks for a active (ongoing) but nonfinished task with index `inst_index`, returns a new session\n",
    "    where the given chef's task is marked as unstarted.\n",
    "    \"\"\"\n",
    "    \n",
    "    tasks = [task for tasks in session.chef_tasks.values() for task in tasks if task.instruction_index==inst_index]\n",
    "    if tasks:\n",
    "        task = tasks[0]  #Assuming unique task per instruction\n",
    "        if task.when_started == None:\n",
    "            print(\"The instruction whose index is\", inst_index, \"hasn't started!\")\n",
    "            return session\n",
    "        elif task.when_dismissed != None: \n",
    "            print(\"The instruction whose index is\", inst_index, \"was dismissed!\")\n",
    "            return session\n",
    "        \n",
    "        chef = [ch for ch in session.chef_tasks if task in session.chef_tasks[ch]][0]   #Assuming unique chef for each task\n",
    "        i= [idx for idx,tsk in enumerate(session.chef_tasks[chef]) if tsk == task][0]\n",
    "        chef_tasks = {chef2 : session.chef_tasks[chef2] for chef2 in session.chef_tasks if chef2 != chef}\n",
    "        chef_tasks[chef] = session.chef_tasks[chef][:i] + tuple([ChefTask(task.instruction_index,None,None)]) + session.chef_tasks[chef][i+1:]\n",
    "        return Session(session.recipe, chef_tasks)\n",
    "        \n",
    "\n",
    "    \n",
    "def active_timers(session, chef,now) -> List[ChefTask]:\n",
    "    \"\"\"\"\n",
    "    Given a `session' and a chef `chef`, returns the list of tasks assigned to this chef that are both active and do\n",
    "    NOT require attention. \n",
    "    \n",
    "    \"\"\"\n",
    "    return [task for task in session.chef_tasks[chef] if not(session.recipe[task.instruction_index].attention) \n",
    "            and task.when_started != None and (task.when_started or 0 < now) and task.when_dismissed == None]\n",
    "\n",
    "    \n",
    "\n",
    "# and more"
   ]
  },
  {
   "cell_type": "code",
   "execution_count": 91,
   "id": "0b161fc4",
   "metadata": {},
   "outputs": [],
   "source": [
    "i1 = CookingInstruction(0, \"Chop onions\", 60, True, [])\n",
    "i2 = CookingInstruction(1, \"Boil water\", 120, False, [0])\n",
    "i3 = CookingInstruction(2, \"Saute onions\", 90, False, [0,1])    \n",
    "i4 = CookingInstruction(3, \"4 from scretch\", 40, False, []) \n",
    "i5 = CookingInstruction(4, \"5 from scretch\", 50, True, [])\n",
    "i6 = CookingInstruction(5, \"6 from scretch\", 60, True, [])\n",
    "\n",
    "recipe = (i1,i2,i3,i4,i5,i6)\n",
    "\n",
    "#ChefTasks\n",
    "A1 = ChefTask(0)\n",
    "A2 = ChefTask(1)\n",
    "A3 = ChefTask(3)\n",
    "A4 = ChefTask(4)\n",
    "A5 = ChefTask(5)\n",
    "\n",
    "B1 = ChefTask(2)\n",
    "B2 = ChefTask(5)\n",
    "\n",
    "#Session\n",
    "session = Session(recipe, {'Alice':(A1,A2,A3,A4,A5), 'Bob':(B1,B2)})\n",
    "\n"
   ]
  },
  {
   "cell_type": "code",
   "execution_count": 107,
   "id": "995c49e3",
   "metadata": {},
   "outputs": [],
   "source": [
    "i1 = CookingInstruction(0, \"Chop onions\", 60, True, [])\n",
    "i2 = CookingInstruction(1, \"Boil water\", 120, False, [0])\n",
    "i3 = CookingInstruction(2, \"Saute onions\", 90, False, [0,1])    \n",
    "i4 = CookingInstruction(3, \"4 from scretch\", 40, False, []) \n",
    "i5 = CookingInstruction(4, \"5 from scretch\", 50, True, [])\n",
    "i6 = CookingInstruction(5, \"6 from scretch\", 6|0, True, [])\n",
    "\n",
    "recipe = (i1,i2,i3,i4,i5,i6)\n",
    "\n",
    "#ChefTasks\n",
    "A1 = ChefTask(0,0)\n",
    "A2 = ChefTask(1,1)\n",
    "A3 = ChefTask(3,1)\n",
    "A4 = ChefTask(4,4)\n",
    "A5 = ChefTask(5,1)\n",
    "\n",
    "B1 = ChefTask(2,0)\n",
    "B2 = ChefTask(5)\n",
    "\n",
    "#Session\n",
    "active_session = Session(recipe, {'Alice':(A1,A2,A3,A4,A5), 'Bob':(B1,B2)})\n"
   ]
  },
  {
   "cell_type": "code",
   "execution_count": 109,
   "id": "6a0c2f7e",
   "metadata": {},
   "outputs": [
    {
     "data": {
      "text/plain": [
       "(ChefTask(instruction_index=2, when_started=0, when_dismissed=None),\n",
       " ChefTask(instruction_index=5, when_started=None, when_dismissed=None))"
      ]
     },
     "execution_count": 109,
     "metadata": {},
     "output_type": "execute_result"
    }
   ],
   "source": [
    "active_session.chef_tasks['Bob']"
   ]
  },
  {
   "cell_type": "code",
   "execution_count": 106,
   "id": "d4287091",
   "metadata": {},
   "outputs": [
    {
     "data": {
      "text/plain": [
       "(ChefTask(instruction_index=2, when_started=None, when_dismissed=None),\n",
       " ChefTask(instruction_index=5, when_started=None, when_dismissed=None))"
      ]
     },
     "execution_count": 106,
     "metadata": {},
     "output_type": "execute_result"
    }
   ],
   "source": [
    "reset_active_task(active_session,2).chef_tasks['Bob']"
   ]
  },
  {
   "cell_type": "code",
   "execution_count": 114,
   "id": "28057dec",
   "metadata": {},
   "outputs": [
    {
     "data": {
      "text/plain": [
       "(ChefTask(instruction_index=0, when_started=0, when_dismissed=None),\n",
       " ChefTask(instruction_index=1, when_started=1, when_dismissed=4),\n",
       " ChefTask(instruction_index=3, when_started=1, when_dismissed=None),\n",
       " ChefTask(instruction_index=4, when_started=4, when_dismissed=None),\n",
       " ChefTask(instruction_index=5, when_started=1, when_dismissed=None))"
      ]
     },
     "execution_count": 114,
     "metadata": {},
     "output_type": "execute_result"
    }
   ],
   "source": [
    "dismiss_timer(active_session,1,4).chef_tasks['Alice']"
   ]
  },
  {
   "cell_type": "code",
   "execution_count": 110,
   "id": "a103ac6c",
   "metadata": {},
   "outputs": [
    {
     "data": {
      "text/plain": [
       "[ChefTask(instruction_index=1, when_started=1, when_dismissed=None),\n",
       " ChefTask(instruction_index=3, when_started=1, when_dismissed=None)]"
      ]
     },
     "execution_count": 110,
     "metadata": {},
     "output_type": "execute_result"
    }
   ],
   "source": [
    "chef = 'Alice'\n",
    "now = 10\n",
    "active_timers(active_session,chef,now)\n",
    "#[task for task in session.chef_tasks[chef] if task.instruction_index == 3]\n",
    "\n",
    "#session.recipe[[task for task in session.chef_tasks[chef]][3].instruction_index]"
   ]
  },
  {
   "cell_type": "code",
   "execution_count": 7,
   "id": "60592b63",
   "metadata": {},
   "outputs": [
    {
     "data": {
      "text/plain": [
       "(ChefTask(instruction_index=0, when_started=3333, when_dismissed=None),\n",
       " ChefTask(instruction_index=1, when_started=None, when_dismissed=None),\n",
       " ChefTask(instruction_index=3, when_started=None, when_dismissed=None),\n",
       " ChefTask(instruction_index=4, when_started=None, when_dismissed=None),\n",
       " ChefTask(instruction_index=6, when_started=None, when_dismissed=None))"
      ]
     },
     "execution_count": 7,
     "metadata": {},
     "output_type": "execute_result"
    }
   ],
   "source": [
    "session1 = advance_task_for_chef(session, 'Alice', 3333)\n",
    "session1.chef_tasks['Alice']\n"
   ]
  },
  {
   "cell_type": "code",
   "execution_count": 8,
   "id": "efd71e48",
   "metadata": {},
   "outputs": [
    {
     "data": {
      "text/plain": [
       "(ChefTask(instruction_index=0, when_started=3333, when_dismissed=None),\n",
       " ChefTask(instruction_index=1, when_started=7777, when_dismissed=None),\n",
       " ChefTask(instruction_index=3, when_started=None, when_dismissed=None),\n",
       " ChefTask(instruction_index=4, when_started=None, when_dismissed=None),\n",
       " ChefTask(instruction_index=6, when_started=None, when_dismissed=None))"
      ]
     },
     "execution_count": 8,
     "metadata": {},
     "output_type": "execute_result"
    }
   ],
   "source": [
    "session2 = advance_task_for_chef(session1, 'Alice', 7777)\n",
    "session2.chef_tasks['Alice']"
   ]
  },
  {
   "cell_type": "code",
   "execution_count": 15,
   "id": "d189fc95",
   "metadata": {},
   "outputs": [
    {
     "name": "stdout",
     "output_type": "stream",
     "text": [
      "(0, 1, 3, 4, 6, 2, 5)\n",
      "(2, 5, 1, 3, 4, 6)\n",
      "(2, 5, 3, 4, 6)\n"
     ]
    }
   ],
   "source": [
    "print(remaining_recipe_indices(session))\n",
    "print(remaining_recipe_indices(session1))\n",
    "print(remaining_recipe_indices(session2))"
   ]
  },
  {
   "cell_type": "code",
   "execution_count": 16,
   "id": "93b33338",
   "metadata": {},
   "outputs": [
    {
     "data": {
      "text/plain": [
       "(0, 1, 3, 4, 6, 2, 5)"
      ]
     },
     "execution_count": 16,
     "metadata": {},
     "output_type": "execute_result"
    }
   ],
   "source": [
    "remaining_recipe_indices(session)"
   ]
  },
  {
   "cell_type": "code",
   "execution_count": 17,
   "id": "914507e2",
   "metadata": {},
   "outputs": [
    {
     "name": "stdout",
     "output_type": "stream",
     "text": [
      "remaining_instructions are [CookingInstruction(index=0, task='Chop onions', duration=60, attention=True, dependencies=[]), CookingInstruction(index=1, task='Boil water', duration=120, attention=False, dependencies=[0]), CookingInstruction(index=2, task='Saute onions', duration=90, attention=True, dependencies=[0, 1]), CookingInstruction(index=3, task='4 from scretch', duration=40, attention=True, dependencies=[]), CookingInstruction(index=4, task='5 from scretch', duration=50, attention=True, dependencies=[]), CookingInstruction(index=5, task='6 from scretch', duration=60, attention=True, dependencies=[])]\n",
      "timeslot[0] == 0\n",
      "1/6 process does single high attention task\n"
     ]
    },
    {
     "name": "stderr",
     "output_type": "stream",
     "text": [
      "100%|███████████████████████████████████████████████████████████████████████████████████████████████████████████████████████████████████████████████████████████████████████████████████████████| 36/36 [00:00<00:00, 118.48it/s]\n"
     ]
    },
    {
     "name": "stdout",
     "output_type": "stream",
     "text": [
      "2/6 resource can do one thing at a time\n"
     ]
    },
    {
     "name": "stderr",
     "output_type": "stream",
     "text": [
      "0it [00:00, ?it/s]\n"
     ]
    },
    {
     "name": "stdout",
     "output_type": "stream",
     "text": [
      "3/6 every vertex is done at least once\n"
     ]
    },
    {
     "name": "stderr",
     "output_type": "stream",
     "text": [
      "100%|████████████████████████████████████████████████████████████████████████████████████████████████████████████████████████████████████████████████████████████████████████████████████████████| 6/6 [00:00<00:00, 9045.95it/s]\n"
     ]
    },
    {
     "name": "stdout",
     "output_type": "stream",
     "text": [
      "4/6 every task is done at most once\n"
     ]
    },
    {
     "name": "stderr",
     "output_type": "stream",
     "text": [
      "100%|██████████████████████████████████████████████████████████████████████████████████████████████████████████████████████████████████████████████████████████████████████████████████████████████| 4/4 [00:04<00:00,  1.03s/it]\n"
     ]
    },
    {
     "name": "stdout",
     "output_type": "stream",
     "text": [
      "6/6 the task execution follows the graph structure\n"
     ]
    },
    {
     "name": "stderr",
     "output_type": "stream",
     "text": [
      "100%|██████████████████████████████████████████████████████████████████████████████████████████████████████████████████████████████████████████████████████████████████████████████████████████████| 3/3 [00:02<00:00,  1.36it/s]\n",
      "100%|███████████████████████████████████████████████████████████████████████████████████████████████████████████████████████████████████████████████████████████████████████████| 12686086/12686086 [00:02<00:00, 4804329.68it/s]\n"
     ]
    },
    {
     "name": "stdout",
     "output_type": "stream",
     "text": [
      "{'Alice': (ChefTask(instruction_index=5, when_started=None, when_dismissed=None), ChefTask(instruction_index=4, when_started=None, when_dismissed=None), ChefTask(instruction_index=3, when_started=None, when_dismissed=None), ChefTask(instruction_index=0, when_started=None, when_dismissed=None), ChefTask(instruction_index=1, when_started=None, when_dismissed=None), ChefTask(instruction_index=2, when_started=None, when_dismissed=None)), 'Bob': ()}\n"
     ]
    },
    {
     "data": {
      "text/plain": [
       "Session(recipe=(CookingInstruction(index=0, task='Chop onions', duration=60, attention=True, dependencies=[]), CookingInstruction(index=1, task='Boil water', duration=120, attention=False, dependencies=[0]), CookingInstruction(index=2, task='Saute onions', duration=90, attention=True, dependencies=[0, 1]), CookingInstruction(index=3, task='4 from scretch', duration=40, attention=True, dependencies=[]), CookingInstruction(index=4, task='5 from scretch', duration=50, attention=True, dependencies=[]), CookingInstruction(index=5, task='6 from scretch', duration=60, attention=True, dependencies=[])), chef_tasks={'Alice': (ChefTask(instruction_index=5, when_started=None, when_dismissed=None), ChefTask(instruction_index=4, when_started=None, when_dismissed=None), ChefTask(instruction_index=3, when_started=None, when_dismissed=None), ChefTask(instruction_index=0, when_started=None, when_dismissed=None), ChefTask(instruction_index=1, when_started=None, when_dismissed=None), ChefTask(instruction_index=2, when_started=None, when_dismissed=None)), 'Bob': ()})"
      ]
     },
     "execution_count": 17,
     "metadata": {},
     "output_type": "execute_result"
    }
   ],
   "source": [
    "recompile_session(session)"
   ]
  },
  {
   "cell_type": "code",
   "execution_count": 18,
   "id": "c5cbb2ee",
   "metadata": {},
   "outputs": [
    {
     "name": "stdout",
     "output_type": "stream",
     "text": [
      "remaining_instructions are [CookingInstruction(index=0, task='Chop onions', duration=60, attention=True, dependencies=[]), CookingInstruction(index=1, task='Boil water', duration=120, attention=False, dependencies=[0]), CookingInstruction(index=2, task='Saute onions', duration=90, attention=True, dependencies=[0, 1]), CookingInstruction(index=3, task='4 from scretch', duration=40, attention=True, dependencies=[]), CookingInstruction(index=4, task='5 from scretch', duration=50, attention=True, dependencies=[]), CookingInstruction(index=5, task='6 from scretch', duration=60, attention=True, dependencies=[])]\n",
      "timeslot[0] == 0\n",
      "1/6 process does single high attention task\n"
     ]
    },
    {
     "name": "stderr",
     "output_type": "stream",
     "text": [
      "100%|████████████████████████████████████████████████████████████████████████████████████████████████████████████████████████████████████████████████████████████████████████████████████████████| 36/36 [00:00<00:00, 80.13it/s]\n"
     ]
    },
    {
     "name": "stdout",
     "output_type": "stream",
     "text": [
      "2/6 resource can do one thing at a time\n"
     ]
    },
    {
     "name": "stderr",
     "output_type": "stream",
     "text": [
      "0it [00:00, ?it/s]\n"
     ]
    },
    {
     "name": "stdout",
     "output_type": "stream",
     "text": [
      "3/6 every vertex is done at least once\n"
     ]
    },
    {
     "name": "stderr",
     "output_type": "stream",
     "text": [
      "100%|████████████████████████████████████████████████████████████████████████████████████████████████████████████████████████████████████████████████████████████████████████████████████████████| 6/6 [00:00<00:00, 4824.74it/s]\n"
     ]
    },
    {
     "name": "stdout",
     "output_type": "stream",
     "text": [
      "4/6 every task is done at most once\n"
     ]
    },
    {
     "name": "stderr",
     "output_type": "stream",
     "text": [
      "100%|██████████████████████████████████████████████████████████████████████████████████████████████████████████████████████████████████████████████████████████████████████████████████████████████| 9/9 [00:10<00:00,  1.15s/it]\n"
     ]
    },
    {
     "name": "stdout",
     "output_type": "stream",
     "text": [
      "6/6 the task execution follows the graph structure\n"
     ]
    },
    {
     "name": "stderr",
     "output_type": "stream",
     "text": [
      "100%|██████████████████████████████████████████████████████████████████████████████████████████████████████████████████████████████████████████████████████████████████████████████████████████████| 3/3 [00:03<00:00,  1.31s/it]\n",
      "100%|███████████████████████████████████████████████████████████████████████████████████████████████████████████████████████████████████████████████████████████████████████████| 27526386/27526386 [00:05<00:00, 4824172.51it/s]\n"
     ]
    },
    {
     "name": "stdout",
     "output_type": "stream",
     "text": [
      "{'Alice': (ChefTask(instruction_index=5, when_started=None, when_dismissed=None), ChefTask(instruction_index=4, when_started=None, when_dismissed=None), ChefTask(instruction_index=3, when_started=None, when_dismissed=None), ChefTask(instruction_index=0, when_started=None, when_dismissed=None), ChefTask(instruction_index=1, when_started=None, when_dismissed=None), ChefTask(instruction_index=2, when_started=None, when_dismissed=None)), 'Bob': (), 'Joe': ()}\n"
     ]
    }
   ],
   "source": [
    "session_Joe= new_chef_joined(session,'Joe',1414)"
   ]
  },
  {
   "cell_type": "code",
   "execution_count": 19,
   "id": "99a4b19f",
   "metadata": {},
   "outputs": [
    {
     "data": {
      "text/plain": [
       "Session(recipe=(CookingInstruction(index=0, task='Chop onions', duration=60, attention=True, dependencies=[]), CookingInstruction(index=1, task='Boil water', duration=120, attention=False, dependencies=[0]), CookingInstruction(index=2, task='Saute onions', duration=90, attention=True, dependencies=[0, 1]), CookingInstruction(index=3, task='4 from scretch', duration=40, attention=True, dependencies=[]), CookingInstruction(index=4, task='5 from scretch', duration=50, attention=True, dependencies=[]), CookingInstruction(index=5, task='6 from scretch', duration=60, attention=True, dependencies=[])), chef_tasks={'Alice': (ChefTask(instruction_index=5, when_started=None, when_dismissed=None), ChefTask(instruction_index=4, when_started=None, when_dismissed=None), ChefTask(instruction_index=3, when_started=None, when_dismissed=None), ChefTask(instruction_index=0, when_started=None, when_dismissed=None), ChefTask(instruction_index=1, when_started=None, when_dismissed=None), ChefTask(instruction_index=2, when_started=None, when_dismissed=None)), 'Bob': (), 'Joe': ()})"
      ]
     },
     "execution_count": 19,
     "metadata": {},
     "output_type": "execute_result"
    }
   ],
   "source": [
    "session_Joe"
   ]
  },
  {
   "cell_type": "code",
   "execution_count": 9,
   "id": "1649cf42",
   "metadata": {},
   "outputs": [],
   "source": [
    "l = [4,5,6,7]"
   ]
  },
  {
   "cell_type": "code",
   "execution_count": 13,
   "id": "682d3889-8c0a-4283-bf6e-ae41aedeef5f",
   "metadata": {},
   "outputs": [
    {
     "data": {
      "text/plain": [
       "[(0, 4), (1, 5), (2, 6), (3, 7)]"
      ]
     },
     "execution_count": 13,
     "metadata": {},
     "output_type": "execute_result"
    }
   ],
   "source": [
    "[(i,j) for i,j in enumerate(l)]"
   ]
  },
  {
   "cell_type": "code",
   "execution_count": 14,
   "id": "f2fd186b-f8ad-42c2-9486-31f9da6367f7",
   "metadata": {},
   "outputs": [],
   "source": [
    "b = True"
   ]
  },
  {
   "cell_type": "code",
   "execution_count": 15,
   "id": "129b602f-05dc-466d-b6db-bd2ea0f97516",
   "metadata": {},
   "outputs": [
    {
     "data": {
      "text/plain": [
       "False"
      ]
     },
     "execution_count": 15,
     "metadata": {},
     "output_type": "execute_result"
    }
   ],
   "source": [
    "not(b)"
   ]
  },
  {
   "cell_type": "code",
   "execution_count": 19,
   "id": "73f52d3b",
   "metadata": {},
   "outputs": [
    {
     "data": {
      "text/plain": [
       "5"
      ]
     },
     "execution_count": 19,
     "metadata": {},
     "output_type": "execute_result"
    }
   ],
   "source": [
    "(None or 5)"
   ]
  },
  {
   "cell_type": "code",
   "execution_count": 20,
   "id": "17b2b48f",
   "metadata": {},
   "outputs": [
    {
     "data": {
      "text/plain": [
       "3"
      ]
     },
     "execution_count": 20,
     "metadata": {},
     "output_type": "execute_result"
    }
   ],
   "source": [
    "3 or 2"
   ]
  },
  {
   "cell_type": "code",
   "execution_count": 21,
   "id": "7a1e6fb7",
   "metadata": {},
   "outputs": [
    {
     "data": {
      "text/plain": [
       "2"
      ]
     },
     "execution_count": 21,
     "metadata": {},
     "output_type": "execute_result"
    }
   ],
   "source": [
    "2 or 3"
   ]
  },
  {
   "cell_type": "code",
   "execution_count": null,
   "id": "01ac0ed5",
   "metadata": {},
   "outputs": [],
   "source": []
  }
 ],
 "metadata": {
  "kernelspec": {
   "display_name": "Python 3 (ipykernel)",
   "language": "python",
   "name": "python3"
  },
  "language_info": {
   "codemirror_mode": {
    "name": "ipython",
    "version": 3
   },
   "file_extension": ".py",
   "mimetype": "text/x-python",
   "name": "python",
   "nbconvert_exporter": "python",
   "pygments_lexer": "ipython3",
   "version": "3.11.5"
  }
 },
 "nbformat": 4,
 "nbformat_minor": 5
}
