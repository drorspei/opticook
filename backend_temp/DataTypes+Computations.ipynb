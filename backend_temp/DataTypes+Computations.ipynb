{
 "cells": [
  {
   "cell_type": "code",
   "execution_count": 2,
   "id": "02e21b1e",
   "metadata": {},
   "outputs": [],
   "source": [
    "#### DATA TYPES ####"
   ]
  },
  {
   "cell_type": "code",
   "execution_count": 3,
   "id": "36f93802",
   "metadata": {},
   "outputs": [
    {
     "data": {
      "text/plain": [
       "\"\\n1. alice sees put eggs to boil\\n2. alice presses done!\\n3. alice sees chop carrots, and a 5 minute timer for eggs\\n4. alice presses done! (it took her 3 minutes, as expected, she's on time, she's the best.)\\n5. put carrots in oven, close door, doesn't have to be on.\\n6. alice sees just timers\\n7. alice hears egg timer goes off and sees take out eggs\\n8. alice dismisses timer and goes to sleep. fuck this recipe.\\n\""
      ]
     },
     "execution_count": 3,
     "metadata": {},
     "output_type": "execute_result"
    }
   ],
   "source": [
    "from typing import List, Dict, Optional, Tuple\n",
    "from dataclasses import dataclass\n",
    "\n",
    "@dataclass\n",
    "class CookingInstruction:\n",
    "    index: int\n",
    "    task: str\n",
    "    duration: int\n",
    "    attention: bool\n",
    "    dependencies: Tuple[int] = ()\n",
    "\n",
    "@dataclass\n",
    "class ChefTask:\n",
    "    instruction_index: int\n",
    "    when_started: Optional[int]=None\n",
    "    when_dismissed: Optional[int]=None\n",
    "\n",
    "@dataclass\n",
    "class Session:\n",
    "    instructions: Tuple[CookingInstruction, ...]\n",
    "    chef_tasks: Dict[str, Tuple[ChefTask, ...]]\n",
    "\n",
    "\"\"\"\n",
    "1. alice sees put eggs to boil\n",
    "2. alice presses done!\n",
    "3. alice sees chop carrots, and a 5 minute timer for eggs\n",
    "4. alice presses done! (it took her 3 minutes, as expected, she's on time, she's the best.)\n",
    "5. put carrots in oven, close door, doesn't have to be on.\n",
    "6. alice sees just timers\n",
    "7. alice hears egg timer goes off and sees take out eggs\n",
    "8. alice dismisses timer and goes to sleep. fuck this recipe.\n",
    "\"\"\""
   ]
  },
  {
   "cell_type": "code",
   "execution_count": null,
   "id": "5cb42d5f-dbc7-420c-8f5b-c55ca2ff8832",
   "metadata": {},
   "outputs": [],
   "source": []
  },
  {
   "cell_type": "code",
   "execution_count": 74,
   "id": "215cac3a-21c4-494f-9b03-d1902d6a1510",
   "metadata": {},
   "outputs": [],
   "source": [
    "def next_unstarted_task(session, chef):\n",
    "    \"\"\"Return the index in the chef's tasks of the first unstarted instruction if exists, otherwise None\"\"\"\n",
    "    return ([i for i,task in enumerate(session.chef_tasks[chef]) if task.when_started == None]+[None])[0]\n",
    "    # single line! \n",
    "    #raise NotImplementedError\n",
    "\n",
    "def advance_task_for_chef(session, chef, now):\n",
    "    i = next_unstarted_task(session, chef)\n",
    "    if i is None:\n",
    "        return session\n",
    "        \n",
    "    chef_tasks = {chef2 : session.chef_tasks[chef2] for chef2 in session.chef_tasks if chef2 != chef}\n",
    "    chef_tasks[chef] = (\n",
    "        session.chef_tasks[chef][:i]\n",
    "        # fix this - what should be here??\n",
    "        + tuple([ChefTask(\n",
    "                session.chef_tasks[chef][i].instruction_index, now\n",
    "        )])\n",
    "        + session.chef_tasks[chef][i + 1:]\n",
    "    )\n",
    "    return Session(session.instructions, chef_tasks)\n",
    "\n",
    "\n",
    "def new_chef_joined(session, chef, now):\n",
    "    raise NotImplementedError\n",
    "\n",
    "def chef_leave(session, chef):\n",
    "    raise NotImplementedError\n",
    "\n",
    "def dismiss_timer(session, chef, now):\n",
    "    raise NotImplementedError\n",
    "\n",
    "def active_timers(session, chef) -> Tuple[ChefTask]:\n",
    "    raise NotImplementedError\n",
    "\n",
    "# and more"
   ]
  },
  {
   "cell_type": "code",
   "execution_count": 54,
   "id": "ce7a742e",
   "metadata": {},
   "outputs": [],
   "source": [
    "# Cooking Instructions \n",
    "i1 = CookingInstruction(0, \"Chop onions\", 60, True, [])\n",
    "i2 = CookingInstruction(1, \"Boil water\", 120, False, [0])\n",
    "i3 = CookingInstruction(2, \"Saute onions\", 90, True, [0,1])    \n",
    "\n",
    "#ChefTasks\n",
    "A1 = ChefTask(0)\n",
    "A2 = ChefTask(1)\n",
    "B1 = ChefTask(2)\n",
    "\n",
    "\n",
    "#Session\n",
    "session = Session((i1,i2,i3),{'Alice':(A1,A2), 'Bob':(B1)})\n",
    "\n",
    "\n"
   ]
  },
  {
   "cell_type": "code",
   "execution_count": 81,
   "id": "295ec805",
   "metadata": {},
   "outputs": [
    {
     "data": {
      "text/plain": [
       "(ChefTask(instruction_index=0, when_started=3333, when_dismissed=None),\n",
       " ChefTask(instruction_index=1, when_started=None, when_dismissed=None))"
      ]
     },
     "execution_count": 81,
     "metadata": {},
     "output_type": "execute_result"
    }
   ],
   "source": [
    "session1 = advance_task_for_chef(session, 'Alice', 3333)\n",
    "session1.chef_tasks['Alice']\n"
   ]
  },
  {
   "cell_type": "code",
   "execution_count": 82,
   "id": "b085de54",
   "metadata": {},
   "outputs": [
    {
     "data": {
      "text/plain": [
       "(ChefTask(instruction_index=0, when_started=3333, when_dismissed=None),\n",
       " ChefTask(instruction_index=1, when_started=7777, when_dismissed=None))"
      ]
     },
     "execution_count": 82,
     "metadata": {},
     "output_type": "execute_result"
    }
   ],
   "source": [
    "session2 = advance_task_for_chef(session1, 'Alice', 7777)\n",
    "session2.chef_tasks['Alice']"
   ]
  },
  {
   "cell_type": "code",
   "execution_count": null,
   "id": "b6f782bc",
   "metadata": {},
   "outputs": [],
   "source": []
  },
  {
   "cell_type": "code",
   "execution_count": 2,
   "id": "45e5fdce",
   "metadata": {},
   "outputs": [],
   "source": [
    "# Chefs\n",
    "alice = Chef(\"Alice\")\n",
    "bob = Chef(\"Bob\")\n",
    "\n",
    "\n",
    "\n",
    "\n",
    "\n",
    "\n",
    "# Assignment: index -> list of chef names\n",
    "assignments = {\n",
    "    0: [\"Alice\"],\n",
    "    1: [\"Bob\"],\n",
    "    2: [\"Alice\", \"Bob\"]  # both chefs for this instruction\n",
    "}\n",
    "\n",
    "# Session\n",
    "session = Session(\n",
    "    past=[i1],\n",
    "    present=[i2],\n",
    "    future=[i3],\n",
    "    chefs=[alice, bob],\n",
    "    assignments=assignments\n",
    ")"
   ]
  },
  {
   "cell_type": "code",
   "execution_count": 69,
   "id": "5d7f4c6f",
   "metadata": {
    "scrolled": true
   },
   "outputs": [
    {
     "data": {
      "text/plain": [
       "int"
      ]
     },
     "execution_count": 69,
     "metadata": {},
     "output_type": "execute_result"
    }
   ],
   "source": [
    "type((4))"
   ]
  },
  {
   "cell_type": "code",
   "execution_count": 4,
   "id": "b22dca43",
   "metadata": {},
   "outputs": [],
   "source": [
    "#### COMPUTATIONS ####\n"
   ]
  },
  {
   "cell_type": "code",
   "execution_count": 9,
   "id": "14ce1781",
   "metadata": {},
   "outputs": [],
   "source": [
    "def advance_instruction_for_chef(session, chef_name: str):\n",
    "    \"\"\"\n",
    "    Returns a new session where the given chef's current instruction(s) is(are) marked as past,\n",
    "    and their next future instruction (if all dependencies are met) moves to present.\n",
    "    \"\"\"\n",
    "    # Move present instruction for chef to past\n",
    "    new_past = session.past[:]\n",
    "    new_present = []\n",
    "    done_indices = {instr.index for instr in new_past}\n",
    "    \n",
    "    moved_index = None\n",
    "    for instr in session.present:\n",
    "        chefs_for_instr = session.assignments.get(instr.index, [])\n",
    "        if chef_name in chefs_for_instr and moved_index is None:\n",
    "            new_past.append(instr)\n",
    "            moved_index = instr.index\n",
    "        else:\n",
    "            new_present.append(instr)\n",
    "    done_indices = done_indices | ({moved_index} if moved_index is not None else set())\n",
    "\n",
    "    # Move the next future instruction for chef (if dependencies are met) to present\n",
    "    new_future = session.future[:]\n",
    "    added_instr = None\n",
    "    for i, instr in enumerate(new_future):\n",
    "        if chef_name in session.assignments.get(instr.index, []):\n",
    "            # Check dependencies are all in done_indices\n",
    "            if all(dep in done_indices for dep in instr.dependencies):\n",
    "                added_instr = instr\n",
    "                del new_future[i]\n",
    "                break\n",
    "    if added_instr:\n",
    "        new_present.append(added_instr)\n",
    "    \n",
    "    return Session(new_past, new_present, new_future, session.chefs[:], dict(session.assignments))"
   ]
  },
  {
   "cell_type": "code",
   "execution_count": 10,
   "id": "4bfb74c8",
   "metadata": {},
   "outputs": [],
   "source": [
    "def advance_instruction_for_chef(session, chef_name: str):\n",
    "    \"\"\" \n",
    "    Returns a new session where the given chef's current instruction(s) is(are) marked as past,\n",
    "    and their next future instruction (if all dependencies are met) moves to present.\n",
    "    \"\"\"\n",
    "    # Move present instruction for chef to past\n",
    "    new_past = session.past[:]\n",
    "    new_present = []\n",
    "    done_indices = {instr.index for instr in new_past}\n",
    "    \n",
    "    # Move chef's instruction from present to past; keep others in present\n",
    "    moved_index = None\n",
    "    for instr in session.present:\n",
    "        chefs_for_instr = session.assignments.get(instr.index, [])\n",
    "        if chef_name in chefs_for_instr and moved_index is None:\n",
    "            new_past.append(instr)\n",
    "            moved_index = instr.index\n",
    "        else:\n",
    "            new_present.append(instr)\n",
    "    done_indices = done_indices | ({moved_index} if moved_index is not None else set())\n",
    "\n",
    "    # Move the next future instruction for chef (if dependencies are met) to present\n",
    "    new_future = session.future[:]\n",
    "    added_instr = None\n",
    "    for i, instr in enumerate(new_future):\n",
    "        if chef_name in session.assignments.get(instr.index, []):\n",
    "            # Check dependencies are all in done_indices\n",
    "            if all(dep in done_indices for dep in instr.dependencies):\n",
    "                added_instr = instr\n",
    "                del new_future[i]\n",
    "                break\n",
    "    if added_instr:\n",
    "        new_present.append(added_instr)\n",
    "    \n",
    "    return Session(new_past, new_present, new_future, session.chefs[:], dict(session.assignments))"
   ]
  },
  {
   "cell_type": "code",
   "execution_count": 11,
   "id": "dea247ed",
   "metadata": {},
   "outputs": [],
   "source": [
    "session1 = advance_instruction_for_chef(session,'Alice')"
   ]
  },
  {
   "cell_type": "code",
   "execution_count": 14,
   "id": "a2bcdcd2",
   "metadata": {},
   "outputs": [],
   "source": [
    "session2 = advance_instruction_for_chef(session1,'Bob')"
   ]
  },
  {
   "cell_type": "code",
   "execution_count": 15,
   "id": "494603da",
   "metadata": {
    "scrolled": true
   },
   "outputs": [
    {
     "name": "stdout",
     "output_type": "stream",
     "text": [
      "True\n",
      "False\n"
     ]
    }
   ],
   "source": [
    "for instr in session2.past:\n",
    "    print(instr.attention)"
   ]
  },
  {
   "cell_type": "code",
   "execution_count": 17,
   "id": "a7d3d565-501d-40a7-97bb-ac9c53277238",
   "metadata": {},
   "outputs": [
    {
     "data": {
      "text/plain": [
       "Session(past=[CookingInstruction(index=0, task='Chop onions', duration=60, attention=True, dependencies=[]), CookingInstruction(index=1, task='Boil water', duration=120, attention=False, dependencies=[0])], present=[CookingInstruction(index=2, task='Saute onions', duration=90, attention=True, dependencies=[0, 1])], future=[], chefs=[Chef(name='Alice'), Chef(name='Bob')], assignments={0: ['Alice'], 1: ['Bob'], 2: ['Alice', 'Bob']})"
      ]
     },
     "execution_count": 17,
     "metadata": {},
     "output_type": "execute_result"
    }
   ],
   "source": [
    "session2"
   ]
  },
  {
   "cell_type": "code",
   "execution_count": 18,
   "id": "8856985a",
   "metadata": {},
   "outputs": [],
   "source": [
    "def chef_joins(session, new_chef_name, compile_cooking_instructions):\n",
    "    \"\"\"\n",
    "    Returns a new session where new_chef_name joins.\n",
    "    Only the future instructions (and their assignments) are recompiled\n",
    "    using the new chef list and the existing future instructions.\n",
    " \n",
    "    NOTE: The function does not assign a present instruction to the new chef. For this, one should apply \n",
    "    the 'advance_instruction_for_chef' function with the new_chef.\n",
    "    \"\"\"\n",
    "    # Step 1: Build the new chef list (avoid duplicate chef)\n",
    "    chef_names = [c.name for c in session.chefs]\n",
    "    if new_chef_name in chef_names:\n",
    "        # Chef already present: return session unchanged\n",
    "        return Session(\n",
    "            past=session.past[:],\n",
    "            present=session.present[:],\n",
    "            future=session.future[:],\n",
    "            chefs=session.chefs[:],\n",
    "            assignments=dict(session.assignments)\n",
    "        )\n",
    "\n",
    "    new_chef = Chef(new_chef_name)\n",
    "    new_chefs = session.chefs[:] + [new_chef]\n",
    "\n",
    "    # Step 2: Compile new future instructions and assignments using the black box\n",
    "    # Signature: compile_cooking_instructions(future_instructions, chef_list) -> (instructions, assignments)\n",
    "    new_future, new_assignments = compile_cooking_instructions(session.future[:], new_chefs)\n",
    "\n",
    "    # Step 3: Combine old assignments (for past & present) with new future assignments\n",
    "    preserved_assignments = {idx: val for idx, val in session.assignments.items()\n",
    "                             if any(idx == instr.index for instr in session.past + session.present)}\n",
    "    merged_assignments = {**preserved_assignments, **new_assignments}\n",
    "\n",
    "    # Step 4: Return the new session\n",
    "    return Session(\n",
    "        past=session.past[:],\n",
    "        present=session.present[:],\n",
    "        future=new_future,\n",
    "        chefs=new_chefs,\n",
    "        assignments=merged_assignments\n",
    "    )\n",
    "    "
   ]
  },
  {
   "cell_type": "code",
   "execution_count": 19,
   "id": "e66e0a37",
   "metadata": {},
   "outputs": [],
   "source": [
    "### COMPILATION RELATED COMPUTATIONS ###"
   ]
  },
  {
   "cell_type": "code",
   "execution_count": 20,
   "id": "11d5b74d",
   "metadata": {},
   "outputs": [
    {
     "ename": "ModuleNotFoundError",
     "evalue": "No module named 'pycryptosat'",
     "output_type": "error",
     "traceback": [
      "\u001b[31m---------------------------------------------------------------------------\u001b[39m",
      "\u001b[31mModuleNotFoundError\u001b[39m                       Traceback (most recent call last)",
      "\u001b[36mCell\u001b[39m\u001b[36m \u001b[39m\u001b[32mIn[20]\u001b[39m\u001b[32m, line 7\u001b[39m\n\u001b[32m      3\u001b[39m \u001b[38;5;66;03m#!/usr/bin/env python\u001b[39;00m\n\u001b[32m      4\u001b[39m \u001b[38;5;66;03m# coding: utf-8\u001b[39;00m\n\u001b[32m      5\u001b[39m \u001b[38;5;66;03m# test2\u001b[39;00m\n\u001b[32m      6\u001b[39m \u001b[38;5;28;01mfrom\u001b[39;00m\u001b[38;5;250m \u001b[39m\u001b[34;01mcollections\u001b[39;00m\u001b[38;5;250m \u001b[39m\u001b[38;5;28;01mimport\u001b[39;00m namedtuple\n\u001b[32m----> \u001b[39m\u001b[32m7\u001b[39m \u001b[38;5;28;01mfrom\u001b[39;00m\u001b[38;5;250m \u001b[39m\u001b[34;01mpycryptosat\u001b[39;00m\u001b[38;5;250m \u001b[39m\u001b[38;5;28;01mimport\u001b[39;00m Solver\n\u001b[32m      8\u001b[39m \u001b[38;5;28;01mfrom\u001b[39;00m\u001b[38;5;250m \u001b[39m\u001b[34;01mitertools\u001b[39;00m\u001b[38;5;250m \u001b[39m\u001b[38;5;28;01mimport\u001b[39;00m product\n\u001b[32m     10\u001b[39m cooking_time_unit = \u001b[32m30\u001b[39m    \u001b[38;5;66;03m# in seconds\u001b[39;00m\n",
      "\u001b[31mModuleNotFoundError\u001b[39m: No module named 'pycryptosat'"
     ]
    }
   ],
   "source": [
    "import tqdm\n",
    "from subprocess import check_call\n",
    "#!/usr/bin/env python\n",
    "# coding: utf-8\n",
    "# test2\n",
    "from collections import namedtuple\n",
    "from pycryptosat import Solver\n",
    "from itertools import product\n",
    "\n",
    "cooking_time_unit = 30    # in seconds\n",
    "assert 60 % unit == 0\n",
    "\n",
    "Assignment = namedtuple(\"Assignment\", [\"attention\", \"time\"])"
   ]
  },
  {
   "cell_type": "code",
   "execution_count": 210,
   "id": "827feb6e",
   "metadata": {},
   "outputs": [],
   "source": [
    "def preprocess_for_sat(future_instructions, chefs):\n",
    "    \"\"\"\n",
    "    Returns (chef_names, vertices, edges, assignment_map) for SAT encoding.\n",
    "    Only includes edges between instructions in future_instructions.\n",
    "    \"\"\"\n",
    "    # 1. Chefs\n",
    "    chef_names = [chef.name for chef in chefs]\n",
    "\n",
    "    # 2. Vertices (indices of all future instructions)\n",
    "    vertices = [instr.index for instr in future_instructions]\n",
    "    vertex_set = set(vertices)  # for fast lookup\n",
    "\n",
    "    # 3. Edges: only include dependencies where both source and target are in future_instructions\n",
    "    edges = []\n",
    "    time_ub = 0\n",
    "    for instr in future_instructions:\n",
    "#        print(instr)\n",
    "        if instr.attention:\n",
    "            time_ub += instr.duration\n",
    "        \n",
    "        for dep in instr.dependencies:\n",
    "            if dep in vertex_set:\n",
    "                edges.append((dep, instr.index))\n",
    "\n",
    "    # 4. Assignment map: only for vertices in the future\n",
    "    assignment_map = {\n",
    "        instr.index: Assignment(instr.attention, instr.duration)\n",
    "        for instr in future_instructions\n",
    "    }\n",
    "\n",
    "    return chef_names, vertices, edges, assignment_map, time_ub"
   ]
  },
  {
   "cell_type": "code",
   "execution_count": 204,
   "id": "0a168a3b",
   "metadata": {},
   "outputs": [
    {
     "data": {
      "text/plain": [
       "[CookingInstruction(index=0, task='Chop onions', duration=60, attention=True, dependencies=[]),\n",
       " CookingInstruction(index=1, task='Boil water', duration=120, attention=False, dependencies=[0])]"
      ]
     },
     "execution_count": 204,
     "metadata": {},
     "output_type": "execute_result"
    }
   ],
   "source": [
    "session2.past"
   ]
  },
  {
   "cell_type": "code",
   "execution_count": 212,
   "id": "6320819f",
   "metadata": {},
   "outputs": [
    {
     "data": {
      "text/plain": [
       "[0, 1]"
      ]
     },
     "execution_count": 212,
     "metadata": {},
     "output_type": "execute_result"
    }
   ],
   "source": [
    "future_instructions = session2.past\n",
    "chefs =  session.chefs\n",
    "#print(chefs)\n",
    "proc, verts, edges, a, timeub = preprocess_for_sat(future_instructions,chefs)\n"
   ]
  },
  {
   "cell_type": "code",
   "execution_count": 148,
   "id": "667788c6",
   "metadata": {},
   "outputs": [],
   "source": [
    "# Trivial Resorce considerations (for now)\n",
    "def Resources(v):\n",
    "    return set([]) #return {\"oven\"} if \"bake\" in v else set([])\n"
   ]
  },
  {
   "cell_type": "code",
   "execution_count": 206,
   "id": "b09de454",
   "metadata": {},
   "outputs": [],
   "source": [
    "def recipe2sat(chefs, vertices, edges,a, time_ub, time_unit=cooking_time_unit):\n",
    "    \n",
    "    time_slots = range(int(time_ub)*60 // time_unit + 0)\n",
    "    print('timeslot[0] ==', time_slots[0])\n",
    "    \n",
    "    tuples = []\n",
    "    for p in chefs:\n",
    "        for v in vertices:\n",
    "            #for i in range(len(a[v])):\n",
    "                for t in time_slots:\n",
    "                    tuples.append((p, t, v))\n",
    "\n",
    "    tuple2idx = {tpl: idx for idx, tpl in enumerate(tuples, start=1)}\n",
    "    #idx2tuple = {idx: tpl for tpl, idx in tuple2idx.items()}\n",
    "\n",
    "    clauses = []\n",
    "\n",
    "    print(\"1/6 process does single high attention task\")\n",
    "    for v, u in tqdm.tqdm(list(product(vertices, vertices))):\n",
    "        #for i, j in product(range(len(a[v])), range(len(a[u]))):\n",
    "            #if (u != v or i != j) and a[v][i].Attention and a[u][j].Attention:\n",
    "            #print(u,v,a[v].attention,a[u].attention)\n",
    "            if (u != v) and a[v].attention and a[u].attention:\n",
    "                for t in time_slots:\n",
    "                    for s in range(t, min(t + a[v].time, time_slots[-1] + 1)):\n",
    "                        for p in Proc:\n",
    "                            clauses.append(\n",
    "                                [-tuple2idx[(p, t, v)], -tuple2idx[(p, s, u)]]\n",
    "                            )\n",
    "\n",
    "\n",
    "    print(\"2/6 resource can do one thing at a time\")\n",
    "    for (v, rv), (u, ru) in tqdm.tqdm(\n",
    "        list(product([(v, rv) for v in Vertices if (rv := Resources(v))], repeat=2))\n",
    "    ):\n",
    "        if v != u and ru & rv:\n",
    "            for p1, p2, t in product(\n",
    "                chefs, chefs, time_slots\n",
    "            ):\n",
    "                for s in range(t, min(t + a[v].time, time_slots[-1] + 1)):\n",
    "                    clauses.append([-tuple2idx[p1, t, v], -tuple2idx[p2, s, u]])\n",
    "                                              \n",
    "\n",
    "    print(\"3/6 every vertex is done at least once\")\n",
    "    for v in tqdm.tqdm(vertices):\n",
    "        #for i in range(len(a[v])):\n",
    "            cls = []\n",
    "            for p in chefs:\n",
    "                for t in time_slots:\n",
    "                    cls.append(tuple2idx[(p, t, v)])\n",
    "            clauses.append(cls)\n",
    "\n",
    "\n",
    "    print(\"4/6 every task is done at most once\")\n",
    "    for p, q in tqdm.tqdm(list(product(chefs, chefs))):\n",
    "        for t, s in product(time_slots, time_slots):\n",
    "            if p != q or t != s:\n",
    "                for v in vertices:\n",
    "                    #for i in range(len(a[v])):\n",
    "                        clauses.append([-tuple2idx[(p, t, v)], -tuple2idx[(q, s, v)]])\n",
    "\n",
    "    #print(\"5/6 the task are executed serially\")\n",
    "    #for v in tqdm.tqdm(Vertices):\n",
    "    #    for i in range(len(a[v]) - 1):\n",
    "    #        for p, q in product(Proc, Proc):\n",
    "    #            for t, s in product(Times, Times):\n",
    "    #                if s < t + a[v][i].time:\n",
    "    #                    clauses.append(\n",
    "    #                        [-tuple2idx[(p, t, v, i)], -tuple2idx[(q, s, v, i + 1)]]\n",
    "    #                    )\n",
    "\n",
    "\n",
    "    print(\"6/6 the task execution follows the graph structure\")\n",
    "    for v, u in tqdm.tqdm(edges):\n",
    "        for t, s in product(time_slots, time_slots):\n",
    "           # if s < t + a[v][len(a[v]) - 1].time:\n",
    "             if s < t + a[v].time:\n",
    "                for p, q in product(chefs, chefs):\n",
    "                    clauses.append(\n",
    "                        [-tuple2idx[(p, t, v)], -tuple2idx[(q, s, u)]]\n",
    "                    )\n",
    "    return clauses, tuples, tuple2idx\n"
   ]
  },
  {
   "cell_type": "code",
   "execution_count": 213,
   "id": "b8fbab97",
   "metadata": {
    "scrolled": true
   },
   "outputs": [
    {
     "name": "stdout",
     "output_type": "stream",
     "text": [
      "timeslot[0] == 0\n",
      "1/6 process does single high attention task\n"
     ]
    },
    {
     "name": "stderr",
     "output_type": "stream",
     "text": [
      "100%|██████████████████████████████████████████| 4/4 [00:00<00:00, 16178.61it/s]\n"
     ]
    },
    {
     "name": "stdout",
     "output_type": "stream",
     "text": [
      "2/6 resource can do one thing at a time\n"
     ]
    },
    {
     "name": "stderr",
     "output_type": "stream",
     "text": [
      "0it [00:00, ?it/s]\n"
     ]
    },
    {
     "name": "stdout",
     "output_type": "stream",
     "text": [
      "3/6 every vertex is done at least once\n"
     ]
    },
    {
     "name": "stderr",
     "output_type": "stream",
     "text": [
      "100%|██████████████████████████████████████████| 2/2 [00:00<00:00, 15391.94it/s]\n"
     ]
    },
    {
     "name": "stdout",
     "output_type": "stream",
     "text": [
      "4/6 every task is done at most once\n"
     ]
    },
    {
     "name": "stderr",
     "output_type": "stream",
     "text": [
      "100%|█████████████████████████████████████████████| 4/4 [00:00<00:00, 54.33it/s]\n"
     ]
    },
    {
     "name": "stdout",
     "output_type": "stream",
     "text": [
      "6/6 the task execution follows the graph structure\n"
     ]
    },
    {
     "name": "stderr",
     "output_type": "stream",
     "text": [
      "100%|█████████████████████████████████████████████| 1/1 [00:00<00:00, 98.76it/s]\n"
     ]
    }
   ],
   "source": [
    "cls,tups, tups2inx = recipe2sat(proc, verts, edges, a, timeub)"
   ]
  },
  {
   "cell_type": "code",
   "execution_count": 193,
   "id": "8d4a4b53",
   "metadata": {},
   "outputs": [],
   "source": [
    "\n",
    "def sat2IDX(clauses, tuple2idx):\n",
    "    '''Setup a SAT cryptosolver to solve the SAT cooking clauses, If a solution is found, returns the resulting cooking instructions as a list, if a solution is not found, return False'''\n",
    "    s = Solver()\n",
    "    for cls in tqdm.tqdm(clauses):\n",
    "        s.add_clause(cls)\n",
    "    sat, solution = s.solve()\n",
    "    \n",
    "    if sat:\n",
    "        idx2tuple = {idx: tpl for tpl, idx in tuple2idx.items()}\n",
    "        IDX = [idx2tuple[i] for i, s in enumerate(solution) if s]\n",
    "        return IDX\n",
    "        #print(            \"\\n\".join(f\"{p} {t / (60 // unit):.1f} '{v}'.{i}\" for p, t, v, i in sorted(IDX)))\n",
    "    else:\n",
    "        return False\n",
    "    \n",
    "    \n",
    "def binarysearch(f,lb,ub):\n",
    "    \"\"\"the function search for an minimal input x between lb and ub for which f returns the value True\"\"\"\n",
    "    while lb < ub:\n",
    "        mid = (lb + ub) // 2\n",
    "        if f(mid):\n",
    "            ub = mid\n",
    "        else: \n",
    "            lb = mid + 1\n",
    "    return lb\n",
    "\n",
    "\n",
    "def run_with_timeout(f, args, timeout, default=None):\n",
    "    ctx = multiprocessing.get_context('fork')\n",
    "    q = ctx.Queue()\n",
    "    def ff(f, args, q):\n",
    "        ret = f(*args)\n",
    "        q.put(ret)\n",
    "        \n",
    "    p = ctx.Process(target=ff, args=(f, args, q))\n",
    "    p.start()\n",
    "    try:\n",
    "        ret = q.get(timeout=timeout)\n",
    "    except queue.Empty:\n",
    "        p.kill()\n",
    "        return default\n",
    "    p.join()\n",
    "    return ret\n"
   ]
  },
  {
   "cell_type": "code",
   "execution_count": 194,
   "id": "d2143ea4",
   "metadata": {},
   "outputs": [
    {
     "name": "stderr",
     "output_type": "stream",
     "text": [
      "100%|██████████████████████████████| 165002/165002 [00:00<00:00, 2929564.29it/s]\n"
     ]
    },
    {
     "data": {
      "text/plain": [
       "[('Alice', 1, 0), ('Alice', 61, 1)]"
      ]
     },
     "execution_count": 194,
     "metadata": {},
     "output_type": "execute_result"
    }
   ],
   "source": [
    "sat2IDX(cls,tups2inx)"
   ]
  },
  {
   "cell_type": "code",
   "execution_count": null,
   "id": "1aa0d128",
   "metadata": {},
   "outputs": [],
   "source": [
    "def IDX2session(IDX):\n",
    "    "
   ]
  },
  {
   "cell_type": "code",
   "execution_count": 39,
   "id": "4184b5b1",
   "metadata": {},
   "outputs": [
    {
     "data": {
      "text/plain": [
       "['Alice', 'Bob']"
      ]
     },
     "execution_count": 39,
     "metadata": {},
     "output_type": "execute_result"
    }
   ],
   "source": [
    "##TODO (for compilation)\n",
    "#DONE 0 check the status of the recources parts of the SAT. Are we planning to use it at the moment?\n",
    "#DONE 1 check the SAT can have any number of processors (not just two)\n",
    "#DONE 2 add time UB estimates in the correct unit form to the preprocessing\n",
    "#3 See that the compilation of future instructure works (check for type compatibility)\n",
    "#4 Plan and write a short secion which addresses todo gaps such as working with recources, etc.\n"
   ]
  },
  {
   "cell_type": "code",
   "execution_count": 14,
   "id": "c5200888",
   "metadata": {},
   "outputs": [],
   "source": [
    "t =(2,4,6)\n",
    "task = None\n",
    "for n in t:\n",
    "    if n > 5:\n",
    "        task = n\n",
    "if task != None:\n",
    "    idx = t.index(task)"
   ]
  },
  {
   "cell_type": "code",
   "execution_count": 24,
   "id": "dd40c6ed",
   "metadata": {},
   "outputs": [
    {
     "data": {
      "text/plain": [
       "[(0, 2), (1, 4), (2, 6)]"
      ]
     },
     "execution_count": 24,
     "metadata": {},
     "output_type": "execute_result"
    }
   ],
   "source": [
    "enumerate(t)"
   ]
  },
  {
   "cell_type": "code",
   "execution_count": 29,
   "id": "ca8b3a98",
   "metadata": {},
   "outputs": [
    {
     "data": {
      "text/plain": [
       "2"
      ]
     },
     "execution_count": 29,
     "metadata": {},
     "output_type": "execute_result"
    }
   ],
   "source": [
    "([i for i,l in enumerate(t) if l > 4]+[None])[0]"
   ]
  },
  {
   "cell_type": "code",
   "execution_count": 33,
   "id": "d1b03d65",
   "metadata": {},
   "outputs": [],
   "source": [
    "d = { i:'hi' for i in range(11)}"
   ]
  },
  {
   "cell_type": "code",
   "execution_count": 36,
   "id": "7de3e7d6",
   "metadata": {},
   "outputs": [],
   "source": [
    "d[11] = 'bye'"
   ]
  },
  {
   "cell_type": "code",
   "execution_count": 37,
   "id": "0d5a9054",
   "metadata": {},
   "outputs": [
    {
     "data": {
      "text/plain": [
       "{0: 'hi',\n",
       " 1: 'hi',\n",
       " 2: 'hi',\n",
       " 3: 'hi',\n",
       " 4: 'hi',\n",
       " 5: 'hi',\n",
       " 6: 'hi',\n",
       " 7: 'hi',\n",
       " 8: 'hi',\n",
       " 9: 'hi',\n",
       " 10: 'hi',\n",
       " 11: 'bye'}"
      ]
     },
     "execution_count": 37,
     "metadata": {},
     "output_type": "execute_result"
    }
   ],
   "source": [
    "d"
   ]
  },
  {
   "cell_type": "code",
   "execution_count": 40,
   "id": "08eff4c4",
   "metadata": {},
   "outputs": [
    {
     "data": {
      "text/plain": [
       "(2, 4)"
      ]
     },
     "execution_count": 40,
     "metadata": {},
     "output_type": "execute_result"
    }
   ],
   "source": [
    "t[:2]"
   ]
  },
  {
   "cell_type": "code",
   "execution_count": 42,
   "id": "57a73228",
   "metadata": {},
   "outputs": [
    {
     "ename": "NameError",
     "evalue": "name 'session' is not defined",
     "output_type": "error",
     "traceback": [
      "\u001b[0;31m---------------------------------------------------------------------------\u001b[0m",
      "\u001b[0;31mNameError\u001b[0m                                 Traceback (most recent call last)",
      "Cell \u001b[0;32mIn[42], line 1\u001b[0m\n\u001b[0;32m----> 1\u001b[0m session\n",
      "\u001b[0;31mNameError\u001b[0m: name 'session' is not defined"
     ]
    }
   ],
   "source": []
  },
  {
   "cell_type": "code",
   "execution_count": null,
   "id": "ab53e748",
   "metadata": {},
   "outputs": [],
   "source": []
  }
 ],
 "metadata": {
  "kernelspec": {
   "display_name": "Python 3 (ipykernel)",
   "language": "python",
   "name": "python3"
  },
  "language_info": {
   "codemirror_mode": {
    "name": "ipython",
    "version": 3
   },
   "file_extension": ".py",
   "mimetype": "text/x-python",
   "name": "python",
   "nbconvert_exporter": "python",
   "pygments_lexer": "ipython3",
   "version": "3.11.5"
  }
 },
 "nbformat": 4,
 "nbformat_minor": 5
}
