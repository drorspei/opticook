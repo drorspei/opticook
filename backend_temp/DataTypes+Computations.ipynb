{
 "cells": [
  {
   "cell_type": "code",
   "execution_count": 37,
   "id": "02e21b1e",
   "metadata": {},
   "outputs": [],
   "source": [
    "#### DATA TYPES ####\n",
    "### (DONE) TODO-1: change tuples to lists in basic data classes\n",
    "### (DONE) ------ TODO0: update the recomplie_remaining_tasks to do a binary search... \n",
    "### (DONE) ------ TODO1: in \"chef_leaves\", handle active (ongion) tasks of `chef`\n",
    "### TODO2: handle resource collisions (e.g, an oven)\n",
    "### TODO3: Add mltiple rooms \n"
   ]
  },
  {
   "cell_type": "code",
   "execution_count": 38,
   "id": "36594d90-13b3-426c-b1ea-ba80c2d9db18",
   "metadata": {},
   "outputs": [
    {
     "ename": "TypeError",
     "evalue": "Too many arguments for typing.List; actual 2, expected 1",
     "output_type": "error",
     "traceback": [
      "\u001b[0;31m---------------------------------------------------------------------------\u001b[0m",
      "\u001b[0;31mTypeError\u001b[0m                                 Traceback (most recent call last)",
      "Cell \u001b[0;32mIn[38], line 26\u001b[0m\n\u001b[1;32m     22\u001b[0m     when_started: Optional[\u001b[38;5;28mint\u001b[39m]\u001b[38;5;241m=\u001b[39m\u001b[38;5;28;01mNone\u001b[39;00m\n\u001b[1;32m     23\u001b[0m     when_dismissed: Optional[\u001b[38;5;28mint\u001b[39m]\u001b[38;5;241m=\u001b[39m\u001b[38;5;28;01mNone\u001b[39;00m\n\u001b[1;32m     25\u001b[0m \u001b[38;5;129m@dataclass\u001b[39m\n\u001b[0;32m---> 26\u001b[0m \u001b[38;5;28;01mclass\u001b[39;00m\u001b[38;5;250m \u001b[39m\u001b[38;5;21;01mSession\u001b[39;00m:\n\u001b[1;32m     27\u001b[0m     recipe: List[CookingInstruction, \u001b[38;5;241m.\u001b[39m\u001b[38;5;241m.\u001b[39m\u001b[38;5;241m.\u001b[39m]\n\u001b[1;32m     28\u001b[0m     chef_tasks: Dict[\u001b[38;5;28mstr\u001b[39m, List[ChefTask, \u001b[38;5;241m.\u001b[39m\u001b[38;5;241m.\u001b[39m\u001b[38;5;241m.\u001b[39m]]\n",
      "Cell \u001b[0;32mIn[38], line 27\u001b[0m, in \u001b[0;36mSession\u001b[0;34m()\u001b[0m\n\u001b[1;32m     25\u001b[0m \u001b[38;5;129m@dataclass\u001b[39m\n\u001b[1;32m     26\u001b[0m \u001b[38;5;28;01mclass\u001b[39;00m\u001b[38;5;250m \u001b[39m\u001b[38;5;21;01mSession\u001b[39;00m:\n\u001b[0;32m---> 27\u001b[0m     recipe: List[CookingInstruction, \u001b[38;5;241m.\u001b[39m\u001b[38;5;241m.\u001b[39m\u001b[38;5;241m.\u001b[39m]\n\u001b[1;32m     28\u001b[0m     chef_tasks: Dict[\u001b[38;5;28mstr\u001b[39m, List[ChefTask, \u001b[38;5;241m.\u001b[39m\u001b[38;5;241m.\u001b[39m\u001b[38;5;241m.\u001b[39m]]\n",
      "File \u001b[0;32m~/anaconda3/lib/python3.11/typing.py:358\u001b[0m, in \u001b[0;36m_tp_cache.<locals>.decorator.<locals>.inner\u001b[0;34m(*args, **kwds)\u001b[0m\n\u001b[1;32m    356\u001b[0m \u001b[38;5;28;01mexcept\u001b[39;00m \u001b[38;5;167;01mTypeError\u001b[39;00m:\n\u001b[1;32m    357\u001b[0m     \u001b[38;5;28;01mpass\u001b[39;00m  \u001b[38;5;66;03m# All real errors (not unhashable args) are raised below.\u001b[39;00m\n\u001b[0;32m--> 358\u001b[0m \u001b[38;5;28;01mreturn\u001b[39;00m func(\u001b[38;5;241m*\u001b[39margs, \u001b[38;5;241m*\u001b[39m\u001b[38;5;241m*\u001b[39mkwds)\n",
      "File \u001b[0;32m~/anaconda3/lib/python3.11/typing.py:1569\u001b[0m, in \u001b[0;36m_SpecialGenericAlias.__getitem__\u001b[0;34m(self, params)\u001b[0m\n\u001b[1;32m   1567\u001b[0m msg \u001b[38;5;241m=\u001b[39m \u001b[38;5;124m\"\u001b[39m\u001b[38;5;124mParameters to generic types must be types.\u001b[39m\u001b[38;5;124m\"\u001b[39m\n\u001b[1;32m   1568\u001b[0m params \u001b[38;5;241m=\u001b[39m \u001b[38;5;28mtuple\u001b[39m(_type_check(p, msg) \u001b[38;5;28;01mfor\u001b[39;00m p \u001b[38;5;129;01min\u001b[39;00m params)\n\u001b[0;32m-> 1569\u001b[0m _check_generic(\u001b[38;5;28mself\u001b[39m, params, \u001b[38;5;28mself\u001b[39m\u001b[38;5;241m.\u001b[39m_nparams)\n\u001b[1;32m   1570\u001b[0m \u001b[38;5;28;01mreturn\u001b[39;00m \u001b[38;5;28mself\u001b[39m\u001b[38;5;241m.\u001b[39mcopy_with(params)\n",
      "File \u001b[0;32m~/anaconda3/lib/python3.11/typing.py:286\u001b[0m, in \u001b[0;36m_check_generic\u001b[0;34m(cls, parameters, elen)\u001b[0m\n\u001b[1;32m    284\u001b[0m alen \u001b[38;5;241m=\u001b[39m \u001b[38;5;28mlen\u001b[39m(parameters)\n\u001b[1;32m    285\u001b[0m \u001b[38;5;28;01mif\u001b[39;00m alen \u001b[38;5;241m!=\u001b[39m elen:\n\u001b[0;32m--> 286\u001b[0m     \u001b[38;5;28;01mraise\u001b[39;00m \u001b[38;5;167;01mTypeError\u001b[39;00m(\u001b[38;5;124mf\u001b[39m\u001b[38;5;124m\"\u001b[39m\u001b[38;5;124mToo \u001b[39m\u001b[38;5;132;01m{\u001b[39;00m\u001b[38;5;124m'\u001b[39m\u001b[38;5;124mmany\u001b[39m\u001b[38;5;124m'\u001b[39m\u001b[38;5;250m \u001b[39m\u001b[38;5;28;01mif\u001b[39;00m\u001b[38;5;250m \u001b[39malen\u001b[38;5;250m \u001b[39m\u001b[38;5;241m>\u001b[39m\u001b[38;5;250m \u001b[39melen\u001b[38;5;250m \u001b[39m\u001b[38;5;28;01melse\u001b[39;00m\u001b[38;5;250m \u001b[39m\u001b[38;5;124m'\u001b[39m\u001b[38;5;124mfew\u001b[39m\u001b[38;5;124m'\u001b[39m\u001b[38;5;132;01m}\u001b[39;00m\u001b[38;5;124m arguments for \u001b[39m\u001b[38;5;132;01m{\u001b[39;00m\u001b[38;5;28mcls\u001b[39m\u001b[38;5;132;01m}\u001b[39;00m\u001b[38;5;124m;\u001b[39m\u001b[38;5;124m\"\u001b[39m\n\u001b[1;32m    287\u001b[0m                     \u001b[38;5;124mf\u001b[39m\u001b[38;5;124m\"\u001b[39m\u001b[38;5;124m actual \u001b[39m\u001b[38;5;132;01m{\u001b[39;00malen\u001b[38;5;132;01m}\u001b[39;00m\u001b[38;5;124m, expected \u001b[39m\u001b[38;5;132;01m{\u001b[39;00melen\u001b[38;5;132;01m}\u001b[39;00m\u001b[38;5;124m\"\u001b[39m)\n",
      "\u001b[0;31mTypeError\u001b[0m: Too many arguments for typing.List; actual 2, expected 1"
     ]
    }
   ],
   "source": [
    "from typing import List, Dict, Optional, Tuple\n",
    "from dataclasses import dataclass\n",
    "\n",
    "cooking_time_unit = 30    # in seconds\n",
    "assert 60 % cooking_time_unit == 0\n",
    "\n",
    "from RecipeCompilation import *\n",
    "\n",
    "\n",
    "\n",
    "@dataclass\n",
    "class CookingInstruction:\n",
    "    index: int\n",
    "    task: str\n",
    "    duration: int\n",
    "    attention: bool\n",
    "    dependencies: List[int] = ()\n",
    "\n",
    "@dataclass\n",
    "class ChefTask:\n",
    "    instruction_index: int\n",
    "    when_started: Optional[int]=None\n",
    "    when_dismissed: Optional[int]=None\n",
    "\n",
    "@dataclass\n",
    "class Session:\n",
    "    recipe: List[CookingInstruction, ...]\n",
    "    chef_tasks: Dict[str, List[ChefTask, ...]]\n",
    "\n",
    "############################"
   ]
  },
  {
   "cell_type": "code",
   "execution_count": 39,
   "id": "c33f6eda-d3b5-41b5-9c94-26cc2a106506",
   "metadata": {},
   "outputs": [
    {
     "data": {
      "text/plain": [
       "'\\nprivate stuff:\\n1. alice find recipe\\n2. alice enters url\\n3. llm is called, it saves recipe, we upload it.\\n---------\\npublic stuff:\\n1. alice goes to main page and sees a large text box\\n2. alice enters a recipe (i.e. list of CookingInstructions) and presses \"enter recipe\"\\n3. alice enters names of chefs for this device \"alice\", \"bob\"\\n4. screen shows two parts: alice sees wash hands, bob sees wash hands, and \"done!\" buttons\\n5. they both press \"done!\" buttons\\n5. screen shows two parts: alice sees \"put eggs to boil\", bob sees to not do anything, the algorithm thinks he is useless\\n2. alice presses \"done!\"\\n3. alice sees \"chop carrots\", and a 5 minute timer for eggs\\n4. alice presses done! (it took her 3 minutes, as expected, she\\'s on time, she\\'s the best.)\\n5. put carrots in oven, close door, doesn\\'t have to be on.\\n6. alice sees just timers\\n7. alice hears egg timer goes off and sees take out eggs\\n8. alice dismisses timer and goes to sleep. fuck this recipe.\\n'"
      ]
     },
     "execution_count": 39,
     "metadata": {},
     "output_type": "execute_result"
    }
   ],
   "source": [
    "state = {}  # global state\n",
    "\n",
    "def main_page():\n",
    "    return \"enter url!\"\n",
    "\n",
    "def process_url(url: str):\n",
    "    state[\"url\"] = url\n",
    "    return \"enter names!\"\n",
    "\n",
    "# simulation of the story\n",
    "main_page()\n",
    "process_url(\"actual url\")\n",
    "\n",
    "def parse_cooking_instructions(str) -> List[CookingInstruction]:\n",
    "    pass\n",
    "\n",
    "\"\"\"\n",
    "private stuff:\n",
    "1. alice find recipe\n",
    "2. alice enters url\n",
    "3. llm is called, it saves recipe, we upload it.\n",
    "---------\n",
    "public stuff:\n",
    "1. alice goes to main page and sees a large text box\n",
    "2. alice enters a recipe (i.e. list of CookingInstructions) and presses \"enter recipe\"\n",
    "3. alice enters names of chefs for this device \"alice\", \"bob\"\n",
    "4. screen shows two parts: alice sees wash hands, bob sees wash hands, and \"done!\" buttons\n",
    "5. they both press \"done!\" buttons\n",
    "5. screen shows two parts: alice sees \"put eggs to boil\", bob sees to not do anything, the algorithm thinks he is useless\n",
    "2. alice presses \"done!\"\n",
    "3. alice sees \"chop carrots\", and a 5 minute timer for eggs\n",
    "4. alice presses done! (it took her 3 minutes, as expected, she's on time, she's the best.)\n",
    "5. put carrots in oven, close door, doesn't have to be on.\n",
    "6. alice sees just timers\n",
    "7. alice hears egg timer goes off and sees take out eggs\n",
    "8. alice dismisses timer and goes to sleep. fuck this recipe.\n",
    "\"\"\""
   ]
  },
  {
   "cell_type": "code",
   "execution_count": null,
   "id": "af96bdf5",
   "metadata": {},
   "outputs": [],
   "source": []
  },
  {
   "cell_type": "code",
   "execution_count": 74,
   "id": "215cac3a-21c4-494f-9b03-d1902d6a1510",
   "metadata": {},
   "outputs": [],
   "source": [
    "### TODO1: in \"chef_leaves\", handle active (ongion) tasks of `chef`\n",
    "### TODO2: handle resource collisions (e.g, an oven)\n",
    "### TODO3: Add mltiple rooms \n",
    "\n",
    "\n",
    "\n",
    "def next_unstarted_task(session, chef):\n",
    "    \"\"\"Return the index in the chef's tasks of the first unstarted instruction if exists, otherwise None \n",
    "    *** Maybe better to return the length of the tuple otherwise. Useful for taking the tail of unstarted tasks ***\"\"\"\n",
    "    return ([i for i,task in enumerate(session.chef_tasks[chef]) if task.when_started == None]\n",
    "            +[len(session.chef_tasks[chef])])[0]\n",
    "    #return ([i for i,task in enumerate(session.chef_tasks[chef]) if task.when_started == None]+[None])[0]\n",
    "    \n",
    "\n",
    "def advance_task_for_chef(session, chef, now):\n",
    "    i = next_unstarted_task(session, chef)\n",
    "    if i == len(session.chef_tasks[chef]):\n",
    "    #if i is None:\n",
    "        return session\n",
    "        \n",
    "    chef_tasks = {chef2 : session.chef_tasks[chef2] for chef2 in session.chef_tasks if chef2 != chef}\n",
    "    chef_tasks[chef] = (\n",
    "        session.chef_tasks[chef][:i]\n",
    "        + [ChefTask(\n",
    "                session.chef_tasks[chef][i].instruction_index, now)]\n",
    "        + session.chef_tasks[chef][i + 1:]\n",
    "    )\n",
    "    return Session(session.recipe, chef_tasks)\n",
    "\n",
    "\n",
    "def remaining_recipe_indices(session):\n",
    "    return [task.instruction_index for task in sum(\n",
    "        [session.chef_tasks[chef][next_unstarted_task(session, chef):] for chef in session.chef_tasks],[]\n",
    "    )]\n",
    "\n",
    "def solve_remaining_session(session,remaining_indices,timeout):\n",
    "    chefs_list = list(session.chef_tasks.keys())\n",
    "    #remaining_indices = remaining_recipe_indices(session)\n",
    "    recipe = session.recipe\n",
    "    \n",
    "    # 1. Vertices (indices of all future instructions)\n",
    "    remaining_instructions = [instr for instr in recipe if instr.index in remaining_indices]\n",
    "    print(\"remaining_instructions are\", remaining_instructions)\n",
    "    vertices = [instr.index for instr in remaining_instructions]\n",
    "    vertex_set = set(vertices)  # for fast lookup\n",
    "\n",
    "    # 2. Edges: only include dependencies where both source and target are in future_instructions\n",
    "    edges = []\n",
    "    time_ub = 0\n",
    "    for instr in remaining_instructions:\n",
    "        if instr.attention:\n",
    "            time_ub += instr.duration\n",
    "        \n",
    "        for dep in instr.dependencies:\n",
    "            if dep in vertex_set:\n",
    "                edges.append((dep, instr.index))\n",
    "\n",
    "    # 3. Assignment map: only for vertices in the future\n",
    "    assignment_map = {\n",
    "        instr.index: Assignment(instr.attention, instr.duration)\n",
    "        for instr in remaining_instructions\n",
    "    }\n",
    "\n",
    "    \n",
    "    #4. Setup the SAT equations\n",
    "    #clauses, tuples, tuple2idx = recipe2sat(chefs_list, vertices, edges, assignment_map, time_ub, time_unit=cooking_time_unit)\n",
    "    \n",
    "    print(\"starting solver with time_ub = \", time_ub)\n",
    "    #5. Solve SAT\n",
    "    #solver(chefs, vertices, edges, a, timeout, ub, lb = 0):\n",
    "    chosen_triples = solver(chefs_list, vertices, edges, assignment_map, timeout, time_ub) \n",
    "    print(\"SAT is done! result =\", chosen_triples)\n",
    "    #chosen_triples = satSolve(clauses, tuple2idx)  \n",
    "    chosen_triples.sort(key=lambda trip: trip[1])\n",
    "    # trip = (p,t,v) is a triple where trip[0] = p = chef's_name (aka processor), trip[1] = t = starting time_slot,\n",
    "    # trip[2] = v = instruction index\n",
    "    \n",
    "    return {\n",
    "        chef: list(ChefTask(trip[2])\n",
    "                    for trip in [trip for trip in chosen_triples if trip[0] == chef])\n",
    "        for chef in chefs_list\n",
    "    }\n",
    "\n",
    "\n",
    "def recompile_session(session,remaining_indices = None, timeout = 30):\n",
    "    if remaining_indices == None:\n",
    "        remaining_indices = remaining_recipe_indices(session)\n",
    "        \n",
    "    future_chef_tasks = solve_remaining_session(session,remaining_indices,timeout)\n",
    "    print(future_chef_tasks)\n",
    "    return Session(session.recipe, {\n",
    "        chef: session.chef_tasks[chef][:next_unstarted_task(session, chef)] + future_chef_tasks[chef] \n",
    "        for chef in session.chef_tasks\n",
    "    })\n",
    "\n",
    "\n",
    "\n",
    "def new_chef_joined(session, new_chef, now):\n",
    "    \n",
    "    if new_chef in session.chef_tasks:\n",
    "        return session\n",
    "    \n",
    "    tasks_plus = session.chef_tasks\n",
    "    tasks_plus[new_chef] = ()\n",
    "    \n",
    "    return advance_task_for_chef(recompile_session(Session(session.recipe, tasks_plus)), new_chef, now)\n",
    "\n",
    "\n",
    "def dismiss_timer(session:Session, inst_index:int, now:int) -> Session:\n",
    "    \"\"\"\"\n",
    "    Given a `session' and an index `inst_index` of an instruction, looks for a active (ongoing) \n",
    "    but unfinished task with index `inst_index`, returns a new session\n",
    "    where the given chef's task is marked as finished with time stamp `now`\n",
    "    \"\"\"\n",
    "    #values, keys, items\n",
    "    \n",
    "    tasks = [task for tasks in session.chef_tasks.values() for task in tasks if task.instruction_index==inst_index]\n",
    "    if tasks:\n",
    "        task = tasks[0]  #Assuming unique task per instruction\n",
    "        if task.when_started == None:\n",
    "            print(\"The instruction whose index is\", inst_index, \"hasn't started!\")\n",
    "            return session\n",
    "        elif task.when_dismissed != None:\n",
    "            print(\"The instruction whose index is\", inst_index, \"was already dismissed!\")\n",
    "            return session\n",
    "        \n",
    "        chef = [ch for ch in session.chef_tasks if task in session.chef_tasks[ch]][0]    #Assuming unique chef for each task\n",
    "        i= [idx for idx,tsk in enumerate(session.chef_tasks[chef]) if tsk == task][0]\n",
    "        chef_tasks = {chef2 : session.chef_tasks[chef2] for chef2 in session.chef_tasks if chef2 != chef}\n",
    "        chef_tasks[chef] = session.chef_tasks[chef][:i] + list([ChefTask(task.instruction_index,task.when_started,now)]) + session.chef_tasks[chef][i+1:]\n",
    "        return Session(session.recipe, chef_tasks)\n",
    "    \n",
    "    print(\"The instruction whose index is\", inst_index, \"does not appear in the chefs' tasks lists\")\n",
    "    return session\n",
    "    \n",
    "def reset_active_task(session:Session, inst_index:int) -> Session:\n",
    "    \"\"\"\"\n",
    "    Given a `session' and an index `inst_index` of an instruction, looks for a active (ongoing) but nonfinished task with index `inst_index`, returns a new session\n",
    "    where the given chef's task is marked as unstarted.\n",
    "    \"\"\"\n",
    "    \n",
    "    tasks = [task for tasks in session.chef_tasks.values() for task in tasks if task.instruction_index==inst_index]\n",
    "    if tasks:\n",
    "        task = tasks[0]  #Assuming unique task per instruction\n",
    "        if task.when_started == None:\n",
    "            print(\"The instruction whose index is\", inst_index, \"hasn't started!\")\n",
    "            return session\n",
    "        elif task.when_dismissed != None: \n",
    "            print(\"The instruction whose index is\", inst_index, \"was dismissed!\")\n",
    "            return session\n",
    "        \n",
    "        chef = [ch for ch in session.chef_tasks if task in session.chef_tasks[ch]][0]   #Assuming unique chef for each task\n",
    "        i= [idx for idx,tsk in enumerate(session.chef_tasks[chef]) if tsk == task][0]\n",
    "        chef_tasks = {chef2 : session.chef_tasks[chef2] for chef2 in session.chef_tasks if chef2 != chef}\n",
    "        chef_tasks[chef] = session.chef_tasks[chef][:i] + list([ChefTask(task.instruction_index,None,None)]) + session.chef_tasks[chef][i+1:]\n",
    "        return Session(session.recipe, chef_tasks)\n",
    "        \n",
    "\n",
    "    \n",
    "def active_timers(session, chef) -> List[ChefTask]:\n",
    "    \"\"\"\"\n",
    "    Given a `session' and a chef `chef`, returns the list of tasks assigned to this chef that are both active and do\n",
    "    NOT require attention. \n",
    "    \n",
    "    \"\"\"\n",
    "    return [task for task in session.chef_tasks[chef] if not(session.recipe[task.instruction_index].attention) \n",
    "            and task.when_started != None and task.when_dismissed == None]\n",
    "\n",
    "\n",
    "\n",
    "def chef_leave(session: Session, chef: str) -> Session:\n",
    "    \"\"\"\n",
    "    given a `session` and `chef`, returns a new session whose chef_tasks assignments includes all the previous chefs except `chef`\n",
    "    \"\"\"\n",
    "    if not chef in session.chef_tasks:\n",
    "        return session\n",
    "    \n",
    "    active_idx = [task.instruction_index for task in active_timers(session,chef)]\n",
    "    tasks = {ch : tasks for ch,tasks in session.chef_tasks.items() if cf != chef}\n",
    "    if tasks:\n",
    "        tasks[next(iter(tasks))] += session.chef_tasks[chef]  # list(tasks)[0] = next(iter(tasks))\n",
    "        for i in active_idx:\n",
    "            session = Session(session.recipe, tasks)\n",
    "            session = reset_active_task(session,i)\n",
    "        ##TODO: ADD reset_active_task\n",
    "    \n",
    "    else:\n",
    "        session = Session(session.recipe, tasks)\n",
    "\n",
    "    return recompile_session(session) ### TODO: handle active (ongion) tasks of `chef`\n",
    "    \n",
    "\n",
    "# and more"
   ]
  },
  {
   "cell_type": "code",
   "execution_count": 75,
   "id": "0b161fc4",
   "metadata": {},
   "outputs": [],
   "source": [
    "#Example 1: session (looks like an initialized session, nothing is cooking)\n",
    "\n",
    "i1 = CookingInstruction(0, \"Chop onions\", 60, True, [])\n",
    "i2 = CookingInstruction(1, \"Boil water\", 120, False, [0])\n",
    "i3 = CookingInstruction(2, \"Saute onions\", 90, False, [0,1])    \n",
    "i4 = CookingInstruction(3, \"4 from scretch\", 40, False, []) \n",
    "i5 = CookingInstruction(4, \"5 from scretch\", 50, True, [])\n",
    "i6 = CookingInstruction(5, \"6 from scretch\", 60, True, [])\n",
    "\n",
    "recipe = [i1,i2,i3,i4,i5,i6]\n",
    "\n",
    "#ChefTasks\n",
    "A1 = ChefTask(0)\n",
    "A2 = ChefTask(1)\n",
    "A3 = ChefTask(3)\n",
    "A4 = ChefTask(4)\n",
    "A5 = ChefTask(5)\n",
    "\n",
    "B1 = ChefTask(2)\n",
    "B2 = ChefTask(5)\n",
    "\n",
    "#Session\n",
    "session = Session(recipe, {'Alice':[A1,A2,A3,A4,A5], 'Bob':[B1,B2]})\n",
    "\n"
   ]
  },
  {
   "cell_type": "code",
   "execution_count": 76,
   "id": "5f4125df",
   "metadata": {},
   "outputs": [],
   "source": [
    "#Example 2: active_session (looks a session that is running with some tasks active)\n",
    "\n",
    "\n",
    "i1 = CookingInstruction(0, \"Chop onions\", 60, True, [])\n",
    "i2 = CookingInstruction(1, \"Boil water\", 120, False, [0])\n",
    "i3 = CookingInstruction(2, \"Saute onions\", 90, False, [0,1])    \n",
    "i4 = CookingInstruction(3, \"4 from scretch\", 40, False, []) \n",
    "i5 = CookingInstruction(4, \"5 from scretch\", 50, True, [])\n",
    "i6 = CookingInstruction(5, \"6 from scretch\", 6|0, True, [])\n",
    "\n",
    "recipe = [i1,i2,i3,i4,i5,i6]\n",
    "\n",
    "#ChefTasks\n",
    "A1 = ChefTask(0,0)\n",
    "A2 = ChefTask(1,1)\n",
    "A3 = ChefTask(3,1)\n",
    "A4 = ChefTask(4,4)\n",
    "A5 = ChefTask(5,1)\n",
    "\n",
    "B1 = ChefTask(2,0)\n",
    "B2 = ChefTask(5)\n",
    "\n",
    "#Session\n",
    "active_session = Session(recipe, {'Alice':[A1,A2,A3,A4,A5], 'Bob':[B1,B2]})\n"
   ]
  },
  {
   "cell_type": "code",
   "execution_count": 77,
   "id": "9ca5954f",
   "metadata": {},
   "outputs": [
    {
     "data": {
      "text/plain": [
       "[ChefTask(instruction_index=2, when_started=0, when_dismissed=None),\n",
       " ChefTask(instruction_index=5, when_started=None, when_dismissed=None)]"
      ]
     },
     "execution_count": 77,
     "metadata": {},
     "output_type": "execute_result"
    }
   ],
   "source": [
    "active_session.chef_tasks['Bob']"
   ]
  },
  {
   "cell_type": "code",
   "execution_count": 78,
   "id": "1b1c7301",
   "metadata": {},
   "outputs": [
    {
     "data": {
      "text/plain": [
       "[ChefTask(instruction_index=2, when_started=None, when_dismissed=None),\n",
       " ChefTask(instruction_index=5, when_started=None, when_dismissed=None)]"
      ]
     },
     "execution_count": 78,
     "metadata": {},
     "output_type": "execute_result"
    }
   ],
   "source": [
    "reset_active_task(active_session,2).chef_tasks['Bob']"
   ]
  },
  {
   "cell_type": "code",
   "execution_count": 79,
   "id": "6750a464",
   "metadata": {},
   "outputs": [
    {
     "data": {
      "text/plain": [
       "[ChefTask(instruction_index=0, when_started=0, when_dismissed=None),\n",
       " ChefTask(instruction_index=1, when_started=1, when_dismissed=4),\n",
       " ChefTask(instruction_index=3, when_started=1, when_dismissed=None),\n",
       " ChefTask(instruction_index=4, when_started=4, when_dismissed=None),\n",
       " ChefTask(instruction_index=5, when_started=1, when_dismissed=None)]"
      ]
     },
     "execution_count": 79,
     "metadata": {},
     "output_type": "execute_result"
    }
   ],
   "source": [
    "dismiss_timer(active_session,1,4).chef_tasks['Alice']"
   ]
  },
  {
   "cell_type": "code",
   "execution_count": 80,
   "id": "f5727867",
   "metadata": {},
   "outputs": [
    {
     "data": {
      "text/plain": [
       "[ChefTask(instruction_index=1, when_started=1, when_dismissed=None),\n",
       " ChefTask(instruction_index=3, when_started=1, when_dismissed=None)]"
      ]
     },
     "execution_count": 80,
     "metadata": {},
     "output_type": "execute_result"
    }
   ],
   "source": [
    "chef = 'Alice'\n",
    "now = 10\n",
    "active_timers(active_session,chef)\n",
    "#[task for task in session.chef_tasks[chef] if task.instruction_index == 3]\n",
    "\n",
    "#session.recipe[[task for task in session.chef_tasks[chef]][3].instruction_index]"
   ]
  },
  {
   "cell_type": "code",
   "execution_count": 81,
   "id": "60592b63",
   "metadata": {},
   "outputs": [
    {
     "data": {
      "text/plain": [
       "[ChefTask(instruction_index=0, when_started=3333, when_dismissed=None),\n",
       " ChefTask(instruction_index=1, when_started=None, when_dismissed=None),\n",
       " ChefTask(instruction_index=3, when_started=None, when_dismissed=None),\n",
       " ChefTask(instruction_index=4, when_started=None, when_dismissed=None),\n",
       " ChefTask(instruction_index=5, when_started=None, when_dismissed=None)]"
      ]
     },
     "execution_count": 81,
     "metadata": {},
     "output_type": "execute_result"
    }
   ],
   "source": [
    "session1 = advance_task_for_chef(session, 'Alice', 3333)\n",
    "session1.chef_tasks['Alice']\n"
   ]
  },
  {
   "cell_type": "code",
   "execution_count": 82,
   "id": "efd71e48",
   "metadata": {},
   "outputs": [
    {
     "data": {
      "text/plain": [
       "[ChefTask(instruction_index=0, when_started=3333, when_dismissed=None),\n",
       " ChefTask(instruction_index=1, when_started=7777, when_dismissed=None),\n",
       " ChefTask(instruction_index=3, when_started=None, when_dismissed=None),\n",
       " ChefTask(instruction_index=4, when_started=None, when_dismissed=None),\n",
       " ChefTask(instruction_index=5, when_started=None, when_dismissed=None)]"
      ]
     },
     "execution_count": 82,
     "metadata": {},
     "output_type": "execute_result"
    }
   ],
   "source": [
    "session2 = advance_task_for_chef(session1, 'Alice', 7777)\n",
    "session2.chef_tasks['Alice']"
   ]
  },
  {
   "cell_type": "code",
   "execution_count": 83,
   "id": "d189fc95",
   "metadata": {},
   "outputs": [
    {
     "name": "stdout",
     "output_type": "stream",
     "text": [
      "[0, 1, 3, 4, 5, 2, 5]\n",
      "[2, 5, 1, 3, 4, 5]\n",
      "[2, 5, 3, 4, 5]\n"
     ]
    }
   ],
   "source": [
    "print(remaining_recipe_indices(session))\n",
    "print(remaining_recipe_indices(session1))\n",
    "print(remaining_recipe_indices(session2))"
   ]
  },
  {
   "cell_type": "code",
   "execution_count": 84,
   "id": "93b33338",
   "metadata": {},
   "outputs": [
    {
     "data": {
      "text/plain": [
       "[0, 1, 3, 4, 5, 2, 5]"
      ]
     },
     "execution_count": 84,
     "metadata": {},
     "output_type": "execute_result"
    }
   ],
   "source": [
    "remaining_recipe_indices(session)"
   ]
  },
  {
   "cell_type": "code",
   "execution_count": 17,
   "id": "914507e2",
   "metadata": {},
   "outputs": [
    {
     "name": "stdout",
     "output_type": "stream",
     "text": [
      "remaining_instructions are [CookingInstruction(index=0, task='Chop onions', duration=60, attention=True, dependencies=[]), CookingInstruction(index=1, task='Boil water', duration=120, attention=False, dependencies=[0]), CookingInstruction(index=2, task='Saute onions', duration=90, attention=True, dependencies=[0, 1]), CookingInstruction(index=3, task='4 from scretch', duration=40, attention=True, dependencies=[]), CookingInstruction(index=4, task='5 from scretch', duration=50, attention=True, dependencies=[]), CookingInstruction(index=5, task='6 from scretch', duration=60, attention=True, dependencies=[])]\n",
      "timeslot[0] == 0\n",
      "1/6 process does single high attention task\n"
     ]
    },
    {
     "name": "stderr",
     "output_type": "stream",
     "text": [
      "100%|███████████████████████████████████████████████████████████████████████████████████████████████████████████████████████████████████████████████████████████████████████████████████████████| 36/36 [00:00<00:00, 118.48it/s]\n"
     ]
    },
    {
     "name": "stdout",
     "output_type": "stream",
     "text": [
      "2/6 resource can do one thing at a time\n"
     ]
    },
    {
     "name": "stderr",
     "output_type": "stream",
     "text": [
      "0it [00:00, ?it/s]\n"
     ]
    },
    {
     "name": "stdout",
     "output_type": "stream",
     "text": [
      "3/6 every vertex is done at least once\n"
     ]
    },
    {
     "name": "stderr",
     "output_type": "stream",
     "text": [
      "100%|████████████████████████████████████████████████████████████████████████████████████████████████████████████████████████████████████████████████████████████████████████████████████████████| 6/6 [00:00<00:00, 9045.95it/s]\n"
     ]
    },
    {
     "name": "stdout",
     "output_type": "stream",
     "text": [
      "4/6 every task is done at most once\n"
     ]
    },
    {
     "name": "stderr",
     "output_type": "stream",
     "text": [
      "100%|██████████████████████████████████████████████████████████████████████████████████████████████████████████████████████████████████████████████████████████████████████████████████████████████| 4/4 [00:04<00:00,  1.03s/it]\n"
     ]
    },
    {
     "name": "stdout",
     "output_type": "stream",
     "text": [
      "6/6 the task execution follows the graph structure\n"
     ]
    },
    {
     "name": "stderr",
     "output_type": "stream",
     "text": [
      "100%|██████████████████████████████████████████████████████████████████████████████████████████████████████████████████████████████████████████████████████████████████████████████████████████████| 3/3 [00:02<00:00,  1.36it/s]\n",
      "100%|███████████████████████████████████████████████████████████████████████████████████████████████████████████████████████████████████████████████████████████████████████████| 12686086/12686086 [00:02<00:00, 4804329.68it/s]\n"
     ]
    },
    {
     "name": "stdout",
     "output_type": "stream",
     "text": [
      "{'Alice': (ChefTask(instruction_index=5, when_started=None, when_dismissed=None), ChefTask(instruction_index=4, when_started=None, when_dismissed=None), ChefTask(instruction_index=3, when_started=None, when_dismissed=None), ChefTask(instruction_index=0, when_started=None, when_dismissed=None), ChefTask(instruction_index=1, when_started=None, when_dismissed=None), ChefTask(instruction_index=2, when_started=None, when_dismissed=None)), 'Bob': ()}\n"
     ]
    },
    {
     "data": {
      "text/plain": [
       "Session(recipe=(CookingInstruction(index=0, task='Chop onions', duration=60, attention=True, dependencies=[]), CookingInstruction(index=1, task='Boil water', duration=120, attention=False, dependencies=[0]), CookingInstruction(index=2, task='Saute onions', duration=90, attention=True, dependencies=[0, 1]), CookingInstruction(index=3, task='4 from scretch', duration=40, attention=True, dependencies=[]), CookingInstruction(index=4, task='5 from scretch', duration=50, attention=True, dependencies=[]), CookingInstruction(index=5, task='6 from scretch', duration=60, attention=True, dependencies=[])), chef_tasks={'Alice': (ChefTask(instruction_index=5, when_started=None, when_dismissed=None), ChefTask(instruction_index=4, when_started=None, when_dismissed=None), ChefTask(instruction_index=3, when_started=None, when_dismissed=None), ChefTask(instruction_index=0, when_started=None, when_dismissed=None), ChefTask(instruction_index=1, when_started=None, when_dismissed=None), ChefTask(instruction_index=2, when_started=None, when_dismissed=None)), 'Bob': ()})"
      ]
     },
     "execution_count": 17,
     "metadata": {},
     "output_type": "execute_result"
    }
   ],
   "source": [
    "recompile_session(session)"
   ]
  },
  {
   "cell_type": "code",
   "execution_count": 14,
   "id": "c5cbb2ee",
   "metadata": {},
   "outputs": [
    {
     "name": "stdout",
     "output_type": "stream",
     "text": [
      "remaining_instructions are [CookingInstruction(index=0, task='Chop onions', duration=60, attention=True, dependencies=[]), CookingInstruction(index=1, task='Boil water', duration=120, attention=False, dependencies=[0]), CookingInstruction(index=2, task='Saute onions', duration=90, attention=False, dependencies=[0, 1]), CookingInstruction(index=3, task='4 from scretch', duration=40, attention=False, dependencies=[]), CookingInstruction(index=4, task='5 from scretch', duration=50, attention=True, dependencies=[]), CookingInstruction(index=5, task='6 from scretch', duration=60, attention=True, dependencies=[])]\n",
      "timeslot[0] == 0\n",
      "1/6 process does single high attention task\n"
     ]
    },
    {
     "name": "stderr",
     "output_type": "stream",
     "text": [
      "100%|███████████████████████████████████████████████████████████████████████████████████████████████| 36/36 [00:00<00:00, 250.26it/s]\n"
     ]
    },
    {
     "name": "stdout",
     "output_type": "stream",
     "text": [
      "2/6 resource can do one thing at a time\n"
     ]
    },
    {
     "name": "stderr",
     "output_type": "stream",
     "text": [
      "0it [00:00, ?it/s]\n"
     ]
    },
    {
     "name": "stdout",
     "output_type": "stream",
     "text": [
      "3/6 every vertex is done at least once\n"
     ]
    },
    {
     "name": "stderr",
     "output_type": "stream",
     "text": [
      "100%|███████████████████████████████████████████████████████████████████████████████████████████████| 6/6 [00:00<00:00, 13386.08it/s]\n"
     ]
    },
    {
     "name": "stdout",
     "output_type": "stream",
     "text": [
      "4/6 every task is done at most once\n"
     ]
    },
    {
     "name": "stderr",
     "output_type": "stream",
     "text": [
      "100%|██████████████████████████████████████████████████████████████████████████████████████████████████| 9/9 [00:02<00:00,  4.24it/s]\n"
     ]
    },
    {
     "name": "stdout",
     "output_type": "stream",
     "text": [
      "6/6 the task execution follows the graph structure\n"
     ]
    },
    {
     "name": "stderr",
     "output_type": "stream",
     "text": [
      "100%|██████████████████████████████████████████████████████████████████████████████████████████████████| 3/3 [00:00<00:00,  4.39it/s]\n",
      "100%|█████████████████████████████████████████████████████████████████████████████████| 8748786/8748786 [00:01<00:00, 5647275.20it/s]\n"
     ]
    },
    {
     "name": "stdout",
     "output_type": "stream",
     "text": [
      "{'Alice': (ChefTask(instruction_index=3, when_started=None, when_dismissed=None), ChefTask(instruction_index=0, when_started=None, when_dismissed=None), ChefTask(instruction_index=1, when_started=None, when_dismissed=None)), 'Bob': (ChefTask(instruction_index=5, when_started=None, when_dismissed=None), ChefTask(instruction_index=2, when_started=None, when_dismissed=None)), 'Joe': (ChefTask(instruction_index=4, when_started=None, when_dismissed=None),)}\n"
     ]
    }
   ],
   "source": [
    "session_Joe= new_chef_joined(session,'Joe',1414)"
   ]
  },
  {
   "cell_type": "code",
   "execution_count": 19,
   "id": "99a4b19f",
   "metadata": {},
   "outputs": [
    {
     "data": {
      "text/plain": [
       "Session(recipe=(CookingInstruction(index=0, task='Chop onions', duration=60, attention=True, dependencies=[]), CookingInstruction(index=1, task='Boil water', duration=120, attention=False, dependencies=[0]), CookingInstruction(index=2, task='Saute onions', duration=90, attention=True, dependencies=[0, 1]), CookingInstruction(index=3, task='4 from scretch', duration=40, attention=True, dependencies=[]), CookingInstruction(index=4, task='5 from scretch', duration=50, attention=True, dependencies=[]), CookingInstruction(index=5, task='6 from scretch', duration=60, attention=True, dependencies=[])), chef_tasks={'Alice': (ChefTask(instruction_index=5, when_started=None, when_dismissed=None), ChefTask(instruction_index=4, when_started=None, when_dismissed=None), ChefTask(instruction_index=3, when_started=None, when_dismissed=None), ChefTask(instruction_index=0, when_started=None, when_dismissed=None), ChefTask(instruction_index=1, when_started=None, when_dismissed=None), ChefTask(instruction_index=2, when_started=None, when_dismissed=None)), 'Bob': (), 'Joe': ()})"
      ]
     },
     "execution_count": 19,
     "metadata": {},
     "output_type": "execute_result"
    }
   ],
   "source": [
    "session_Joe"
   ]
  },
  {
   "cell_type": "code",
   "execution_count": 15,
   "id": "e1110835",
   "metadata": {},
   "outputs": [
    {
     "data": {
      "text/plain": [
       "(0, 1, 3, 4, 5, 2, 5)"
      ]
     },
     "execution_count": 15,
     "metadata": {},
     "output_type": "execute_result"
    }
   ],
   "source": [
    "remaining_indices = remaining_recipe_indices(session)\n",
    "remaining_indices"
   ]
  },
  {
   "cell_type": "code",
   "execution_count": 16,
   "id": "68127227",
   "metadata": {},
   "outputs": [],
   "source": [
    "\n",
    "def solve_remaining_session(session,remaining_indices,timeout):\n",
    "    chefs_list = list(session.chef_tasks.keys())\n",
    "    #remaining_indices = remaining_recipe_indices(session)\n",
    "    recipe = session.recipe\n",
    "    \n",
    "    # 1. Vertices (indices of all future instructions)\n",
    "    remaining_instructions = [instr for instr in recipe if instr.index in remaining_indices]\n",
    "    print(\"remaining_instructions are\", remaining_instructions)\n",
    "    vertices = [instr.index for instr in remaining_instructions]\n",
    "    vertex_set = set(vertices)  # for fast lookup\n",
    "\n",
    "    # 2. Edges: only include dependencies where both source and target are in future_instructions\n",
    "    edges = []\n",
    "    time_ub = 0\n",
    "    for instr in remaining_instructions:\n",
    "        if instr.attention:\n",
    "            time_ub += instr.duration\n",
    "        \n",
    "        for dep in instr.dependencies:\n",
    "            if dep in vertex_set:\n",
    "                edges.append((dep, instr.index))\n",
    "\n",
    "    # 3. Assignment map: only for vertices in the future\n",
    "    assignment_map = {\n",
    "        instr.index: Assignment(instr.attention, instr.duration)\n",
    "        for instr in remaining_instructions\n",
    "    }\n",
    "\n",
    "    \n",
    "    #4. Setup the SAT equations\n",
    "    #clauses, tuples, tuple2idx = recipe2sat(chefs_list, vertices, edges, assignment_map, time_ub, time_unit=cooking_time_unit)\n",
    "    \n",
    "    print(\"starting solver with time_ub = \", time_ub)\n",
    "    #5. Solve SAT\n",
    "    #solver(chefs, vertices, edges, a, timeout, ub, lb = 0):\n",
    "    chosen_triples = solver(chefs_list, vertices, edges, assignment_map, timeout, time_ub) \n",
    "    print(\"SAT is done! result =\", chosen_triples)\n",
    "    #chosen_triples = satSolve(clauses, tuple2idx)  \n",
    "    chosen_triples.sort(key=lambda trip: trip[1])\n",
    "    # trip = (p,t,v) is a triple where trip[0] = p = chef's_name (aka processor), trip[1] = t = starting time_slot,\n",
    "    # trip[2] = v = instruction index\n",
    "    \n",
    "    return {\n",
    "        chef: list(ChefTask(trip[2])\n",
    "                    for trip in [trip for trip in chosen_triples if trip[0] == chef])\n",
    "        for chef in chefs_list\n",
    "    }\n",
    "\n",
    "\n",
    "def compile_session(session,remaining_indices = None):\n",
    "    if remaining_indices == None:\n",
    "        remaining_indices = remaining_recipe_indices(session)\n",
    "        \n",
    "    future_chef_tasks = recompile_remaining_session(session,remaining_indices)\n",
    "    print(future_chef_tasks)\n",
    "    return Session(session.recipe, {\n",
    "        chef: session.chef_tasks[chef][:next_unstarted_task(session, chef)] + future_chef_tasks[chef] \n",
    "        for chef in session.chef_tasks\n",
    "    })\n",
    "\n"
   ]
  },
  {
   "cell_type": "code",
   "execution_count": 19,
   "id": "6500b2f5",
   "metadata": {
    "scrolled": true
   },
   "outputs": [
    {
     "name": "stdout",
     "output_type": "stream",
     "text": [
      "remaining_instructions are [CookingInstruction(index=0, task='Chop onions', duration=60, attention=True, dependencies=[]), CookingInstruction(index=1, task='Boil water', duration=120, attention=False, dependencies=[0]), CookingInstruction(index=2, task='Saute onions', duration=90, attention=False, dependencies=[0, 1]), CookingInstruction(index=3, task='4 from scretch', duration=40, attention=False, dependencies=[]), CookingInstruction(index=4, task='5 from scretch', duration=50, attention=True, dependencies=[]), CookingInstruction(index=5, task='6 from scretch', duration=60, attention=True, dependencies=[])]\n",
      "starting solver with time_ub =  170\n",
      "timeslot[0] == 0\n",
      "1/6 process does single high attention task\n"
     ]
    },
    {
     "name": "stderr",
     "output_type": "stream",
     "text": [
      "100%|██████████████████████████████████████████████████████████████████████████████████████████████| 36/36 [00:00<00:00, 1253.35it/s]\n"
     ]
    },
    {
     "name": "stdout",
     "output_type": "stream",
     "text": [
      "2/6 resource can do one thing at a time\n"
     ]
    },
    {
     "name": "stderr",
     "output_type": "stream",
     "text": [
      "0it [00:00, ?it/s]\n"
     ]
    },
    {
     "name": "stdout",
     "output_type": "stream",
     "text": [
      "3/6 every vertex is done at least once\n"
     ]
    },
    {
     "name": "stderr",
     "output_type": "stream",
     "text": [
      "100%|███████████████████████████████████████████████████████████████████████████████████████████████| 6/6 [00:00<00:00, 30247.38it/s]\n"
     ]
    },
    {
     "name": "stdout",
     "output_type": "stream",
     "text": [
      "4/6 every task is done at most once\n"
     ]
    },
    {
     "name": "stderr",
     "output_type": "stream",
     "text": [
      "100%|██████████████████████████████████████████████████████████████████████████████████████████████████| 9/9 [00:00<00:00, 17.72it/s]\n"
     ]
    },
    {
     "name": "stdout",
     "output_type": "stream",
     "text": [
      "6/6 the task execution follows the graph structure\n"
     ]
    },
    {
     "name": "stderr",
     "output_type": "stream",
     "text": [
      "100%|██████████████████████████████████████████████████████████████████████████████████████████████████| 3/3 [00:00<00:00, 14.87it/s]\n",
      "100%|█████████████████████████████████████████████████████████████████████████████████| 2361291/2361291 [00:00<00:00, 4936584.00it/s]\n"
     ]
    },
    {
     "name": "stdout",
     "output_type": "stream",
     "text": [
      "timeslot[0] == 0\n",
      "1/6 process does single high attention task\n"
     ]
    },
    {
     "name": "stderr",
     "output_type": "stream",
     "text": [
      "100%|██████████████████████████████████████████████████████████████████████████████████████████████| 36/36 [00:00<00:00, 1118.85it/s]\n"
     ]
    },
    {
     "name": "stdout",
     "output_type": "stream",
     "text": [
      "2/6 resource can do one thing at a time\n"
     ]
    },
    {
     "name": "stderr",
     "output_type": "stream",
     "text": [
      "0it [00:00, ?it/s]\n"
     ]
    },
    {
     "name": "stdout",
     "output_type": "stream",
     "text": [
      "3/6 every vertex is done at least once\n"
     ]
    },
    {
     "name": "stderr",
     "output_type": "stream",
     "text": [
      "100%|███████████████████████████████████████████████████████████████████████████████████████████████| 6/6 [00:00<00:00, 22898.84it/s]\n"
     ]
    },
    {
     "name": "stdout",
     "output_type": "stream",
     "text": [
      "4/6 every task is done at most once\n"
     ]
    },
    {
     "name": "stderr",
     "output_type": "stream",
     "text": [
      "100%|██████████████████████████████████████████████████████████████████████████████████████████████████| 9/9 [00:01<00:00,  7.50it/s]\n"
     ]
    },
    {
     "name": "stdout",
     "output_type": "stream",
     "text": [
      "6/6 the task execution follows the graph structure\n"
     ]
    },
    {
     "name": "stderr",
     "output_type": "stream",
     "text": [
      "100%|██████████████████████████████████████████████████████████████████████████████████████████████████| 3/3 [00:00<00:00,  7.60it/s]\n",
      "100%|█████████████████████████████████████████████████████████████████████████████████| 5104992/5104992 [00:01<00:00, 5023322.81it/s]\n"
     ]
    },
    {
     "name": "stdout",
     "output_type": "stream",
     "text": [
      "timeslot[0] == 0\n",
      "1/6 process does single high attention task\n"
     ]
    },
    {
     "name": "stderr",
     "output_type": "stream",
     "text": [
      "100%|███████████████████████████████████████████████████████████████████████████████████████████████| 36/36 [00:00<00:00, 750.62it/s]\n"
     ]
    },
    {
     "name": "stdout",
     "output_type": "stream",
     "text": [
      "2/6 resource can do one thing at a time\n"
     ]
    },
    {
     "name": "stderr",
     "output_type": "stream",
     "text": [
      "0it [00:00, ?it/s]\n"
     ]
    },
    {
     "name": "stdout",
     "output_type": "stream",
     "text": [
      "3/6 every vertex is done at least once\n"
     ]
    },
    {
     "name": "stderr",
     "output_type": "stream",
     "text": [
      "100%|███████████████████████████████████████████████████████████████████████████████████████████████| 6/6 [00:00<00:00, 28308.01it/s]\n"
     ]
    },
    {
     "name": "stdout",
     "output_type": "stream",
     "text": [
      "4/6 every task is done at most once\n"
     ]
    },
    {
     "name": "stderr",
     "output_type": "stream",
     "text": [
      "100%|██████████████████████████████████████████████████████████████████████████████████████████████████| 9/9 [00:00<00:00, 10.16it/s]\n"
     ]
    },
    {
     "name": "stdout",
     "output_type": "stream",
     "text": [
      "6/6 the task execution follows the graph structure\n"
     ]
    },
    {
     "name": "stderr",
     "output_type": "stream",
     "text": [
      "100%|██████████████████████████████████████████████████████████████████████████████████████████████████| 3/3 [00:00<00:00, 10.17it/s]\n",
      "100%|█████████████████████████████████████████████████████████████████████████████████| 3640305/3640305 [00:00<00:00, 5040102.11it/s]\n"
     ]
    },
    {
     "name": "stdout",
     "output_type": "stream",
     "text": [
      "timeslot[0] == 0\n",
      "1/6 process does single high attention task\n"
     ]
    },
    {
     "name": "stderr",
     "output_type": "stream",
     "text": [
      "100%|██████████████████████████████████████████████████████████████████████████████████████████████| 36/36 [00:00<00:00, 1545.51it/s]\n"
     ]
    },
    {
     "name": "stdout",
     "output_type": "stream",
     "text": [
      "2/6 resource can do one thing at a time\n"
     ]
    },
    {
     "name": "stderr",
     "output_type": "stream",
     "text": [
      "0it [00:00, ?it/s]\n"
     ]
    },
    {
     "name": "stdout",
     "output_type": "stream",
     "text": [
      "3/6 every vertex is done at least once\n"
     ]
    },
    {
     "name": "stderr",
     "output_type": "stream",
     "text": [
      "100%|███████████████████████████████████████████████████████████████████████████████████████████████| 6/6 [00:00<00:00, 27030.96it/s]\n"
     ]
    },
    {
     "name": "stdout",
     "output_type": "stream",
     "text": [
      "4/6 every task is done at most once\n"
     ]
    },
    {
     "name": "stderr",
     "output_type": "stream",
     "text": [
      "100%|██████████████████████████████████████████████████████████████████████████████████████████████████| 9/9 [00:00<00:00, 13.07it/s]\n"
     ]
    },
    {
     "name": "stdout",
     "output_type": "stream",
     "text": [
      "6/6 the task execution follows the graph structure\n"
     ]
    },
    {
     "name": "stderr",
     "output_type": "stream",
     "text": [
      "100%|██████████████████████████████████████████████████████████████████████████████████████████████████| 3/3 [00:00<00:00, 12.71it/s]\n",
      "100%|█████████████████████████████████████████████████████████████████████████████████| 2968128/2968128 [00:00<00:00, 4918028.25it/s]\n"
     ]
    },
    {
     "name": "stdout",
     "output_type": "stream",
     "text": [
      "timeslot[0] == 0\n",
      "1/6 process does single high attention task\n"
     ]
    },
    {
     "name": "stderr",
     "output_type": "stream",
     "text": [
      "100%|██████████████████████████████████████████████████████████████████████████████████████████████| 36/36 [00:00<00:00, 1679.74it/s]\n"
     ]
    },
    {
     "name": "stdout",
     "output_type": "stream",
     "text": [
      "2/6 resource can do one thing at a time\n"
     ]
    },
    {
     "name": "stderr",
     "output_type": "stream",
     "text": [
      "0it [00:00, ?it/s]\n"
     ]
    },
    {
     "name": "stdout",
     "output_type": "stream",
     "text": [
      "3/6 every vertex is done at least once\n"
     ]
    },
    {
     "name": "stderr",
     "output_type": "stream",
     "text": [
      "100%|███████████████████████████████████████████████████████████████████████████████████████████████| 6/6 [00:00<00:00, 31068.92it/s]\n"
     ]
    },
    {
     "name": "stdout",
     "output_type": "stream",
     "text": [
      "4/6 every task is done at most once\n"
     ]
    },
    {
     "name": "stderr",
     "output_type": "stream",
     "text": [
      "100%|██████████████████████████████████████████████████████████████████████████████████████████████████| 9/9 [00:00<00:00, 13.86it/s]\n"
     ]
    },
    {
     "name": "stdout",
     "output_type": "stream",
     "text": [
      "6/6 the task execution follows the graph structure\n"
     ]
    },
    {
     "name": "stderr",
     "output_type": "stream",
     "text": [
      "100%|██████████████████████████████████████████████████████████████████████████████████████████████████| 3/3 [00:00<00:00, 13.39it/s]\n",
      "100%|█████████████████████████████████████████████████████████████████████████████████| 2684193/2684193 [00:00<00:00, 4925050.83it/s]\n"
     ]
    },
    {
     "name": "stdout",
     "output_type": "stream",
     "text": [
      "timeslot[0] == 0\n",
      "1/6 process does single high attention task\n"
     ]
    },
    {
     "name": "stderr",
     "output_type": "stream",
     "text": [
      "100%|██████████████████████████████████████████████████████████████████████████████████████████████| 36/36 [00:00<00:00, 1766.81it/s]\n"
     ]
    },
    {
     "name": "stdout",
     "output_type": "stream",
     "text": [
      "2/6 resource can do one thing at a time\n"
     ]
    },
    {
     "name": "stderr",
     "output_type": "stream",
     "text": [
      "0it [00:00, ?it/s]\n"
     ]
    },
    {
     "name": "stdout",
     "output_type": "stream",
     "text": [
      "3/6 every vertex is done at least once\n"
     ]
    },
    {
     "name": "stderr",
     "output_type": "stream",
     "text": [
      "100%|███████████████████████████████████████████████████████████████████████████████████████████████| 6/6 [00:00<00:00, 21345.06it/s]\n"
     ]
    },
    {
     "name": "stdout",
     "output_type": "stream",
     "text": [
      "4/6 every task is done at most once\n"
     ]
    },
    {
     "name": "stderr",
     "output_type": "stream",
     "text": [
      "100%|██████████████████████████████████████████████████████████████████████████████████████████████████| 9/9 [00:00<00:00, 16.39it/s]\n"
     ]
    },
    {
     "name": "stdout",
     "output_type": "stream",
     "text": [
      "6/6 the task execution follows the graph structure\n"
     ]
    },
    {
     "name": "stderr",
     "output_type": "stream",
     "text": [
      "100%|██████████████████████████████████████████████████████████████████████████████████████████████████| 3/3 [00:00<00:00,  9.96it/s]\n",
      "100%|█████████████████████████████████████████████████████████████████████████████████| 2520312/2520312 [00:00<00:00, 4900576.29it/s]\n"
     ]
    },
    {
     "name": "stdout",
     "output_type": "stream",
     "text": [
      "timeslot[0] == 0\n",
      "1/6 process does single high attention task\n"
     ]
    },
    {
     "name": "stderr",
     "output_type": "stream",
     "text": [
      "100%|██████████████████████████████████████████████████████████████████████████████████████████████| 36/36 [00:00<00:00, 1745.81it/s]\n"
     ]
    },
    {
     "name": "stdout",
     "output_type": "stream",
     "text": [
      "2/6 resource can do one thing at a time\n"
     ]
    },
    {
     "name": "stderr",
     "output_type": "stream",
     "text": [
      "0it [00:00, ?it/s]\n"
     ]
    },
    {
     "name": "stdout",
     "output_type": "stream",
     "text": [
      "3/6 every vertex is done at least once\n"
     ]
    },
    {
     "name": "stderr",
     "output_type": "stream",
     "text": [
      "100%|███████████████████████████████████████████████████████████████████████████████████████████████| 6/6 [00:00<00:00, 30467.10it/s]\n"
     ]
    },
    {
     "name": "stdout",
     "output_type": "stream",
     "text": [
      "4/6 every task is done at most once\n"
     ]
    },
    {
     "name": "stderr",
     "output_type": "stream",
     "text": [
      "100%|██████████████████████████████████████████████████████████████████████████████████████████████████| 9/9 [00:00<00:00, 17.03it/s]\n"
     ]
    },
    {
     "name": "stdout",
     "output_type": "stream",
     "text": [
      "6/6 the task execution follows the graph structure\n"
     ]
    },
    {
     "name": "stderr",
     "output_type": "stream",
     "text": [
      "100%|██████████████████████████████████████████████████████████████████████████████████████████████████| 3/3 [00:00<00:00,  9.74it/s]\n",
      "100%|█████████████████████████████████████████████████████████████████████████████████| 2629026/2629026 [00:00<00:00, 4929659.84it/s]\n"
     ]
    },
    {
     "name": "stdout",
     "output_type": "stream",
     "text": [
      "Final lb,ub =  91 91\n",
      "SAT is done! result = [('Alice', 1, 0), ('Alice', 61, 1), ('Alice', 0, 3), ('Bob', 150, 4), ('Bob', 68, 5), ('Joe', 181, 2)]\n",
      "{'Alice': (ChefTask(instruction_index=3, when_started=None, when_dismissed=None), ChefTask(instruction_index=0, when_started=None, when_dismissed=None), ChefTask(instruction_index=1, when_started=None, when_dismissed=None)), 'Bob': (ChefTask(instruction_index=5, when_started=None, when_dismissed=None), ChefTask(instruction_index=4, when_started=None, when_dismissed=None)), 'Joe': (ChefTask(instruction_index=2, when_started=None, when_dismissed=None),)}\n"
     ]
    }
   ],
   "source": [
    "ret = compile_session(session)"
   ]
  },
  {
   "cell_type": "code",
   "execution_count": 23,
   "id": "ace41d58",
   "metadata": {},
   "outputs": [
    {
     "data": {
      "text/plain": [
       "(ChefTask(instruction_index=3, when_started=None, when_dismissed=None),\n",
       " ChefTask(instruction_index=0, when_started=None, when_dismissed=None),\n",
       " ChefTask(instruction_index=1, when_started=None, when_dismissed=None))"
      ]
     },
     "execution_count": 23,
     "metadata": {},
     "output_type": "execute_result"
    }
   ],
   "source": [
    "ret.chef_tasks['Alice']\n"
   ]
  },
  {
   "cell_type": "code",
   "execution_count": 24,
   "id": "65468804",
   "metadata": {},
   "outputs": [
    {
     "data": {
      "text/plain": [
       "(ChefTask(instruction_index=0, when_started=None, when_dismissed=None),\n",
       " ChefTask(instruction_index=1, when_started=None, when_dismissed=None),\n",
       " ChefTask(instruction_index=3, when_started=None, when_dismissed=None),\n",
       " ChefTask(instruction_index=4, when_started=None, when_dismissed=None),\n",
       " ChefTask(instruction_index=5, when_started=None, when_dismissed=None))"
      ]
     },
     "execution_count": 24,
     "metadata": {},
     "output_type": "execute_result"
    }
   ],
   "source": [
    "session.chef_tasks['Alice']"
   ]
  },
  {
   "cell_type": "code",
   "execution_count": 25,
   "id": "5d054749",
   "metadata": {},
   "outputs": [
    {
     "data": {
      "text/plain": [
       "(ChefTask(instruction_index=5, when_started=None, when_dismissed=None),\n",
       " ChefTask(instruction_index=4, when_started=None, when_dismissed=None))"
      ]
     },
     "execution_count": 25,
     "metadata": {},
     "output_type": "execute_result"
    }
   ],
   "source": [
    "ret.chef_tasks['Bob']\n"
   ]
  },
  {
   "cell_type": "code",
   "execution_count": 26,
   "id": "b28502c0",
   "metadata": {},
   "outputs": [
    {
     "data": {
      "text/plain": [
       "(ChefTask(instruction_index=2, when_started=None, when_dismissed=None),\n",
       " ChefTask(instruction_index=5, when_started=None, when_dismissed=None))"
      ]
     },
     "execution_count": 26,
     "metadata": {},
     "output_type": "execute_result"
    }
   ],
   "source": [
    "session.chef_tasks['Bob']"
   ]
  },
  {
   "cell_type": "code",
   "execution_count": 27,
   "id": "3167bdfc",
   "metadata": {},
   "outputs": [
    {
     "data": {
      "text/plain": [
       "()"
      ]
     },
     "execution_count": 27,
     "metadata": {},
     "output_type": "execute_result"
    }
   ],
   "source": [
    "session.chef_tasks['Joe']"
   ]
  },
  {
   "cell_type": "code",
   "execution_count": 28,
   "id": "8be9c7d3",
   "metadata": {},
   "outputs": [
    {
     "data": {
      "text/plain": [
       "(ChefTask(instruction_index=2, when_started=None, when_dismissed=None),)"
      ]
     },
     "execution_count": 28,
     "metadata": {},
     "output_type": "execute_result"
    }
   ],
   "source": [
    "ret.chef_tasks['Joe']"
   ]
  },
  {
   "cell_type": "code",
   "execution_count": null,
   "id": "b44930fc",
   "metadata": {},
   "outputs": [],
   "source": []
  }
 ],
 "metadata": {
  "kernelspec": {
   "display_name": "Python 3 (ipykernel)",
   "language": "python",
   "name": "python3"
  },
  "language_info": {
   "codemirror_mode": {
    "name": "ipython",
    "version": 3
   },
   "file_extension": ".py",
   "mimetype": "text/x-python",
   "name": "python",
   "nbconvert_exporter": "python",
   "pygments_lexer": "ipython3",
   "version": "3.11.5"
  }
 },
 "nbformat": 4,
 "nbformat_minor": 5
}
